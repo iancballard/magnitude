{
 "cells": [
  {
   "cell_type": "markdown",
   "metadata": {},
   "source": [
    "Because of the partial acquisitions, bbregister fails for some runs of some subjects. First shot at fixing it will be to re-run bbregister with the lyman registration outputs as an initial first guess\n"
   ]
  },
  {
   "cell_type": "code",
   "execution_count": 1,
   "metadata": {
    "collapsed": true
   },
   "outputs": [],
   "source": [
    "from moss.mosaic import Mosaic\n",
    "import nibabel as nib\n",
    "import multiprocessing\n",
    "#os and i/o\n",
    "import os\n",
    "import numpy as np\n",
    "import glob\n",
    "from os.path import abspath\n",
    "import csv\n",
    "import shutil\n",
    "import gc"
   ]
  },
  {
   "cell_type": "code",
   "execution_count": 2,
   "metadata": {
    "collapsed": true
   },
   "outputs": [],
   "source": [
    "#preliminary housekeeping\n",
    "home_dir = '/data/home/iballard/mag/'\n",
    "subj_file = home_dir + 'subjects.txt'\n",
    "sub_list = list(np.loadtxt(subj_file,'string'))\n",
    "os.chdir(home_dir)"
   ]
  },
  {
   "cell_type": "code",
   "execution_count": 21,
   "metadata": {
    "collapsed": false
   },
   "outputs": [],
   "source": [
    "#re-arrange directory structure\n",
    "exp = 'mag'\n",
    "coreg_files = ['func2anat.png','func2anat_tkreg.dat','func2anat_flirt.mat']\n",
    "for sub in sub_list:\n",
    "    for run in range(1,5):\n",
    "        sub_path = home_dir + '/analysis/' + exp + '/' + sub + '/preproc/run_' + str(run) + '/'\n",
    "        orig_coreg = sub_path + 'orig_coreg/'\n",
    "\n",
    "        if os.path.exists(sub_path) and not os.path.exists(orig_coreg):\n",
    "            os.mkdir(orig_coreg)\n",
    "\n",
    "            for f in coreg_files:\n",
    "                old = sub_path + f\n",
    "                new = orig_coreg + f\n",
    "                os.rename(old,new)"
   ]
  },
  {
   "cell_type": "code",
   "execution_count": 43,
   "metadata": {
    "collapsed": false
   },
   "outputs": [
    {
     "name": "stdout",
     "output_type": "stream",
     "text": [
      "bbregister --mov /data/home/iballard/mag//analysis/mag/subject14/preproc/run_4/mean_func_bet.nii.gz --s /data/home/iballard/mag//data/subject14 --bold --init-reg /data/home/iballard/mag//analysis/mag/subject14/preproc/run_4/orig_coreg/func2anat_tkreg.dat --reg /data/home/iballard/mag//analysis/mag/subject14/preproc/run_4/func2anat_tkreg.dat --fslmat /data/home/iballard/mag//analysis/mag/subject14/preproc/run_4/func2anat_flirt.mat --o /data/home/iballard/mag//analysis/mag/subject14/preproc/run_4//coreg_mean_func.nii.gz\n"
     ]
    }
   ],
   "source": [
    "def rerun_coreg(in_tuple):\n",
    "    sub, exp, run = in_tuple\n",
    "    sub_path = home_dir + '/analysis/' + exp + '/' + sub + '/preproc/run_' + str(run) + '/'\n",
    "\n",
    "    if os.path.exists(sub_path):    \n",
    "        #skull strip mean_func\n",
    "        mov_file = sub_path + 'mean_func.nii.gz' \n",
    "        new_mov_file = sub_path + 'mean_func_bet.nii.gz' \n",
    "#         os.remove(new_mov_file)\n",
    "        cmd = ['bet2',mov_file,new_mov_file,'-f','.05']\n",
    "        cmd = ' '.join(cmd)\n",
    "        if not os.path.exists(new_mov_file):\n",
    "            os.system(cmd)\n",
    "        \n",
    "        #run bbregister\n",
    "        fs_dir = home_dir +'/data/' + sub\n",
    "        init_reg = sub_path +  'orig_coreg/func2anat_tkreg.dat'\n",
    "        out_reg = sub_path + 'func2anat_tkreg.dat'\n",
    "        out_reg_fsl = sub_path + 'func2anat_flirt.mat'\n",
    "        out_coreg = sub_path + '/coreg_mean_func.nii.gz'\n",
    "        cmd = ['bbregister','--mov',new_mov_file,'--s',\n",
    "               fs_dir,'--bold','--init-reg', init_reg, \n",
    "               '--reg',out_reg, '--fslmat',out_reg_fsl,\n",
    "               '--o',out_coreg]\n",
    "        cmd = ' '.join(cmd)\n",
    "        print cmd\n",
    "        if not os.path.exists(out_coreg):\n",
    "            os.system(cmd)\n",
    "\n",
    "        #save output\n",
    "        out_png = sub_path + \"func2anat.png\"\n",
    "        wm_file = fs_dir + '/mri/wm.mgz'\n",
    "        wm_data = nib.load(wm_file).get_data().astype(bool).astype(int)\n",
    "#         m = Mosaic(out_coreg, wm_data, step=3)\n",
    "#         m.plot_contours([\"#DD2222\"])\n",
    "#         m.savefig(out_png)\n",
    "#         m.close()\n",
    "rerun_coreg(('subject14','mag',4))"
   ]
  },
  {
   "cell_type": "code",
   "execution_count": 24,
   "metadata": {
    "collapsed": false
   },
   "outputs": [],
   "source": [
    "in_tuples = []\n",
    "for exp in ['mag']:\n",
    "    for sub in sub_list:\n",
    "        for run in range(4,5):\n",
    "            in_tuples.append((sub,exp,run))"
   ]
  },
  {
   "cell_type": "code",
   "execution_count": 25,
   "metadata": {
    "collapsed": false
   },
   "outputs": [],
   "source": [
    "pool = multiprocessing.Pool(processes = 20)\n",
    "output = pool.map(rerun_coreg,in_tuples)\n",
    "pool.terminate()\n",
    "pool.join()"
   ]
  },
  {
   "cell_type": "code",
   "execution_count": 33,
   "metadata": {
    "collapsed": false
   },
   "outputs": [
    {
     "ename": "NameError",
     "evalue": "name 'exp' is not defined",
     "output_type": "error",
     "traceback": [
      "\u001b[1;31m---------------------------------------------------------------------------\u001b[0m",
      "\u001b[1;31mNameError\u001b[0m                                 Traceback (most recent call last)",
      "\u001b[1;32m<ipython-input-33-0a7484210174>\u001b[0m in \u001b[0;36m<module>\u001b[1;34m()\u001b[0m\n\u001b[0;32m      2\u001b[0m \u001b[1;32mfor\u001b[0m \u001b[0msub\u001b[0m \u001b[1;32min\u001b[0m \u001b[0msub_list\u001b[0m\u001b[1;33m:\u001b[0m\u001b[1;33m\u001b[0m\u001b[0m\n\u001b[0;32m      3\u001b[0m     \u001b[1;32mfor\u001b[0m \u001b[0mrun\u001b[0m \u001b[1;32min\u001b[0m \u001b[0mrange\u001b[0m\u001b[1;33m(\u001b[0m\u001b[1;36m1\u001b[0m\u001b[1;33m,\u001b[0m\u001b[1;36m5\u001b[0m\u001b[1;33m)\u001b[0m\u001b[1;33m:\u001b[0m\u001b[1;33m\u001b[0m\u001b[0m\n\u001b[1;32m----> 4\u001b[1;33m         \u001b[0msub_path\u001b[0m \u001b[1;33m=\u001b[0m \u001b[0mhome_dir\u001b[0m \u001b[1;33m+\u001b[0m \u001b[1;34m'/analysis/'\u001b[0m \u001b[1;33m+\u001b[0m \u001b[0mexp\u001b[0m \u001b[1;33m+\u001b[0m \u001b[1;34m'/'\u001b[0m \u001b[1;33m+\u001b[0m \u001b[0msub\u001b[0m \u001b[1;33m+\u001b[0m \u001b[1;34m'/preproc/run_'\u001b[0m \u001b[1;33m+\u001b[0m \u001b[0mstr\u001b[0m\u001b[1;33m(\u001b[0m\u001b[0mrun\u001b[0m\u001b[1;33m)\u001b[0m \u001b[1;33m+\u001b[0m \u001b[1;34m'/'\u001b[0m\u001b[1;33m\u001b[0m\u001b[0m\n\u001b[0m\u001b[0;32m      5\u001b[0m         \u001b[0mf\u001b[0m \u001b[1;33m=\u001b[0m \u001b[0msub_path\u001b[0m \u001b[1;33m+\u001b[0m \u001b[1;34m'func2anat_tkreg.dat.mincost'\u001b[0m\u001b[1;33m\u001b[0m\u001b[0m\n\u001b[0;32m      6\u001b[0m         \u001b[1;32mif\u001b[0m \u001b[0mos\u001b[0m\u001b[1;33m.\u001b[0m\u001b[0mpath\u001b[0m\u001b[1;33m.\u001b[0m\u001b[0mexists\u001b[0m\u001b[1;33m(\u001b[0m\u001b[0mf\u001b[0m\u001b[1;33m)\u001b[0m\u001b[1;33m:\u001b[0m\u001b[1;33m\u001b[0m\u001b[0m\n",
      "\u001b[1;31mNameError\u001b[0m: name 'exp' is not defined"
     ]
    }
   ],
   "source": [
    "redo_tuples = []\n",
    "for sub in sub_list:\n",
    "    for run in range(1,5):\n",
    "        sub_path = home_dir + '/analysis/' + exp + '/' + sub + '/preproc/run_' + str(run) + '/'\n",
    "        f = sub_path + 'func2anat_tkreg.dat.mincost'\n",
    "        if os.path.exists(f):\n",
    "            cost = np.loadtxt(f)\n",
    "            cost = cost[0]\n",
    "            print cost\n",
    "            if cost > .6:\n",
    "                print sub, run\n",
    "                redo_tuples.append((sub,exp,run))\n",
    "        else:\n",
    "            print 'nodata',sub,run"
   ]
  },
  {
   "cell_type": "code",
   "execution_count": 44,
   "metadata": {
    "collapsed": true
   },
   "outputs": [],
   "source": [
    "#make image after hand tweaking troublesome registrations\n",
    "for in_tuple in redo_tuples:\n",
    "    #save output\n",
    "    sub, exp, run = in_tuple\n",
    "    sub_path = home_dir + '/analysis/' + exp + '/' + sub + '/preproc/run_' + str(run) + '/'\n",
    "    fs_dir = home_dir +'/data/' + sub\n",
    "    out_coreg = sub_path + '/coreg_mean_func.nii.gz'\n",
    "        \n",
    "    out_png = sub_path + \"func2anat.png\"\n",
    "    wm_file = fs_dir + '/mri/wm.mgz'\n",
    "    wm_data = nib.load(wm_file).get_data().astype(bool).astype(int)\n",
    "    m = Mosaic(out_coreg, wm_data, step=3)\n",
    "    m.plot_contours([\"#DD2222\"])\n",
    "    m.savefig(out_png)\n",
    "    m.close()"
   ]
  },
  {
   "cell_type": "code",
   "execution_count": 53,
   "metadata": {
    "collapsed": false
   },
   "outputs": [],
   "source": [
    "for sub in sub_list:\n",
    "    for run in range(1,5):\n",
    "        sub_path = home_dir + '/analysis/' + exp + '/' + sub + '/preproc/run_' + str(run) + '/'\n",
    "        if os.path.exists(sub_path):\n",
    "            mask = sub_path + '/functional_mask.nii.gz'\n",
    "            mean = sub_path + '/mean_func.nii.gz'\n",
    "            cmd = ['fslcpgeom',mean,mask]\n",
    "            cmd = ' '.join(cmd)\n",
    "            os.system(cmd)"
   ]
  },
  {
   "cell_type": "code",
   "execution_count": 20,
   "metadata": {
    "collapsed": false
   },
   "outputs": [],
   "source": [
    "#save bbregister params\n",
    "bbregister_dir = home_dir + 'bbregister/'\n",
    "for sub in sub_list:\n",
    "    for run in range(1,5):\n",
    "        run_dir = bbregister_dir + sub +'/' + 'run_' + str(run) + '/'\n",
    "        analysis_dir = home_dir + '/analysis/mag/' + sub + '/preproc/run_' + str(run) + '/'\n",
    "        if os.path.exists(analysis_dir):\n",
    "            reg_files = glob.glob(analysis_dir + 'func2anat*')\n",
    "            for f in reg_files:\n",
    "                cmd = ['cp',f,run_dir]\n",
    "                cmd = ' '.join(cmd)\n",
    "                os.system(cmd)"
   ]
  },
  {
   "cell_type": "code",
   "execution_count": 32,
   "metadata": {
    "collapsed": false
   },
   "outputs": [],
   "source": [
    "#save bbregister params\n",
    "bbregister_dir = home_dir + 'bbregister/'\n",
    "for sub in sub_list:\n",
    "    for run in range(1,5):\n",
    "        run_dir = bbregister_dir + sub + '/' + 'run_' + str(run) + '/'\n",
    "        data_reg_dir = home_dir + 'data/' + sub + '/reg/' + 'run_' + str(run)\n",
    "\n",
    "        if os.path.exists(run_dir):\n",
    "            \n",
    "            reg_files = glob.glob(run_dir + 'func2anat*')\n",
    "            for f in reg_files:\n",
    "                cmd = ['cp',f,data_reg_dir]\n",
    "                cmd = ' '.join(cmd)\n",
    "#                 os.system(cmd)"
   ]
  },
  {
   "cell_type": "code",
   "execution_count": 24,
   "metadata": {
    "collapsed": false
   },
   "outputs": [],
   "source": [
    "data_dir = home_dir + 'data/'\n",
    "for sub in sub_list:\n",
    "    data_reg = data_dir + sub + '/reg/'\n",
    "    for run in range(1,5):\n",
    "        d = data_reg + 'run_' + str(run)\n",
    "        os.mkdir(d)\n"
   ]
  },
  {
   "cell_type": "code",
   "execution_count": 4,
   "metadata": {
    "collapsed": false
   },
   "outputs": [
    {
     "name": "stdout",
     "output_type": "stream",
     "text": [
      "80.3173\n",
      "91.5632\n",
      "73.4163\n",
      "85.9613\n"
     ]
    }
   ],
   "source": [
    "data_dir = home_dir + 'analysis/mag/'\n",
    "for sub in ['asu1']:\n",
    "    data_reg = data_dir + sub + '/preproc/'\n",
    "    for run in range(1,5):\n",
    "        d = data_reg + 'run_' + str(run)\n",
    "        mask= d +'/functional_mask.nii.gz'\n",
    "        f = d + '/unsmoothed_timeseries.nii.gz'\n",
    "        data = nib.load(f).get_data()\n",
    "        mask = nib.load(mask).get_data()\n",
    "        data = data[mask.astype(bool)]\n",
    "        tsnr = data.mean(axis = 1) / data.std(axis = 1)\n",
    "        print np.median(tsnr)\n"
   ]
  },
  {
   "cell_type": "code",
   "execution_count": 6,
   "metadata": {
    "collapsed": false
   },
   "outputs": [
    {
     "name": "stdout",
     "output_type": "stream",
     "text": [
      "asu4 0 0.628112\n",
      "asu4 1 0.629543\n",
      "asu4 2 0.669468\n",
      "asu4 3 0.651203\n",
      "asu8 0 0.726286\n",
      "asu8 1 0.725355\n",
      "asu8 2 0.768752\n",
      "asu8 3 0.771027\n",
      "asu9 0 0.653548\n",
      "asu9 1 0.667343\n",
      "asu9 2 0.62086\n"
     ]
    }
   ],
   "source": [
    "redo_tuples = []\n",
    "exp = 'mag'\n",
    "for sub in ['asu4','asu8','asu9']:\n",
    "    for run in range(0,4):\n",
    "        sub_path = home_dir + '/analysis/workingdir/mag/preproc/bbregister/_subject_id_' + \\\n",
    "            sub + '/func2anat/mapflow/_func2anat' + str(run) + '/'\n",
    "        f = sub_path + 'func2anat_tkreg.dat.mincost'\n",
    "        if os.path.exists(f):\n",
    "            cost = np.loadtxt(f)\n",
    "            cost = cost[0]\n",
    "            if cost > .6:\n",
    "                print sub, run,  cost\n",
    "                redo_tuples.append((sub,exp,run))\n",
    "        else:\n",
    "            print 'nodata',sub,run"
   ]
  },
  {
   "cell_type": "code",
   "execution_count": null,
   "metadata": {
    "collapsed": true
   },
   "outputs": [],
   "source": []
  }
 ],
 "metadata": {
  "kernelspec": {
   "display_name": "Python 2",
   "language": "python",
   "name": "python2"
  },
  "language_info": {
   "codemirror_mode": {
    "name": "ipython",
    "version": 2
   },
   "file_extension": ".py",
   "mimetype": "text/x-python",
   "name": "python",
   "nbconvert_exporter": "python",
   "pygments_lexer": "ipython2",
   "version": "2.7.11"
  }
 },
 "nbformat": 4,
 "nbformat_minor": 0
}
