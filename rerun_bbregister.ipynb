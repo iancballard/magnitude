{
 "cells": [
  {
   "cell_type": "markdown",
   "metadata": {},
   "source": [
    "Because of the partial acquisitions, bbregister fails for some runs of some subjects. First shot at fixing it will be to re-run bbregister with the lyman registration outputs as an initial first guess\n"
   ]
  },
  {
   "cell_type": "code",
   "execution_count": 1,
   "metadata": {
    "collapsed": true
   },
   "outputs": [],
   "source": [
    "from moss.mosaic import Mosaic\n",
    "import nibabel as nib\n",
    "import multiprocessing\n",
    "#os and i/o\n",
    "import os\n",
    "import numpy as np\n",
    "import glob\n",
    "from os.path import abspath\n",
    "import csv\n",
    "import shutil\n",
    "import gc"
   ]
  },
  {
   "cell_type": "code",
   "execution_count": 2,
   "metadata": {
    "collapsed": true
   },
   "outputs": [],
   "source": [
    "#preliminary housekeeping\n",
    "home_dir = '/data/home/iballard/mag/'\n",
    "subj_file = home_dir + 'subjects.txt'\n",
    "sub_list = list(np.loadtxt(subj_file,'string'))\n",
    "os.chdir(home_dir)"
   ]
  },
  {
   "cell_type": "code",
   "execution_count": 21,
   "metadata": {
    "collapsed": false
   },
   "outputs": [],
   "source": [
    "#re-arrange directory structure\n",
    "exp = 'mag'\n",
    "coreg_files = ['func2anat.png','func2anat_tkreg.dat','func2anat_flirt.mat']\n",
    "for sub in sub_list:\n",
    "    for run in range(1,5):\n",
    "        sub_path = home_dir + '/analysis/' + exp + '/' + sub + '/preproc/run_' + str(run) + '/'\n",
    "        orig_coreg = sub_path + 'orig_coreg/'\n",
    "\n",
    "        if os.path.exists(sub_path) and not os.path.exists(orig_coreg):\n",
    "            os.mkdir(orig_coreg)\n",
    "\n",
    "            for f in coreg_files:\n",
    "                old = sub_path + f\n",
    "                new = orig_coreg + f\n",
    "                os.rename(old,new)"
   ]
  },
  {
   "cell_type": "code",
   "execution_count": 43,
   "metadata": {
    "collapsed": false
   },
   "outputs": [
    {
     "name": "stdout",
     "output_type": "stream",
     "text": [
      "bbregister --mov /data/home/iballard/mag//analysis/mag/subject14/preproc/run_4/mean_func_bet.nii.gz --s /data/home/iballard/mag//data/subject14 --bold --init-reg /data/home/iballard/mag//analysis/mag/subject14/preproc/run_4/orig_coreg/func2anat_tkreg.dat --reg /data/home/iballard/mag//analysis/mag/subject14/preproc/run_4/func2anat_tkreg.dat --fslmat /data/home/iballard/mag//analysis/mag/subject14/preproc/run_4/func2anat_flirt.mat --o /data/home/iballard/mag//analysis/mag/subject14/preproc/run_4//coreg_mean_func.nii.gz\n"
     ]
    }
   ],
   "source": [
    "def rerun_coreg(in_tuple):\n",
    "    sub, exp, run = in_tuple\n",
    "    sub_path = home_dir + '/analysis/' + exp + '/' + sub + '/preproc/run_' + str(run) + '/'\n",
    "\n",
    "    if os.path.exists(sub_path):    \n",
    "        #skull strip mean_func\n",
    "        mov_file = sub_path + 'mean_func.nii.gz' \n",
    "        new_mov_file = sub_path + 'mean_func_bet.nii.gz' \n",
    "#         os.remove(new_mov_file)\n",
    "        cmd = ['bet2',mov_file,new_mov_file,'-f','.05']\n",
    "        cmd = ' '.join(cmd)\n",
    "        if not os.path.exists(new_mov_file):\n",
    "            os.system(cmd)\n",
    "        \n",
    "        #run bbregister\n",
    "        fs_dir = home_dir +'/data/' + sub\n",
    "        init_reg = sub_path +  'orig_coreg/func2anat_tkreg.dat'\n",
    "        out_reg = sub_path + 'func2anat_tkreg.dat'\n",
    "        out_reg_fsl = sub_path + 'func2anat_flirt.mat'\n",
    "        out_coreg = sub_path + '/coreg_mean_func.nii.gz'\n",
    "        cmd = ['bbregister','--mov',new_mov_file,'--s',\n",
    "               fs_dir,'--bold','--init-reg', init_reg, \n",
    "               '--reg',out_reg, '--fslmat',out_reg_fsl,\n",
    "               '--o',out_coreg]\n",
    "        cmd = ' '.join(cmd)\n",
    "        print cmd\n",
    "        if not os.path.exists(out_coreg):\n",
    "            os.system(cmd)\n",
    "\n",
    "        #save output\n",
    "        out_png = sub_path + \"func2anat.png\"\n",
    "        wm_file = fs_dir + '/mri/wm.mgz'\n",
    "        wm_data = nib.load(wm_file).get_data().astype(bool).astype(int)\n",
    "#         m = Mosaic(out_coreg, wm_data, step=3)\n",
    "#         m.plot_contours([\"#DD2222\"])\n",
    "#         m.savefig(out_png)\n",
    "#         m.close()\n",
    "rerun_coreg(('subject14','mag',4))"
   ]
  },
  {
   "cell_type": "code",
   "execution_count": 24,
   "metadata": {
    "collapsed": false
   },
   "outputs": [],
   "source": [
    "in_tuples = []\n",
    "for exp in ['mag']:\n",
    "    for sub in sub_list:\n",
    "        for run in range(4,5):\n",
    "            in_tuples.append((sub,exp,run))"
   ]
  },
  {
   "cell_type": "code",
   "execution_count": 25,
   "metadata": {
    "collapsed": false
   },
   "outputs": [],
   "source": [
    "pool = multiprocessing.Pool(processes = 20)\n",
    "output = pool.map(rerun_coreg,in_tuples)\n",
    "pool.terminate()\n",
    "pool.join()"
   ]
  },
  {
   "cell_type": "code",
   "execution_count": 46,
   "metadata": {
    "collapsed": false
   },
   "outputs": [
    {
     "name": "stdout",
     "output_type": "stream",
     "text": [
      "0.492148\n",
      "0.490176\n",
      "0.487275\n",
      "0.484607\n",
      "0.461239\n",
      "0.463207\n",
      "0.464501\n",
      "0.462331\n",
      "0.55356\n",
      "0.553509\n",
      "0.55518\n",
      "0.558624\n",
      "0.440556\n",
      "0.442542\n",
      "0.454576\n",
      "0.445424\n",
      "0.473904\n",
      "0.477038\n",
      "0.488446\n",
      "0.498954\n",
      "0.431487\n",
      "0.437099\n",
      "0.463472\n",
      "nodata subject09 4\n",
      "0.48515\n",
      "0.487702\n",
      "0.49193\n",
      "0.491115\n",
      "0.430224\n",
      "0.43262\n",
      "0.433923\n",
      "0.435068\n",
      "0.497191\n",
      "0.507853\n",
      "0.493062\n",
      "0.501537\n",
      "0.420219\n",
      "0.423924\n",
      "0.435528\n",
      "0.441342\n",
      "0.537177\n",
      "0.561796\n",
      "0.548525\n",
      "0.553554\n",
      "0.437964\n",
      "0.436719\n",
      "0.465622\n",
      "0.436623\n",
      "0.439644\n",
      "0.442133\n",
      "0.448892\n",
      "0.449193\n",
      "0.551406\n",
      "0.549727\n",
      "0.550997\n",
      "0.55018\n"
     ]
    }
   ],
   "source": [
    "redo_tuples = []\n",
    "for sub in sub_list:\n",
    "    for run in range(1,5):\n",
    "        sub_path = home_dir + '/analysis/' + exp + '/' + sub + '/preproc/run_' + str(run) + '/'\n",
    "        f = sub_path + 'func2anat_tkreg.dat.mincost'\n",
    "        if os.path.exists(f):\n",
    "            cost = np.loadtxt(f)\n",
    "            cost = cost[0]\n",
    "            print cost\n",
    "            if cost > .6:\n",
    "                print sub, run\n",
    "                redo_tuples.append((sub,exp,run))\n",
    "        else:\n",
    "            print 'nodata',sub,run"
   ]
  },
  {
   "cell_type": "code",
   "execution_count": 44,
   "metadata": {
    "collapsed": true
   },
   "outputs": [],
   "source": [
    "#make image after hand tweaking troublesome registrations\n",
    "for in_tuple in redo_tuples:\n",
    "    #save output\n",
    "    sub, exp, run = in_tuple\n",
    "    sub_path = home_dir + '/analysis/' + exp + '/' + sub + '/preproc/run_' + str(run) + '/'\n",
    "    fs_dir = home_dir +'/data/' + sub\n",
    "    out_coreg = sub_path + '/coreg_mean_func.nii.gz'\n",
    "        \n",
    "    out_png = sub_path + \"func2anat.png\"\n",
    "    wm_file = fs_dir + '/mri/wm.mgz'\n",
    "    wm_data = nib.load(wm_file).get_data().astype(bool).astype(int)\n",
    "    m = Mosaic(out_coreg, wm_data, step=3)\n",
    "    m.plot_contours([\"#DD2222\"])\n",
    "    m.savefig(out_png)\n",
    "    m.close()"
   ]
  },
  {
   "cell_type": "code",
   "execution_count": 53,
   "metadata": {
    "collapsed": false
   },
   "outputs": [],
   "source": [
    "for sub in sub_list:\n",
    "    for run in range(1,5):\n",
    "        sub_path = home_dir + '/analysis/' + exp + '/' + sub + '/preproc/run_' + str(run) + '/'\n",
    "        if os.path.exists(sub_path):\n",
    "            mask = sub_path + '/functional_mask.nii.gz'\n",
    "            mean = sub_path + '/mean_func.nii.gz'\n",
    "            cmd = ['fslcpgeom',mean,mask]\n",
    "            cmd = ' '.join(cmd)\n",
    "            os.system(cmd)"
   ]
  },
  {
   "cell_type": "code",
   "execution_count": null,
   "metadata": {
    "collapsed": true
   },
   "outputs": [],
   "source": []
  }
 ],
 "metadata": {
  "kernelspec": {
   "display_name": "Python 2",
   "language": "python",
   "name": "python2"
  },
  "language_info": {
   "codemirror_mode": {
    "name": "ipython",
    "version": 2
   },
   "file_extension": ".py",
   "mimetype": "text/x-python",
   "name": "python",
   "nbconvert_exporter": "python",
   "pygments_lexer": "ipython2",
   "version": "2.7.11"
  }
 },
 "nbformat": 4,
 "nbformat_minor": 0
}
