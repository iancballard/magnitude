{
 "cells": [
  {
   "cell_type": "code",
   "execution_count": 1454,
   "metadata": {
    "collapsed": true
   },
   "outputs": [],
   "source": [
    "import os\n",
    "import glob\n",
    "import numpy as np\n",
    "import multiprocessing\n",
    "import pandas as pd\n",
    "import nibabel as nib\n",
    "import scipy\n",
    "import matplotlib\n",
    "import seaborn as sns\n",
    "import statsmodels\n",
    "import matplotlib.pyplot as plt\n",
    "from statsmodels.stats.multitest import multipletests, _ecdf as ecdf, fdrcorrection as fdrcorrection0, fdrcorrection_twostage\n",
    "%matplotlib inline"
   ]
  },
  {
   "cell_type": "code",
   "execution_count": 1537,
   "metadata": {
    "collapsed": false
   },
   "outputs": [],
   "source": [
    "#preliminary housekeeping\n",
    "home_dir = '/data/home/iballard/mag/'\n",
    "subj_file = home_dir + 'subjects.txt'\n",
    "subs = list(np.loadtxt(subj_file,'string'))\n",
    "os.chdir(home_dir)\n",
    "exp = 'mag-maxSV'\n",
    "runs = map(str,range(1,5))\n",
    "smoothing = 'smoothed'"
   ]
  },
  {
   "cell_type": "code",
   "execution_count": 1560,
   "metadata": {
    "collapsed": true
   },
   "outputs": [],
   "source": [
    "contrast = 'decision'\n",
    "# rois = ['Cont','Attn'] #substrings that identify prefrontal ROIS\n",
    "\n",
    "rois = ['_amfg',\n",
    "        '_pmfg',\n",
    "        '_fpc',\n",
    "        '_ifg',\n",
    "        '_psfs',\n",
    "        '_asfs',\n",
    "        '_ifs',\n",
    "       '_ains']"
   ]
  },
  {
   "cell_type": "code",
   "execution_count": 1561,
   "metadata": {
    "collapsed": false
   },
   "outputs": [],
   "source": [
    "df = pd.DataFrame(columns=('sub','contrast','mask_vox','hemi','label','value'))\n",
    "\n",
    "for sub in subs:\n",
    "    cope = home_dir + '/analysis/' + exp + '/' + sub + '/ffx/epi/' + smoothing + '/' + contrast + '/cope1.nii.gz'\n",
    "    cope = nib.load(cope).get_data()\n",
    "    \n",
    "    masks = glob.glob(home_dir + '/data/' + sub + '/masks/*.*nii.gz')\n",
    "    masks = [m for m in masks if any(substring in m for substring in rois)]\n",
    "#     masks = [m for m in masks if any(substring in m for substring in ['PFC','OFC'])]\n",
    "\n",
    "    for m in masks:\n",
    "        hemi = m.split('/')[-1].split('.')[0]\n",
    "        label = m.split('/')[-1].split('.')[1]\n",
    "        m = nib.load(m).get_data().astype(bool)\n",
    "        num_voxels = m.sum()\n",
    "        func_masked = cope[m]\n",
    "        row = pd.DataFrame([dict(sub = sub, \n",
    "                                 contrast =contrast, \n",
    "                                 mask_vox = num_voxels, \n",
    "                                 hemi = hemi,\n",
    "                                 label = label, \n",
    "                                 value = func_masked.mean()), ])\n",
    "        df = df.append(row, ignore_index = True)"
   ]
  },
  {
   "cell_type": "code",
   "execution_count": 1562,
   "metadata": {
    "collapsed": false,
    "scrolled": true
   },
   "outputs": [
    {
     "data": {
      "image/png": "[encoded data removed]",
      "text/plain": [
       "<matplotlib.figure.Figure at 0x7f606d2f3e10>"
      ]
     },
     "metadata": {},
     "output_type": "display_data"
    }
   ],
   "source": [
    "sns.factorplot(x='label', y='value', col='contrast', \n",
    "               aspect=4, kind='bar', col_wrap=4,\n",
    "               ci=68, palette='husl',\n",
    "               units='sub', data=df)\n",
    "plt.savefig('/home/iballard/Dropbox/mag_figs/' + contrast + '.png')"
   ]
  },
  {
   "cell_type": "code",
   "execution_count": 1563,
   "metadata": {
    "collapsed": false,
    "scrolled": true
   },
   "outputs": [],
   "source": [
    "results_df =pd.DataFrame(columns=('contrast','label','hemi','p_unc'))\n",
    "for roi in set(df['label']):\n",
    "    for hemi in ['lh','rh']:\n",
    "        vals = df.ix[(df['label'] == roi) & (df['hemi'] == hemi),'value'].values\n",
    "        t,p = scipy.stats.wilcoxon(vals)\n",
    "        row = pd.DataFrame([dict(contrast = contrast, \n",
    "                                 label = roi,\n",
    "                                 hemi = hemi,\n",
    "                                p_unc = p), ])\n",
    "        results_df = results_df.append(row, ignore_index = True)\n",
    "\n",
    "results_df = results_df.dropna()\n",
    "sig,pcorr = fdrcorrection0(results_df['p_unc'],.05)\n",
    "results_df['p_corr'] = pcorr\n",
    "results_df['sig'] = sig\n",
    "\n",
    "# results_df"
   ]
  },
  {
   "cell_type": "code",
   "execution_count": 1564,
   "metadata": {
    "collapsed": false
   },
   "outputs": [
    {
     "name": "stdout",
     "output_type": "stream",
     "text": [
      "   contrast       label     p_unc    p_corr    sig\n",
      "0  decision   yeo17_ifg  0.000037  0.000129   True\n",
      "1  decision   yeo17_fpc  0.000004  0.000031   True\n",
      "2  decision  yeo17_amfg  0.293068  0.293068  False\n",
      "3  decision  yeo17_ains  0.006837  0.009572   True\n",
      "4  decision   yeo17_ifs  0.000199  0.000465   True\n",
      "5  decision  yeo17_pmfg  0.020716  0.024169   True\n",
      "6  decision  yeo17_psfs  0.001252  0.002191   True\n"
     ]
    }
   ],
   "source": [
    "results_df =pd.DataFrame(columns=('contrast','label','p_unc'))\n",
    "for roi in set(df['label']):\n",
    "    vals = df.ix[df['label'] == roi,'value'].values\n",
    "    t,p = scipy.stats.wilcoxon(vals)\n",
    "    row = pd.DataFrame([dict(contrast = contrast, \n",
    "                             label = roi,\n",
    "                            p_unc = p), ])\n",
    "    results_df = results_df.append(row, ignore_index = True)\n",
    "sig,pcorr = fdrcorrection0(results_df['p_unc'],.05)\n",
    "results_df['p_corr'] = pcorr\n",
    "results_df['sig'] = sig\n",
    "\n",
    "print results_df"
   ]
  },
  {
   "cell_type": "code",
   "execution_count": 1516,
   "metadata": {
    "collapsed": false,
    "scrolled": true
   },
   "outputs": [
    {
     "data": {
      "text/html": [
       "<div style=\"max-height:1000px;max-width:1500px;overflow:auto;\">\n",
       "<table border=\"1\" class=\"dataframe\">\n",
       "  <thead>\n",
       "    <tr style=\"text-align: right;\">\n",
       "      <th></th>\n",
       "      <th>contrast</th>\n",
       "      <th>label</th>\n",
       "      <th>p_unc</th>\n",
       "      <th>p_corr</th>\n",
       "      <th>sig</th>\n",
       "    </tr>\n",
       "  </thead>\n",
       "  <tbody>\n",
       "    <tr>\n",
       "      <th>1</th>\n",
       "      <td>high_minus_low</td>\n",
       "      <td>yeo17_fpc</td>\n",
       "      <td>0.002058</td>\n",
       "      <td>0.014406</td>\n",
       "      <td>True</td>\n",
       "    </tr>\n",
       "  </tbody>\n",
       "</table>\n",
       "</div>"
      ],
      "text/plain": [
       "         contrast      label     p_unc    p_corr   sig\n",
       "1  high_minus_low  yeo17_fpc  0.002058  0.014406  True"
      ]
     },
     "execution_count": 1516,
     "metadata": {},
     "output_type": "execute_result"
    }
   ],
   "source": [
    "results_df[results_df['sig']]"
   ]
  },
  {
   "cell_type": "code",
   "execution_count": 1510,
   "metadata": {
    "collapsed": false
   },
   "outputs": [
    {
     "data": {
      "text/html": [
       "<div style=\"max-height:1000px;max-width:1500px;overflow:auto;\">\n",
       "<table border=\"1\" class=\"dataframe\">\n",
       "  <thead>\n",
       "    <tr style=\"text-align: right;\">\n",
       "      <th></th>\n",
       "      <th>contrast</th>\n",
       "      <th>label</th>\n",
       "      <th>p_unc</th>\n",
       "      <th>p_corr</th>\n",
       "      <th>sig</th>\n",
       "    </tr>\n",
       "  </thead>\n",
       "  <tbody>\n",
       "  </tbody>\n",
       "</table>\n",
       "</div>"
      ],
      "text/plain": [
       "Empty DataFrame\n",
       "Columns: [contrast, label, p_unc, p_corr, sig]\n",
       "Index: []"
      ]
     },
     "execution_count": 1510,
     "metadata": {},
     "output_type": "execute_result"
    }
   ],
   "source": [
    "results_df[results_df['sig']]"
   ]
  },
  {
   "cell_type": "code",
   "execution_count": 1237,
   "metadata": {
    "collapsed": false
   },
   "outputs": [
    {
     "data": {
      "text/html": [
       "<div style=\"max-height:1000px;max-width:1500px;overflow:auto;\">\n",
       "<table border=\"1\" class=\"dataframe\">\n",
       "  <thead>\n",
       "    <tr style=\"text-align: right;\">\n",
       "      <th></th>\n",
       "      <th>contrast</th>\n",
       "      <th>label</th>\n",
       "      <th>p_unc</th>\n",
       "      <th>p_corr</th>\n",
       "      <th>sig</th>\n",
       "    </tr>\n",
       "  </thead>\n",
       "  <tbody>\n",
       "    <tr>\n",
       "      <th>26</th>\n",
       "      <td>high_minus_low_SV</td>\n",
       "      <td>17Networks_RH_SalVentAttnA_PrC</td>\n",
       "      <td>0.001341</td>\n",
       "      <td>0.024581</td>\n",
       "      <td>True</td>\n",
       "    </tr>\n",
       "    <tr>\n",
       "      <th>35</th>\n",
       "      <td>high_minus_low_SV</td>\n",
       "      <td>17Networks_DorsAttnB_PostC</td>\n",
       "      <td>0.000745</td>\n",
       "      <td>0.020485</td>\n",
       "      <td>True</td>\n",
       "    </tr>\n",
       "    <tr>\n",
       "      <th>41</th>\n",
       "      <td>high_minus_low_SV</td>\n",
       "      <td>17Networks_DorsAttnB_FEF</td>\n",
       "      <td>0.000248</td>\n",
       "      <td>0.013664</td>\n",
       "      <td>True</td>\n",
       "    </tr>\n",
       "  </tbody>\n",
       "</table>\n",
       "</div>"
      ],
      "text/plain": [
       "             contrast                           label     p_unc    p_corr  \\\n",
       "26  high_minus_low_SV  17Networks_RH_SalVentAttnA_PrC  0.001341  0.024581   \n",
       "35  high_minus_low_SV      17Networks_DorsAttnB_PostC  0.000745  0.020485   \n",
       "41  high_minus_low_SV        17Networks_DorsAttnB_FEF  0.000248  0.013664   \n",
       "\n",
       "     sig  \n",
       "26  True  \n",
       "35  True  \n",
       "41  True  "
      ]
     },
     "execution_count": 1237,
     "metadata": {},
     "output_type": "execute_result"
    }
   ],
   "source": [
    "results_df[results_df['sig']]"
   ]
  },
  {
   "cell_type": "code",
   "execution_count": null,
   "metadata": {
    "collapsed": true
   },
   "outputs": [],
   "source": []
  }
 ],
 "metadata": {
  "kernelspec": {
   "display_name": "Python 2",
   "language": "python",
   "name": "python2"
  },
  "language_info": {
   "codemirror_mode": {
    "name": "ipython",
    "version": 2
   },
   "file_extension": ".py",
   "mimetype": "text/x-python",
   "name": "python",
   "nbconvert_exporter": "python",
   "pygments_lexer": "ipython2",
   "version": "2.7.11"
  }
 },
 "nbformat": 4,
 "nbformat_minor": 0
}
