{
 "cells": [
  {
   "cell_type": "code",
   "execution_count": 8,
   "metadata": {
    "collapsed": true
   },
   "outputs": [],
   "source": [
    "import os\n",
    "import os.path as op\n",
    "import glob\n",
    "import numpy as np\n",
    "import pandas as pd\n",
    "from pandas import DataFrame\n",
    "import nibabel as nib\n",
    "import scipy\n",
    "import matplotlib\n",
    "import seaborn as sns\n",
    "import statsmodels\n",
    "import matplotlib.pyplot as plt\n",
    "from statsmodels.stats.multitest import multipletests, _ecdf as ecdf, fdrcorrection as fdrcorrection0, fdrcorrection_twostage\n",
    "%matplotlib inline"
   ]
  },
  {
   "cell_type": "code",
   "execution_count": 9,
   "metadata": {
    "collapsed": false
   },
   "outputs": [],
   "source": [
    "#preliminary housekeeping\n",
    "home_dir = '/data/home/iballard/mag/'\n",
    "subj_file = home_dir + 'subjects.txt'\n",
    "subs = list(np.loadtxt(subj_file,'string'))\n",
    "os.chdir(home_dir)\n",
    "runs = map(str,range(1,5))"
   ]
  },
  {
   "cell_type": "code",
   "execution_count": 10,
   "metadata": {
    "collapsed": true
   },
   "outputs": [],
   "source": [
    "sns.set_context('paper',font_scale = 2.5)\n",
    "sns.set(font=\"Times New Roman\")\n",
    "sns.set_style(\"white\")"
   ]
  },
  {
   "cell_type": "code",
   "execution_count": 77,
   "metadata": {
    "collapsed": true
   },
   "outputs": [],
   "source": [
    "smoothing = 'smoothed'\n",
    "regspace = 'epi'\n",
    "\n",
    "exp = 'mag-SVtotaldiff'\n",
    "\n",
    "rois = ['_amfg',\n",
    "        '_pmfg',\n",
    "        '_fpc',\n",
    "        '_ifg',\n",
    "        '_psfs',\n",
    "        '_ifs',\n",
    "       '_ains',\n",
    "       'h.vmpfc']"
   ]
  },
  {
   "cell_type": "code",
   "execution_count": 78,
   "metadata": {
    "collapsed": false
   },
   "outputs": [],
   "source": [
    "def extract_copes(exp,regspace,smoothing,contrast):\n",
    "    df = pd.DataFrame(columns=('sub','contrast','mask_vox','hemi','label','value'))\n",
    "\n",
    "    for sub in subs:\n",
    "        cope = home_dir + '/analysis/' + exp + '/' + sub + '/ffx/' + regspace + \\\n",
    "            '/' + smoothing + '/' + contrast + '/cope1.nii.gz'\n",
    "        cope = nib.load(cope).get_data()\n",
    "\n",
    "        masks = glob.glob(home_dir + '/data/' + sub + '/masks/*.*nii.gz')\n",
    "        masks = [m for m in masks if any(substring in m for substring in rois)]\n",
    "\n",
    "        for m in masks:\n",
    "            if len(m.split('/')[-1].split('.'))==4:\n",
    "                hemi = m.split('/')[-1].split('.')[0]\n",
    "                label = m.split('/')[-1].split('.')[1]\n",
    "            else:\n",
    "                hemi = 'na'\n",
    "                label = m.split('/')[-1].split('.')[0]\n",
    "\n",
    "            m = nib.load(m).get_data().astype(bool)\n",
    "            num_voxels = m.sum()\n",
    "            func_masked = cope[m]\n",
    "            row = pd.DataFrame([dict(sub = sub, \n",
    "                                     contrast =contrast, \n",
    "                                     mask_vox = num_voxels, \n",
    "                                     hemi = hemi,\n",
    "                                     label = label, \n",
    "                                     value = func_masked.mean()), ])\n",
    "            df = df.append(row, ignore_index = True)\n",
    "    return df"
   ]
  },
  {
   "cell_type": "code",
   "execution_count": 79,
   "metadata": {
    "collapsed": true
   },
   "outputs": [],
   "source": [
    "def plot_fig(df,contrast):\n",
    "    plt.figure(figsize=(4, 8))\n",
    "    sns.factorplot(x='ROI', y='value', col='contrast', \n",
    "                   aspect=2, kind='bar',ci=68, \n",
    "                   units='sub', data=df,\n",
    "                   palette = custom_palette,\n",
    "                  x_order = roi_plotting_order)\n",
    "    plt.ylabel('Beta (AU)')\n",
    "    plt.title(title_map[contrast])\n",
    "#     plt.savefig('/home/iballard/Dropbox/mag_figs/' + contrast + '.svg')"
   ]
  },
  {
   "cell_type": "code",
   "execution_count": 80,
   "metadata": {
    "collapsed": false
   },
   "outputs": [],
   "source": [
    "def run_stats(df):\n",
    "    results_df =pd.DataFrame(columns=('contrast','label','nvox','std_vox','p_unc'))\n",
    "    for roi in set(df['label']):\n",
    "        vals = df.ix[df['label'] == roi,'value'].values\n",
    "        vox = df.ix[df['label'] == roi,'mask_vox'].values\n",
    "\n",
    "        t,p = scipy.stats.wilcoxon(vals)\n",
    "        \n",
    "        \n",
    "        row = pd.DataFrame([dict(contrast = contrast, \n",
    "                                 label = roi,\n",
    "                                 nvox = np.mean(vox),\n",
    "                                 std_vox = np.std(vox),\n",
    "                                p_unc = p), ])\n",
    "        results_df = results_df.append(row, ignore_index = True)\n",
    "    sig,pcorr = fdrcorrection0(results_df['p_unc'],.05)\n",
    "    results_df['p_corr'] = pcorr\n",
    "    results_df['sig'] = sig\n",
    "    return results_df"
   ]
  },
  {
   "cell_type": "code",
   "execution_count": 81,
   "metadata": {
    "collapsed": false
   },
   "outputs": [],
   "source": [
    "label_map = {'yeo17_amfg':'aMFG','yeo17_pmfg':'pMFG','yeo17_ains':'aINS','yeo17_fpc':'FPC',\n",
    "            'yeo17_ifs':'IFS','yeo17_ifg':'IFG','yeo17_psfs':'FEF','vmpfc_bartre':'vmPFC'}\n",
    "roi_plotting_order = ['IFS','FPC','pMFG','FEF','aINS','IFG','aMFG','vmPFC']"
   ]
  },
  {
   "cell_type": "code",
   "execution_count": 82,
   "metadata": {
    "collapsed": false
   },
   "outputs": [
    {
     "data": {
      "image/png": "[encoded data removed]",
      "text/plain": [
       "<matplotlib.figure.Figure at 0x7f6e88c4ab90>"
      ]
     },
     "metadata": {},
     "output_type": "display_data"
    }
   ],
   "source": [
    "#get colors from ROI figure and match them\n",
    "ctab = '/home/iballard/mag/data/fsaverage/label/pfc.ctab'\n",
    "color = np.loadtxt(ctab,object)\n",
    "custom_palette = []\n",
    "for row in color:\n",
    "    rgb = (int(row[2]),int(row[3]),int(row[4]))\n",
    "    hex_rgb = '#%02x%02x%02x' % rgb\n",
    "    roi_id = label_map[row[1]]\n",
    "    custom_palette.append((hex_rgb, roi_id))\n",
    "\n",
    "custom_palette.sort(key=lambda x: roi_plotting_order.index(x[1]))\n",
    "custom_palette = [x[0] for x in custom_palette]\n",
    "\n",
    "sns.set_palette(custom_palette)\n",
    "sns.palplot(sns.color_palette())"
   ]
  },
  {
   "cell_type": "code",
   "execution_count": 83,
   "metadata": {
    "collapsed": false,
    "scrolled": true
   },
   "outputs": [],
   "source": [
    "def run_contrast(exp,regspace,smoothing,contrast):\n",
    "    df = extract_copes(exp,regspace,smoothing,contrast)\n",
    "    df['ROI'] = [label_map[x] for x in df['label'].values]\n",
    "    \n",
    "    df.to_csv('/home/iballard/Dropbox/Magnitude_fMRI/roi_analysis/' + exp  + '_' + contrast + '.csv',\n",
    "              index = False)\n",
    "    \n",
    "    plot_fig(df,contrast)\n",
    "    results = run_stats(df)\n",
    "    \n",
    "    return results"
   ]
  },
  {
   "cell_type": "code",
   "execution_count": 84,
   "metadata": {
    "collapsed": false
   },
   "outputs": [],
   "source": [
    "contrasts = ['decision',\n",
    "             'SV_total',\n",
    "             'neg_SV_diff',\n",
    "             'low_minus_high_SV_diff',\n",
    "             'high_minus_low_SV',\n",
    "            'high_minus_low']\n",
    "title_map = {'decision': 'Decision Period',\n",
    "             'SV_total': 'Subjective Value',\n",
    "             'neg_SV_diff': 'Difficulty',\n",
    "             'low_minus_high_SV_diff': 'Difficulty (High minus Low Magnitude)',\n",
    "             'high_minus_low_SV': 'Subjective Value (High minus Low Magnitude)',\n",
    "            'high_minus_low': 'High minus Low Magnitude'}\n"
   ]
  },
  {
   "cell_type": "code",
   "execution_count": 89,
   "metadata": {
    "collapsed": false
   },
   "outputs": [],
   "source": [
    "all_results = []\n",
    "\n",
    "for contrast in contrasts:\n",
    "    results = run_contrast(exp,regspace,smoothing,contrast)\n",
    "    all_results.append(results.copy())\n",
    "    \n",
    "all_results = pd.concat(all_results)\n",
    "all_results = all_results.set_index(['contrast'])"
   ]
  },
  {
   "cell_type": "code",
   "execution_count": null,
   "metadata": {
    "collapsed": true
   },
   "outputs": [],
   "source": []
  }
 ],
 "metadata": {
  "kernelspec": {
   "display_name": "Python 2",
   "language": "python",
   "name": "python2"
  },
  "language_info": {
   "codemirror_mode": {
    "name": "ipython",
    "version": 2
   },
   "file_extension": ".py",
   "mimetype": "text/x-python",
   "name": "python",
   "nbconvert_exporter": "python",
   "pygments_lexer": "ipython2",
   "version": "2.7.11"
  }
 },
 "nbformat": 4,
 "nbformat_minor": 0
}
