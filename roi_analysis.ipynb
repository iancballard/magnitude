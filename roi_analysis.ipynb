{
 "cells": [
  {
   "cell_type": "code",
   "execution_count": 1,
   "metadata": {
    "collapsed": true
   },
   "outputs": [],
   "source": [
    "import os\n",
    "import os.path as op\n",
    "import glob\n",
    "import numpy as np\n",
    "import pandas as pd\n",
    "from pandas import DataFrame\n",
    "import nibabel as nib\n",
    "import scipy\n",
    "import matplotlib\n",
    "import seaborn as sns\n",
    "import statsmodels\n",
    "import matplotlib.pyplot as plt\n",
    "import statsmodels.formula.api as smf\n",
    "from statsmodels.stats.multitest import multipletests, _ecdf as ecdf, fdrcorrection as fdrcorrection0, fdrcorrection_twostage\n",
    "%matplotlib inline"
   ]
  },
  {
   "cell_type": "code",
   "execution_count": 1179,
   "metadata": {
    "collapsed": false
   },
   "outputs": [],
   "source": [
    "#preliminary housekeeping\n",
    "home_dir = '/data/home/iballard/mag/'\n",
    "subj_file = home_dir + 'subjects.txt'\n",
    "subs = list(np.loadtxt(subj_file,'string'))\n",
    "os.chdir(home_dir)\n",
    "runs = map(str,range(1,5))"
   ]
  },
  {
   "cell_type": "code",
   "execution_count": 1180,
   "metadata": {
    "collapsed": true
   },
   "outputs": [],
   "source": [
    "sns.set_context('paper',font_scale = 2.5)\n",
    "sns.set(font=\"Times New Roman\")\n",
    "sns.set_style(\"white\")"
   ]
  },
  {
   "cell_type": "code",
   "execution_count": 1207,
   "metadata": {
    "collapsed": true
   },
   "outputs": [],
   "source": [
    "smoothing = 'smoothed'\n",
    "regspace = 'epi'\n",
    "\n",
    "exp = 'mag-SVtotaldiff'\n",
    "\n",
    "rois = ['_amfg',\n",
    "        '_pmfg',\n",
    "        '_fpc',\n",
    "        '_ifg',\n",
    "        '_psfs',\n",
    "        '_ifs',\n",
    "       '_ains',\n",
    "       '.vmpfc_']"
   ]
  },
  {
   "cell_type": "code",
   "execution_count": 1208,
   "metadata": {
    "collapsed": true
   },
   "outputs": [],
   "source": [
    "# subs = [x for x in subs if x!= 'subject09']"
   ]
  },
  {
   "cell_type": "code",
   "execution_count": 1209,
   "metadata": {
    "collapsed": false
   },
   "outputs": [],
   "source": [
    "def extract_copes(exp,regspace,smoothing,contrast):\n",
    "    df = pd.DataFrame(columns=('sub','contrast','mask_vox','hemi','label','value'))\n",
    "\n",
    "    for sub in subs:\n",
    "        cope = home_dir + '/analysis/' + exp + '/' + sub + '/ffx/' + regspace + \\\n",
    "            '/' + smoothing + '/' + contrast + '/cope1.nii.gz'\n",
    "        cope = nib.load(cope).get_data()\n",
    "\n",
    "        masks = glob.glob(home_dir + '/data/' + sub + '/masks/*.*nii.gz')\n",
    "        masks = [m for m in masks if any(substring in m for substring in rois)]\n",
    "\n",
    "        for m in masks:\n",
    "            if len(m.split('/')[-1].split('.'))==4:\n",
    "                hemi = m.split('/')[-1].split('.')[0]\n",
    "                label = m.split('/')[-1].split('.')[1]\n",
    "            else:\n",
    "                hemi = 'na'\n",
    "                label = m.split('/')[-1].split('.')[0]\n",
    "\n",
    "            m = nib.load(m).get_data().astype(bool)\n",
    "            num_voxels = m.sum()\n",
    "            func_masked = cope[m]\n",
    "            row = pd.DataFrame([dict(sub = sub, \n",
    "                                     contrast =contrast, \n",
    "                                     mask_vox = num_voxels, \n",
    "                                     hemi = hemi,\n",
    "                                     label = label, \n",
    "                                     value = np.mean(func_masked)), ])\n",
    "            df = df.append(row, ignore_index = True)\n",
    "    return df\n",
    "# extract_copes(exp,regspace,smoothing,contrast)"
   ]
  },
  {
   "cell_type": "code",
   "execution_count": 1184,
   "metadata": {
    "collapsed": false
   },
   "outputs": [],
   "source": [
    "# def extract_copes(exp,regspace,smoothing,contrast):\n",
    "#     df = pd.DataFrame(columns=('sub','contrast','run','HL','mask_vox','hemi','label','value'))\n",
    "\n",
    "#     for sub in subs:\n",
    "        \n",
    "#         sub_dir = op.join(home_dir,'analysis',exp,sub,'reg','epi','smoothed')\n",
    "#         nruns = len(glob.glob(sub_dir + '/run_*'))\n",
    "        \n",
    "#         for run in range(1,nruns+1):\n",
    "#             cope = op.join(sub_dir, 'run_' + str(run), \n",
    "#                            'cope' + contrast2cope[contrast] + '_xfm.nii.gz')\n",
    "\n",
    "#             cope = nib.load(cope).get_data()\n",
    "\n",
    "#             masks = glob.glob(home_dir + '/data/' + sub + '/masks/*.*nii.gz')\n",
    "#             masks = [m for m in masks if any(substring in m for substring in rois)]\n",
    "            \n",
    "#             if run in [1,2] and sub[0] == 'a':\n",
    "#                 hl = 'high'\n",
    "#             if run in [1,2] and sub[0] == 's':\n",
    "#                 hl = 'low'\n",
    "#             if run in [3,4] and sub[0] == 'a':\n",
    "#                 hl = 'low'\n",
    "#             if run in [3,4] and sub[0] == 's':\n",
    "#                 hl = 'high'                \n",
    "                \n",
    "#             for m in masks:\n",
    "#                 if len(m.split('/')[-1].split('.'))==4:\n",
    "#                     hemi = m.split('/')[-1].split('.')[0]\n",
    "#                     label = m.split('/')[-1].split('.')[1]\n",
    "#                 else:\n",
    "#                     hemi = 'na'\n",
    "#                     label = m.split('/')[-1].split('.')[0]\n",
    "\n",
    "#                 m = nib.load(m).get_data().astype(bool)\n",
    "#                 num_voxels = m.sum()\n",
    "#                 func_masked = cope[m]\n",
    "#                 row = pd.DataFrame([dict(sub = sub, \n",
    "#                                          contrast =contrast, \n",
    "#                                          mask_vox = num_voxels, \n",
    "#                                          hemi = hemi,\n",
    "#                                          label = label,\n",
    "#                                          run = run,\n",
    "#                                          HL = hl,\n",
    "#                                          value = np.median(func_masked)), ])\n",
    "#                 df = df.append(row, ignore_index = True)\n",
    "#     return df"
   ]
  },
  {
   "cell_type": "code",
   "execution_count": null,
   "metadata": {
    "collapsed": true
   },
   "outputs": [],
   "source": []
  },
  {
   "cell_type": "code",
   "execution_count": 1185,
   "metadata": {
    "collapsed": false
   },
   "outputs": [],
   "source": [
    "# def extract_copes(exp,regspace,smoothing,contrast):\n",
    "#     df = pd.DataFrame(columns=('sub','contrast','mask_vox','hemi','label','value'))\n",
    "\n",
    "#     for sub in subs:\n",
    "#         cope = home_dir + '/analysis/' + exp + '/' + sub + '/ffx/' + regspace + \\\n",
    "#             '/' + smoothing + '/' + contrast + '/cope1.nii.gz'\n",
    "#         cope = nib.load(cope).get_data()\n",
    "\n",
    "#         masks = glob.glob(home_dir + '/data/' + sub + '/masks/*.*nii.gz')\n",
    "#         masks = [m for m in masks if any(substring in m for substring in rois)]\n",
    "\n",
    "#         masks = [m.split('/')[-1].split('.')[1] for m in masks]\n",
    "#         for m in masks:\n",
    "#             m1 = op.join(home_dir,'data',sub,'masks','lh.' + m + '.nii.gz')\n",
    "#             m2 = op.join(home_dir,'data',sub,'masks','rh.' + m + '.nii.gz')\n",
    "#             m1 = nib.load(m1).get_data().astype(bool)\n",
    "#             m2 = nib.load(m2).get_data().astype(bool)\n",
    "#             mask = np.logical_or(m1,m2)\n",
    "            \n",
    "#             num_voxels = mask.sum()\n",
    "#             func_masked = cope[mask]\n",
    "#             hemi = 'na'\n",
    "#             row = pd.DataFrame([dict(sub = sub, \n",
    "#                                      contrast = contrast, \n",
    "#                                      mask_vox = num_voxels, \n",
    "#                                      hemi = hemi,\n",
    "#                                      label = m, \n",
    "#                                      value = np.median(func_masked)), ])\n",
    "#             df = df.append(row, ignore_index = True)\n",
    "#     return df\n",
    "# # extract_copes(exp,regspace,smoothing,contrast)"
   ]
  },
  {
   "cell_type": "code",
   "execution_count": 1262,
   "metadata": {
    "collapsed": false
   },
   "outputs": [],
   "source": [
    "df = pd.DataFrame({'ROI':['a','b'],\n",
    "                  'val': [0.0,0.0],\n",
    "                  'err':[1.0,2.0]})\n",
    "df['ROI'] = pd.Categorical(df['ROI'], ['b','a'])\n",
    "df = df.sort('ROI')"
   ]
  },
  {
   "cell_type": "code",
   "execution_count": 1263,
   "metadata": {
    "collapsed": false
   },
   "outputs": [
    {
     "data": {
      "text/plain": [
       "<matplotlib.axes._subplots.AxesSubplot at 0x7f55f610a110>"
      ]
     },
     "execution_count": 1263,
     "metadata": {},
     "output_type": "execute_result"
    },
    {
     "data": {
      "image/png": "[encoded data removed]",
      "text/plain": [
       "<matplotlib.figure.Figure at 0x7f55f55ed090>"
      ]
     },
     "metadata": {},
     "output_type": "display_data"
    }
   ],
   "source": [
    "sns.barplot(x='ROI',y='val',data = df,\n",
    "#                 x_order = ['b','a'],\n",
    "            **{'yerr':df['err'],\n",
    "               'error_kw':dict(ecolor='grey', lw=2.5)})"
   ]
  },
  {
   "cell_type": "code",
   "execution_count": 1291,
   "metadata": {
    "collapsed": true
   },
   "outputs": [],
   "source": [
    "def plot_fig(res,contrast):\n",
    "    plt.figure(figsize=(10, 6))\n",
    "#     sns.factorplot(x='ROI', y='value', col='contrast', \n",
    "#                    aspect=2, kind='bar',ci=68, \n",
    "#                    units='sub', data=df,\n",
    "#                    palette = custom_palette,\n",
    "#                   x_order = roi_plotting_order)\n",
    "    #relabel\n",
    "    res = res.copy()\n",
    "    res['ROI'] = [label_map[x] for x in res['label'].values]\n",
    "    \n",
    "    #sort dataframe\n",
    "    res['ROI'] = pd.Categorical(res['ROI'],roi_plotting_order)\n",
    "    res = res.sort('ROI')\n",
    "\n",
    "    #plot\n",
    "    sns.barplot(x='ROI',y='val',data = res,\n",
    "                **{'yerr':res['err'],\n",
    "                   'error_kw':dict(ecolor='grey', lw=2.5)}\n",
    "                )\n",
    "    sns.despine()\n",
    "    plt.ylabel('Beta (AU)')\n",
    "    plt.title(title_map[contrast])\n",
    "    plt.savefig('/home/iballard/Dropbox/mag_figs/' + contrast + '.svg')"
   ]
  },
  {
   "cell_type": "code",
   "execution_count": 1187,
   "metadata": {
    "collapsed": false
   },
   "outputs": [],
   "source": [
    "# def run_stats(df):\n",
    "#     results_df =pd.DataFrame(columns=('contrast','label','nvox','std_vox','p_unc'))\n",
    "#     for roi in set(df['label']):\n",
    "        \n",
    "#         new = df[df['label'] == roi].groupby(['contrast','label','sub']).mean() #average over hemi\n",
    "#         vals = new.loc[(contrast,roi)]['value'].values\n",
    "#         vox =  new.loc[(contrast,roi)]['mask_vox'].values\n",
    "\n",
    "\n",
    "# #         t,p = scipy.stats.wilcoxon(vals)\n",
    "#         t,p = scipy.stats.ttest_1samp(vals,0)\n",
    "        \n",
    "        \n",
    "#         row = pd.DataFrame([dict(contrast = contrast, \n",
    "#                                  label = roi,\n",
    "#                                  nvox = np.mean(vox),\n",
    "#                                  std_vox = np.std(vox),\n",
    "#                                 p_unc = p), ])\n",
    "#         results_df = results_df.append(row, ignore_index = True)\n",
    "#     sig,pcorr = fdrcorrection0(results_df['p_unc'],.05)\n",
    "#     results_df['p_corr'] = pcorr\n",
    "#     results_df['sig'] = sig\n",
    "#     return results_df"
   ]
  },
  {
   "cell_type": "code",
   "execution_count": 1188,
   "metadata": {
    "collapsed": false
   },
   "outputs": [],
   "source": [
    "label_map = {'yeo17_amfg':'aMFG','yeo17_pmfg':'pMFG','yeo17_ains':'aINS','yeo17_fpc':'FPC',\n",
    "            'yeo17_ifs':'IFS','yeo17_ifg':'IFG','yeo17_psfs':'FEF','vmpfc_bartre':'vmPFC',\n",
    "            'vmpfc_bilateral':'vmPFC','mag_figure3D_vmpfc_bartre_mask':'vmPFC'}\n",
    "roi_plotting_order = ['IFS','FPC','pMFG','FEF','aINS','IFG','aMFG','vmPFC']"
   ]
  },
  {
   "cell_type": "code",
   "execution_count": 1189,
   "metadata": {
    "collapsed": false
   },
   "outputs": [
    {
     "data": {
      "image/png": "[encoded data removed]",
      "text/plain": [
       "<matplotlib.figure.Figure at 0x7f55f61fe110>"
      ]
     },
     "metadata": {},
     "output_type": "display_data"
    }
   ],
   "source": [
    "#get colors from ROI figure and match them\n",
    "ctab = '/home/iballard/mag/data/fsaverage/label/pfc.ctab'\n",
    "color = np.loadtxt(ctab,object)\n",
    "custom_palette = []\n",
    "for row in color:\n",
    "    rgb = (int(row[2]),int(row[3]),int(row[4]))\n",
    "    hex_rgb = '#%02x%02x%02x' % rgb\n",
    "    roi_id = label_map[row[1]]\n",
    "    custom_palette.append((hex_rgb, roi_id))\n",
    "\n",
    "custom_palette.sort(key=lambda x: roi_plotting_order.index(x[1]))\n",
    "custom_palette = [x[0] for x in custom_palette]\n",
    "\n",
    "sns.set_palette(custom_palette)\n",
    "sns.palplot(sns.color_palette())"
   ]
  },
  {
   "cell_type": "code",
   "execution_count": 1293,
   "metadata": {
    "collapsed": false,
    "scrolled": true
   },
   "outputs": [],
   "source": [
    "def run_contrast(exp,regspace,smoothing,contrast):\n",
    "    df = extract_copes(exp,regspace,smoothing,contrast)\n",
    "    df['ROI'] = [label_map[x] for x in df['label'].values]\n",
    "    \n",
    "    df.to_csv('/home/iballard/Dropbox/Magnitude_fMRI/roi_analysis/' + exp  + '_' + contrast + '.csv',\n",
    "              index = False)\n",
    "    \n",
    "    results = run_stats(df)\n",
    "    results['ROI'] = [label_map[x] for x in results['label'].values]\n",
    "\n",
    "    plot_fig(results,contrast)\n",
    "\n",
    "    return results"
   ]
  },
  {
   "cell_type": "code",
   "execution_count": 1294,
   "metadata": {
    "collapsed": false
   },
   "outputs": [],
   "source": [
    "def run_stats(df):\n",
    "    results_df =pd.DataFrame(columns=('contrast','label','nvox',\n",
    "                                      'std_vox','p_unc','val','err'))\n",
    "    for roi in set(df['label']):\n",
    "\n",
    "        new = df[df['label'] == roi]\n",
    "\n",
    "        #run mixed effects model\n",
    "        model_str = 'value ~ 1'\n",
    "        mixedfx = smf.mixedlm(model_str, new, groups = new['sub'])    \n",
    "        mixedfx = mixedfx.fit()\n",
    "        \n",
    "        #extract p value and errors\n",
    "        p = mixedfx.pvalues['Intercept']\n",
    "        val = mixedfx.params[0]\n",
    "#         err = mixedfx.bse_fe[0] #standard error\n",
    "        conf_int = mixedfx.conf_int()\n",
    "        err = (conf_int.loc['Intercept',1] - conf_int.loc['Intercept',0]) / 2.0 #plots 95% conf\n",
    "        \n",
    "        #update dataframe\n",
    "        row = pd.DataFrame([dict(contrast = contrast, \n",
    "                                 label = roi,\n",
    "                                 nvox = np.mean(new['mask_vox']),\n",
    "                                 val = val,\n",
    "                                 err = err,\n",
    "                                p_unc = p), ])\n",
    "        results_df = results_df.append(row, ignore_index = True)\n",
    "    sig,pcorr,a1,a2 = multipletests(results_df['p_unc'],.05,method = 'fdr_tsbh')\n",
    "    results_df['p_corr'] = pcorr\n",
    "    results_df['sig'] = sig\n",
    "    return results_df\n"
   ]
  },
  {
   "cell_type": "code",
   "execution_count": 1205,
   "metadata": {
    "collapsed": false
   },
   "outputs": [
    {
     "name": "stdout",
     "output_type": "stream",
     "text": [
      "Ttest_1sampResult(statistic=3.0386134452250935, pvalue=0.0043435977814088086)\n",
      "WilcoxonResult(statistic=35.0, pvalue=0.015755486091547432)\n",
      "Ttest_1sampResult(statistic=2.4536716035119608, pvalue=0.024556449400465207)\n"
     ]
    }
   ],
   "source": [
    "print scipy.stats.ttest_1samp(ifs['value'],0)\n",
    "print scipy.stats.wilcoxon(ifs.groupby(['sub']).mean()['value'])\n",
    "print scipy.stats.ttest_1samp(ifs.groupby(['sub']).mean()['value'],0)\n"
   ]
  },
  {
   "cell_type": "code",
   "execution_count": 1296,
   "metadata": {
    "collapsed": false
   },
   "outputs": [
    {
     "name": "stdout",
     "output_type": "stream",
     "text": [
      "yeo17_ifg high_minus_low\n",
      "yeo17_fpc high_minus_low\n",
      "yeo17_amfg high_minus_low\n",
      "yeo17_ains high_minus_low\n"
     ]
    },
    {
     "name": "stderr",
     "output_type": "stream",
     "text": [
      "/home/iballard/.local/lib/python2.7/site-packages/statsmodels/regression/mixed_linear_model.py:1717: ConvergenceWarning: The MLE may be on the boundary of the parameter space.\n",
      "  warnings.warn(msg, ConvergenceWarning)\n",
      "/home/iballard/.local/lib/python2.7/site-packages/statsmodels/regression/mixed_linear_model.py:1717: ConvergenceWarning: The MLE may be on the boundary of the parameter space.\n",
      "  warnings.warn(msg, ConvergenceWarning)\n"
     ]
    },
    {
     "name": "stdout",
     "output_type": "stream",
     "text": [
      "yeo17_ifs high_minus_low\n",
      "yeo17_pmfg high_minus_low\n",
      "vmpfc_bartre high_minus_low\n",
      "yeo17_psfs high_minus_low\n"
     ]
    }
   ],
   "source": [
    "df = extract_copes(exp,regspace,smoothing,'decision')\n",
    "df['ROI'] = [label_map[x] for x in df['label'].values]\n",
    "results = run_stats(df)\n",
    "results['ROI'] = [label_map[x] for x in results['label'].values]\n",
    "# plot_fig(results,contrast)\n",
    "df = df.set_index(['ROI'])"
   ]
  },
  {
   "cell_type": "code",
   "execution_count": 1243,
   "metadata": {
    "collapsed": false
   },
   "outputs": [
    {
     "name": "stdout",
     "output_type": "stream",
     "text": [
      "         Mixed Linear Model Regression Results\n",
      "======================================================\n",
      "Model:            MixedLM Dependent Variable: value   \n",
      "No. Observations: 38      Method:             REML    \n",
      "No. Groups:       19      Scale:              2.7714  \n",
      "Min. group size:  2       Likelihood:         -81.9103\n",
      "Max. group size:  2       Converged:          Yes     \n",
      "Mean group size:  2.0                                 \n",
      "------------------------------------------------------\n",
      "              Coef. Std.Err.   z   P>|z| [0.025 0.975]\n",
      "------------------------------------------------------\n",
      "Intercept     1.132    0.439 2.580 0.010  0.272  1.991\n",
      "Intercept RE  2.271    1.082                          \n",
      "======================================================\n",
      "\n"
     ]
    }
   ],
   "source": [
    "ifs = df.loc[('IFS')]\n",
    "model_str = 'value ~ 1'\n",
    "mixedfx = smf.mixedlm(model_str, ifs, groups = ifs['sub'])    \n",
    "mixedfx = mixedfx.fit()\n",
    "print mixedfx.summary()\n",
    "# mixedfx.pvalues['Intercept']"
   ]
  },
  {
   "cell_type": "code",
   "execution_count": 178,
   "metadata": {
    "collapsed": false
   },
   "outputs": [],
   "source": [
    "df.to_csv('/home/iballard/Dropbox/mag_figs/roi_results.csv',index = False)"
   ]
  },
  {
   "cell_type": "code",
   "execution_count": 245,
   "metadata": {
    "collapsed": false
   },
   "outputs": [],
   "source": [
    "contrasts = ['decision',\n",
    "             'SV_total',\n",
    "             'neg_SV_diff',\n",
    "             'low_minus_high_SV_diff',\n",
    "             'high_minus_low_SV',\n",
    "            'high_minus_low']\n",
    "contrast2cope = {'decision':'1',\n",
    "                 'SV_total':'20',\n",
    "                 'neg_SV_diff':'11',\n",
    "                 'low_minus_high_SV_diff':'13',\n",
    "                 'high_minus_low_SV':'21',\n",
    "                 'high_minus_low':'14'}\n",
    "\n",
    "title_map = {'rt':'rt',\n",
    "             'high_minus_low_dm': 'high_minus_low_decision',\n",
    "             'diff':'Difficulty',\n",
    "             'high_minus_low_diff':'Difficulty (High minus Low Magnitude)',\n",
    "             'decision_motor': 'decision_motor',\n",
    "             'decision': 'Decision Period',\n",
    "             'SV_total': 'Subjective Value',\n",
    "             'neg_SV_diff': 'Difficulty',\n",
    "             'SV_max': 'Subjective Value',\n",
    "             'low_minus_high_SV_diff': 'Difficulty (High minus Low Magnitude)',\n",
    "             'high_minus_low_SV': 'Subjective Value (High minus Low Magnitude)',\n",
    "            'high_minus_low': 'High minus Low Magnitude'}\n"
   ]
  },
  {
   "cell_type": "code",
   "execution_count": 1290,
   "metadata": {
    "collapsed": false
   },
   "outputs": [],
   "source": [
    "# pd.concat([all_results[0][['ROI','p_unc','p_corr','sig']],all_results[1][['ROI','p_unc','p_corr','sig']]])"
   ]
  },
  {
   "cell_type": "code",
   "execution_count": 1295,
   "metadata": {
    "collapsed": false,
    "scrolled": true
   },
   "outputs": [
    {
     "name": "stdout",
     "output_type": "stream",
     "text": [
      "yeo17_ifg decision\n",
      "yeo17_fpc decision\n",
      "yeo17_amfg decision\n",
      "yeo17_ains decision\n"
     ]
    },
    {
     "name": "stderr",
     "output_type": "stream",
     "text": [
      "/home/iballard/.local/lib/python2.7/site-packages/statsmodels/regression/mixed_linear_model.py:1717: ConvergenceWarning: The MLE may be on the boundary of the parameter space.\n",
      "  warnings.warn(msg, ConvergenceWarning)\n",
      "/home/iballard/.local/lib/python2.7/site-packages/statsmodels/regression/mixed_linear_model.py:1717: ConvergenceWarning: The MLE may be on the boundary of the parameter space.\n",
      "  warnings.warn(msg, ConvergenceWarning)\n"
     ]
    },
    {
     "name": "stdout",
     "output_type": "stream",
     "text": [
      "yeo17_ifs decision\n",
      "yeo17_pmfg decision\n",
      "vmpfc_bartre decision\n",
      "yeo17_psfs decision\n",
      "yeo17_ifg SV_total\n",
      "yeo17_fpc SV_total\n",
      "yeo17_amfg SV_total\n",
      "yeo17_ains SV_total\n",
      "yeo17_ifs SV_total\n",
      "yeo17_pmfg SV_total\n",
      "vmpfc_bartre SV_total\n",
      "yeo17_psfs SV_total\n",
      "yeo17_ifg neg_SV_diff\n",
      "yeo17_fpc neg_SV_diff\n",
      "yeo17_amfg neg_SV_diff\n",
      "yeo17_ains neg_SV_diff\n",
      "yeo17_ifs neg_SV_diff\n",
      "yeo17_pmfg neg_SV_diff\n",
      "vmpfc_bartre neg_SV_diff\n",
      "yeo17_psfs neg_SV_diff\n",
      "yeo17_ifg low_minus_high_SV_diff\n",
      "yeo17_fpc low_minus_high_SV_diff\n",
      "yeo17_amfg low_minus_high_SV_diff\n",
      "yeo17_ains low_minus_high_SV_diff\n",
      "yeo17_ifs low_minus_high_SV_diff\n",
      "yeo17_pmfg low_minus_high_SV_diff\n",
      "vmpfc_bartre low_minus_high_SV_diff\n",
      "yeo17_psfs low_minus_high_SV_diff\n",
      "yeo17_ifg high_minus_low_SV\n",
      "yeo17_fpc high_minus_low_SV\n",
      "yeo17_amfg high_minus_low_SV\n",
      "yeo17_ains high_minus_low_SV\n",
      "yeo17_ifs high_minus_low_SV\n",
      "yeo17_pmfg high_minus_low_SV\n",
      "vmpfc_bartre high_minus_low_SV\n",
      "yeo17_psfs high_minus_low_SV\n",
      "yeo17_ifg high_minus_low\n",
      "yeo17_fpc high_minus_low\n",
      "yeo17_amfg high_minus_low\n",
      "yeo17_ains high_minus_low\n",
      "yeo17_ifs high_minus_low\n",
      "yeo17_pmfg high_minus_low\n",
      "vmpfc_bartre high_minus_low\n",
      "yeo17_psfs high_minus_low\n"
     ]
    }
   ],
   "source": [
    "all_results = []\n",
    "\n",
    "for contrast in contrasts:\n",
    "    results = run_contrast(exp,regspace,smoothing,contrast)\n",
    "    all_results.append(results.copy())\n",
    "    \n",
    "all_results = pd.concat(all_results)\n",
    "all_results = all_results.set_index(['contrast'])"
   ]
  },
  {
   "cell_type": "code",
   "execution_count": 1213,
   "metadata": {
    "collapsed": false
   },
   "outputs": [
    {
     "data": {
      "text/html": [
       "<div style=\"max-height:1000px;max-width:1500px;overflow:auto;\">\n",
       "<table border=\"1\" class=\"dataframe\">\n",
       "  <thead>\n",
       "    <tr style=\"text-align: right;\">\n",
       "      <th></th>\n",
       "      <th>ROI</th>\n",
       "      <th>p_unc</th>\n",
       "      <th>p_corr</th>\n",
       "      <th>sig</th>\n",
       "    </tr>\n",
       "    <tr>\n",
       "      <th>contrast</th>\n",
       "      <th></th>\n",
       "      <th></th>\n",
       "      <th></th>\n",
       "      <th></th>\n",
       "    </tr>\n",
       "  </thead>\n",
       "  <tbody>\n",
       "    <tr>\n",
       "      <th>decision</th>\n",
       "      <td>IFG</td>\n",
       "      <td>6.289789e-07</td>\n",
       "      <td>4.717342e-07</td>\n",
       "      <td>True</td>\n",
       "    </tr>\n",
       "    <tr>\n",
       "      <th>decision</th>\n",
       "      <td>FPC</td>\n",
       "      <td>1.322992e-02</td>\n",
       "      <td>7.937951e-03</td>\n",
       "      <td>True</td>\n",
       "    </tr>\n",
       "    <tr>\n",
       "      <th>decision</th>\n",
       "      <td>aMFG</td>\n",
       "      <td>5.383516e-02</td>\n",
       "      <td>2.691758e-02</td>\n",
       "      <td>True</td>\n",
       "    </tr>\n",
       "    <tr>\n",
       "      <th>decision</th>\n",
       "      <td>aINS</td>\n",
       "      <td>3.119109e-09</td>\n",
       "      <td>4.678664e-09</td>\n",
       "      <td>True</td>\n",
       "    </tr>\n",
       "    <tr>\n",
       "      <th>decision</th>\n",
       "      <td>IFS</td>\n",
       "      <td>6.722772e-08</td>\n",
       "      <td>6.722772e-08</td>\n",
       "      <td>True</td>\n",
       "    </tr>\n",
       "    <tr>\n",
       "      <th>decision</th>\n",
       "      <td>pMFG</td>\n",
       "      <td>3.775405e-01</td>\n",
       "      <td>1.415777e-01</td>\n",
       "      <td>False</td>\n",
       "    </tr>\n",
       "    <tr>\n",
       "      <th>decision</th>\n",
       "      <td>vmPFC</td>\n",
       "      <td>2.181896e-38</td>\n",
       "      <td>6.545687e-38</td>\n",
       "      <td>True</td>\n",
       "    </tr>\n",
       "    <tr>\n",
       "      <th>decision</th>\n",
       "      <td>FEF</td>\n",
       "      <td>3.078905e-01</td>\n",
       "      <td>1.319531e-01</td>\n",
       "      <td>False</td>\n",
       "    </tr>\n",
       "    <tr>\n",
       "      <th>SV_total</th>\n",
       "      <td>IFG</td>\n",
       "      <td>5.069563e-01</td>\n",
       "      <td>6.159608e-01</td>\n",
       "      <td>False</td>\n",
       "    </tr>\n",
       "    <tr>\n",
       "      <th>SV_total</th>\n",
       "      <td>FPC</td>\n",
       "      <td>8.434879e-01</td>\n",
       "      <td>7.380519e-01</td>\n",
       "      <td>False</td>\n",
       "    </tr>\n",
       "    <tr>\n",
       "      <th>SV_total</th>\n",
       "      <td>aMFG</td>\n",
       "      <td>4.175301e-01</td>\n",
       "      <td>6.159608e-01</td>\n",
       "      <td>False</td>\n",
       "    </tr>\n",
       "    <tr>\n",
       "      <th>SV_total</th>\n",
       "      <td>aINS</td>\n",
       "      <td>8.087778e-01</td>\n",
       "      <td>7.380519e-01</td>\n",
       "      <td>False</td>\n",
       "    </tr>\n",
       "    <tr>\n",
       "      <th>SV_total</th>\n",
       "      <td>IFS</td>\n",
       "      <td>3.896351e-02</td>\n",
       "      <td>1.363723e-01</td>\n",
       "      <td>False</td>\n",
       "    </tr>\n",
       "    <tr>\n",
       "      <th>SV_total</th>\n",
       "      <td>pMFG</td>\n",
       "      <td>2.687953e-01</td>\n",
       "      <td>6.159608e-01</td>\n",
       "      <td>False</td>\n",
       "    </tr>\n",
       "    <tr>\n",
       "      <th>SV_total</th>\n",
       "      <td>vmPFC</td>\n",
       "      <td>1.755664e-03</td>\n",
       "      <td>1.228965e-02</td>\n",
       "      <td>True</td>\n",
       "    </tr>\n",
       "    <tr>\n",
       "      <th>SV_total</th>\n",
       "      <td>FEF</td>\n",
       "      <td>5.279664e-01</td>\n",
       "      <td>6.159608e-01</td>\n",
       "      <td>False</td>\n",
       "    </tr>\n",
       "    <tr>\n",
       "      <th>neg_SV_diff</th>\n",
       "      <td>IFG</td>\n",
       "      <td>7.225626e-01</td>\n",
       "      <td>2.709610e-01</td>\n",
       "      <td>False</td>\n",
       "    </tr>\n",
       "    <tr>\n",
       "      <th>neg_SV_diff</th>\n",
       "      <td>FPC</td>\n",
       "      <td>7.134664e-03</td>\n",
       "      <td>4.824549e-03</td>\n",
       "      <td>True</td>\n",
       "    </tr>\n",
       "    <tr>\n",
       "      <th>neg_SV_diff</th>\n",
       "      <td>aMFG</td>\n",
       "      <td>9.562007e-02</td>\n",
       "      <td>4.781004e-02</td>\n",
       "      <td>True</td>\n",
       "    </tr>\n",
       "    <tr>\n",
       "      <th>neg_SV_diff</th>\n",
       "      <td>aINS</td>\n",
       "      <td>1.220667e-03</td>\n",
       "      <td>1.220667e-03</td>\n",
       "      <td>True</td>\n",
       "    </tr>\n",
       "    <tr>\n",
       "      <th>neg_SV_diff</th>\n",
       "      <td>IFS</td>\n",
       "      <td>3.505033e-07</td>\n",
       "      <td>1.051510e-06</td>\n",
       "      <td>True</td>\n",
       "    </tr>\n",
       "    <tr>\n",
       "      <th>neg_SV_diff</th>\n",
       "      <td>pMFG</td>\n",
       "      <td>1.018930e-03</td>\n",
       "      <td>1.220667e-03</td>\n",
       "      <td>True</td>\n",
       "    </tr>\n",
       "    <tr>\n",
       "      <th>neg_SV_diff</th>\n",
       "      <td>vmPFC</td>\n",
       "      <td>8.040915e-03</td>\n",
       "      <td>4.824549e-03</td>\n",
       "      <td>True</td>\n",
       "    </tr>\n",
       "    <tr>\n",
       "      <th>neg_SV_diff</th>\n",
       "      <td>FEF</td>\n",
       "      <td>5.315599e-01</td>\n",
       "      <td>2.278114e-01</td>\n",
       "      <td>False</td>\n",
       "    </tr>\n",
       "    <tr>\n",
       "      <th>low_minus_high_SV_diff</th>\n",
       "      <td>IFG</td>\n",
       "      <td>9.093070e-03</td>\n",
       "      <td>2.967381e-02</td>\n",
       "      <td>True</td>\n",
       "    </tr>\n",
       "    <tr>\n",
       "      <th>low_minus_high_SV_diff</th>\n",
       "      <td>FPC</td>\n",
       "      <td>5.535000e-01</td>\n",
       "      <td>4.607442e-01</td>\n",
       "      <td>False</td>\n",
       "    </tr>\n",
       "    <tr>\n",
       "      <th>low_minus_high_SV_diff</th>\n",
       "      <td>aMFG</td>\n",
       "      <td>6.143256e-01</td>\n",
       "      <td>4.607442e-01</td>\n",
       "      <td>False</td>\n",
       "    </tr>\n",
       "    <tr>\n",
       "      <th>low_minus_high_SV_diff</th>\n",
       "      <td>aINS</td>\n",
       "      <td>1.635576e-01</td>\n",
       "      <td>2.283522e-01</td>\n",
       "      <td>False</td>\n",
       "    </tr>\n",
       "    <tr>\n",
       "      <th>low_minus_high_SV_diff</th>\n",
       "      <td>IFS</td>\n",
       "      <td>9.891270e-03</td>\n",
       "      <td>2.967381e-02</td>\n",
       "      <td>True</td>\n",
       "    </tr>\n",
       "    <tr>\n",
       "      <th>low_minus_high_SV_diff</th>\n",
       "      <td>pMFG</td>\n",
       "      <td>2.929371e-02</td>\n",
       "      <td>5.858741e-02</td>\n",
       "      <td>False</td>\n",
       "    </tr>\n",
       "    <tr>\n",
       "      <th>low_minus_high_SV_diff</th>\n",
       "      <td>vmPFC</td>\n",
       "      <td>1.902935e-01</td>\n",
       "      <td>2.283522e-01</td>\n",
       "      <td>False</td>\n",
       "    </tr>\n",
       "    <tr>\n",
       "      <th>low_minus_high_SV_diff</th>\n",
       "      <td>FEF</td>\n",
       "      <td>2.836426e-01</td>\n",
       "      <td>2.836426e-01</td>\n",
       "      <td>False</td>\n",
       "    </tr>\n",
       "    <tr>\n",
       "      <th>high_minus_low_SV</th>\n",
       "      <td>IFG</td>\n",
       "      <td>4.150083e-01</td>\n",
       "      <td>6.527543e-01</td>\n",
       "      <td>False</td>\n",
       "    </tr>\n",
       "    <tr>\n",
       "      <th>high_minus_low_SV</th>\n",
       "      <td>FPC</td>\n",
       "      <td>5.849694e-01</td>\n",
       "      <td>6.527543e-01</td>\n",
       "      <td>False</td>\n",
       "    </tr>\n",
       "    <tr>\n",
       "      <th>high_minus_low_SV</th>\n",
       "      <td>aMFG</td>\n",
       "      <td>5.426458e-01</td>\n",
       "      <td>6.527543e-01</td>\n",
       "      <td>False</td>\n",
       "    </tr>\n",
       "    <tr>\n",
       "      <th>high_minus_low_SV</th>\n",
       "      <td>aINS</td>\n",
       "      <td>3.936905e-01</td>\n",
       "      <td>6.527543e-01</td>\n",
       "      <td>False</td>\n",
       "    </tr>\n",
       "    <tr>\n",
       "      <th>high_minus_low_SV</th>\n",
       "      <td>IFS</td>\n",
       "      <td>6.527543e-01</td>\n",
       "      <td>6.527543e-01</td>\n",
       "      <td>False</td>\n",
       "    </tr>\n",
       "    <tr>\n",
       "      <th>high_minus_low_SV</th>\n",
       "      <td>pMFG</td>\n",
       "      <td>4.138914e-01</td>\n",
       "      <td>6.527543e-01</td>\n",
       "      <td>False</td>\n",
       "    </tr>\n",
       "    <tr>\n",
       "      <th>high_minus_low_SV</th>\n",
       "      <td>vmPFC</td>\n",
       "      <td>9.580254e-01</td>\n",
       "      <td>8.382722e-01</td>\n",
       "      <td>False</td>\n",
       "    </tr>\n",
       "    <tr>\n",
       "      <th>high_minus_low_SV</th>\n",
       "      <td>FEF</td>\n",
       "      <td>4.802083e-03</td>\n",
       "      <td>3.361458e-02</td>\n",
       "      <td>True</td>\n",
       "    </tr>\n",
       "    <tr>\n",
       "      <th>high_minus_low</th>\n",
       "      <td>IFG</td>\n",
       "      <td>7.203916e-08</td>\n",
       "      <td>5.042741e-07</td>\n",
       "      <td>True</td>\n",
       "    </tr>\n",
       "    <tr>\n",
       "      <th>high_minus_low</th>\n",
       "      <td>FPC</td>\n",
       "      <td>7.994840e-01</td>\n",
       "      <td>6.995485e-01</td>\n",
       "      <td>False</td>\n",
       "    </tr>\n",
       "    <tr>\n",
       "      <th>high_minus_low</th>\n",
       "      <td>aMFG</td>\n",
       "      <td>3.015150e-01</td>\n",
       "      <td>5.276512e-01</td>\n",
       "      <td>False</td>\n",
       "    </tr>\n",
       "    <tr>\n",
       "      <th>high_minus_low</th>\n",
       "      <td>aINS</td>\n",
       "      <td>9.718815e-02</td>\n",
       "      <td>3.401585e-01</td>\n",
       "      <td>False</td>\n",
       "    </tr>\n",
       "    <tr>\n",
       "      <th>high_minus_low</th>\n",
       "      <td>IFS</td>\n",
       "      <td>7.651756e-01</td>\n",
       "      <td>6.995485e-01</td>\n",
       "      <td>False</td>\n",
       "    </tr>\n",
       "    <tr>\n",
       "      <th>high_minus_low</th>\n",
       "      <td>pMFG</td>\n",
       "      <td>2.121429e-01</td>\n",
       "      <td>4.950001e-01</td>\n",
       "      <td>False</td>\n",
       "    </tr>\n",
       "    <tr>\n",
       "      <th>high_minus_low</th>\n",
       "      <td>vmPFC</td>\n",
       "      <td>5.736757e-01</td>\n",
       "      <td>6.692883e-01</td>\n",
       "      <td>False</td>\n",
       "    </tr>\n",
       "    <tr>\n",
       "      <th>high_minus_low</th>\n",
       "      <td>FEF</td>\n",
       "      <td>4.205629e-01</td>\n",
       "      <td>5.887880e-01</td>\n",
       "      <td>False</td>\n",
       "    </tr>\n",
       "  </tbody>\n",
       "</table>\n",
       "</div>"
      ],
      "text/plain": [
       "                          ROI         p_unc        p_corr    sig\n",
       "contrast                                                        \n",
       "decision                  IFG  6.289789e-07  4.717342e-07   True\n",
       "decision                  FPC  1.322992e-02  7.937951e-03   True\n",
       "decision                 aMFG  5.383516e-02  2.691758e-02   True\n",
       "decision                 aINS  3.119109e-09  4.678664e-09   True\n",
       "decision                  IFS  6.722772e-08  6.722772e-08   True\n",
       "decision                 pMFG  3.775405e-01  1.415777e-01  False\n",
       "decision                vmPFC  2.181896e-38  6.545687e-38   True\n",
       "decision                  FEF  3.078905e-01  1.319531e-01  False\n",
       "SV_total                  IFG  5.069563e-01  6.159608e-01  False\n",
       "SV_total                  FPC  8.434879e-01  7.380519e-01  False\n",
       "SV_total                 aMFG  4.175301e-01  6.159608e-01  False\n",
       "SV_total                 aINS  8.087778e-01  7.380519e-01  False\n",
       "SV_total                  IFS  3.896351e-02  1.363723e-01  False\n",
       "SV_total                 pMFG  2.687953e-01  6.159608e-01  False\n",
       "SV_total                vmPFC  1.755664e-03  1.228965e-02   True\n",
       "SV_total                  FEF  5.279664e-01  6.159608e-01  False\n",
       "neg_SV_diff               IFG  7.225626e-01  2.709610e-01  False\n",
       "neg_SV_diff               FPC  7.134664e-03  4.824549e-03   True\n",
       "neg_SV_diff              aMFG  9.562007e-02  4.781004e-02   True\n",
       "neg_SV_diff              aINS  1.220667e-03  1.220667e-03   True\n",
       "neg_SV_diff               IFS  3.505033e-07  1.051510e-06   True\n",
       "neg_SV_diff              pMFG  1.018930e-03  1.220667e-03   True\n",
       "neg_SV_diff             vmPFC  8.040915e-03  4.824549e-03   True\n",
       "neg_SV_diff               FEF  5.315599e-01  2.278114e-01  False\n",
       "low_minus_high_SV_diff    IFG  9.093070e-03  2.967381e-02   True\n",
       "low_minus_high_SV_diff    FPC  5.535000e-01  4.607442e-01  False\n",
       "low_minus_high_SV_diff   aMFG  6.143256e-01  4.607442e-01  False\n",
       "low_minus_high_SV_diff   aINS  1.635576e-01  2.283522e-01  False\n",
       "low_minus_high_SV_diff    IFS  9.891270e-03  2.967381e-02   True\n",
       "low_minus_high_SV_diff   pMFG  2.929371e-02  5.858741e-02  False\n",
       "low_minus_high_SV_diff  vmPFC  1.902935e-01  2.283522e-01  False\n",
       "low_minus_high_SV_diff    FEF  2.836426e-01  2.836426e-01  False\n",
       "high_minus_low_SV         IFG  4.150083e-01  6.527543e-01  False\n",
       "high_minus_low_SV         FPC  5.849694e-01  6.527543e-01  False\n",
       "high_minus_low_SV        aMFG  5.426458e-01  6.527543e-01  False\n",
       "high_minus_low_SV        aINS  3.936905e-01  6.527543e-01  False\n",
       "high_minus_low_SV         IFS  6.527543e-01  6.527543e-01  False\n",
       "high_minus_low_SV        pMFG  4.138914e-01  6.527543e-01  False\n",
       "high_minus_low_SV       vmPFC  9.580254e-01  8.382722e-01  False\n",
       "high_minus_low_SV         FEF  4.802083e-03  3.361458e-02   True\n",
       "high_minus_low            IFG  7.203916e-08  5.042741e-07   True\n",
       "high_minus_low            FPC  7.994840e-01  6.995485e-01  False\n",
       "high_minus_low           aMFG  3.015150e-01  5.276512e-01  False\n",
       "high_minus_low           aINS  9.718815e-02  3.401585e-01  False\n",
       "high_minus_low            IFS  7.651756e-01  6.995485e-01  False\n",
       "high_minus_low           pMFG  2.121429e-01  4.950001e-01  False\n",
       "high_minus_low          vmPFC  5.736757e-01  6.692883e-01  False\n",
       "high_minus_low            FEF  4.205629e-01  5.887880e-01  False"
      ]
     },
     "execution_count": 1213,
     "metadata": {},
     "output_type": "execute_result"
    }
   ],
   "source": [
    "all_results[['ROI','p_unc','p_corr','sig']]"
   ]
  },
  {
   "cell_type": "code",
   "execution_count": 1214,
   "metadata": {
    "collapsed": false
   },
   "outputs": [],
   "source": [
    "# for s in subs:\n",
    "#     sub_path = op.join(home_dir,'analysis','mag',s,'preproc')\n",
    "#     for run_path in glob.glob(sub_path + '/*'):\n",
    "#         out = op.join(run_path,'nuisance_variables.csv')\n",
    "#         out_art =  op.join(run_path,'artifacts.csv')\n",
    "        \n",
    "#         artifacts =  op.join(run_path,'artifacts_real.csv')\n",
    "#         artifacts = pd.read_csv(artifacts)\n",
    "        \n",
    "#         nuisance = op.join(run_path,'nuisance_variables_brain.csv')\n",
    "#         nuisance = pd.read_csv(nuisance)\n",
    "#         nuisance['brain'] = 0\n",
    "#         if run_path == '/data/home/iballard/mag/analysis/mag/subject08/preproc/run_3':\n",
    "#             idx = 0\n",
    "#         else:\n",
    "#             idx = artifacts[artifacts['intensity'] == 1].index[0]\n",
    "#             artifacts.loc[idx,'intensity'] = 0\n",
    "#         nuisance.loc[idx,'brain'] = 1\n",
    "\n",
    "#         nuisance.to_csv(out,index = False)\n",
    "#         artifacts.to_csv(out_art, index = False)"
   ]
  },
  {
   "cell_type": "code",
   "execution_count": 1144,
   "metadata": {
    "collapsed": false
   },
   "outputs": [],
   "source": [
    "for s in subs:\n",
    "    sub_path = op.join(home_dir,'analysis','mag',s,'preproc')\n",
    "    for run_path in glob.glob(sub_path + '/*'):\n",
    "        in_f = op.join(run_path,'nuisance_variables.csv')\n",
    "        out_f = op.join(run_path,'nuisance_variables_artefact_no_brain.csv')\n",
    "        cmd = ['mv',in_f,out_f]\n",
    "        os.system(' '.join(cmd))\n",
    "\n",
    "        real_art = op.join(run_path,'nuisance_variables_brain.csv')\n",
    "        cmd = ['mv',real_art,in_f]\n",
    "        os.system(' '.join(cmd))\n",
    "       "
   ]
  },
  {
   "cell_type": "code",
   "execution_count": 1106,
   "metadata": {
    "collapsed": false
   },
   "outputs": [
    {
     "name": "stdout",
     "output_type": "stream",
     "text": [
      "['asu4', 'asu8', 'asu10', 'asu11', 'asu12', 'asu13', 'subject03', 'subject04', 'subject05', 'subject06', 'subject08', 'subject10', 'subject11', 'subject12', 'subject13', 'subject14', 'subject20', 'subject21']\n"
     ]
    }
   ],
   "source": []
  },
  {
   "cell_type": "code",
   "execution_count": 960,
   "metadata": {
    "collapsed": false
   },
   "outputs": [],
   "source": [
    "params = pd.read_csv('/home/iballard/Dropbox/Magnitude_fMRI/model_fits.csv')\n",
    "params['mag_effect'] = np.array(map(np.log,params['k_low'])) - np.array(map(np.log,params['k_high']))\n",
    "bad_subs = ['asu03','asu09','subject22']\n",
    "for s in bad_subs:\n",
    "    params = params[params['sub'] != s]\n",
    "params = params.reset_index()"
   ]
  },
  {
   "cell_type": "code",
   "execution_count": 961,
   "metadata": {
    "collapsed": false
   },
   "outputs": [
    {
     "name": "stderr",
     "output_type": "stream",
     "text": [
      "/home/iballard/anaconda/lib/python2.7/site-packages/ipykernel/__main__.py:3: SettingWithCopyWarning: \n",
      "A value is trying to be set on a copy of a slice from a DataFrame\n",
      "\n",
      "See the the caveats in the documentation: http://pandas.pydata.org/pandas-docs/stable/indexing.html#indexing-view-versus-copy\n",
      "  app.launch_new_instance()\n",
      "/home/iballard/anaconda/lib/python2.7/site-packages/ipykernel/__main__.py:5: SettingWithCopyWarning: \n",
      "A value is trying to be set on a copy of a slice from a DataFrame\n",
      "\n",
      "See the the caveats in the documentation: http://pandas.pydata.org/pandas-docs/stable/indexing.html#indexing-view-versus-copy\n"
     ]
    }
   ],
   "source": [
    "for n,s in enumerate(params['sub']):\n",
    "    if s == 'asu04':\n",
    "        params['sub'][n] = 'asu4'\n",
    "    if s == 'asu08':\n",
    "        params['sub'][n] = 'asu8'"
   ]
  },
  {
   "cell_type": "code",
   "execution_count": 972,
   "metadata": {
    "collapsed": false
   },
   "outputs": [
    {
     "data": {
      "text/plain": [
       "<seaborn.axisgrid.JointGrid at 0x7f55f6755d50>"
      ]
     },
     "execution_count": 972,
     "metadata": {},
     "output_type": "execute_result"
    },
    {
     "data": {
      "image/png": "[encoded data removed]",
      "text/plain": [
       "<matplotlib.figure.Figure at 0x7f55f76af1d0>"
      ]
     },
     "metadata": {},
     "output_type": "display_data"
    }
   ],
   "source": [
    "ifs2 = ifs.groupby('sub').mean().reset_index()\n",
    "ifs2 = pd.merge(ifs2,\n",
    "         params,\n",
    "        how = 'left',\n",
    "        on = 'sub')\n",
    "sns.jointplot(x = 'value',y= 'mag_effect', data = ifs2)"
   ]
  },
  {
   "cell_type": "code",
   "execution_count": 946,
   "metadata": {
    "collapsed": false
   },
   "outputs": [],
   "source": [
    "# ifs2.columns = ifs2.columns.get_level_values(0)\n",
    "# ifs2['mag_effect'] = params['mag_effect']"
   ]
  },
  {
   "cell_type": "code",
   "execution_count": 947,
   "metadata": {
    "collapsed": false
   },
   "outputs": [
    {
     "data": {
      "text/html": [
       "<div style=\"max-height:1000px;max-width:1500px;overflow:auto;\">\n",
       "<table border=\"1\" class=\"dataframe\">\n",
       "  <thead>\n",
       "    <tr style=\"text-align: right;\">\n",
       "      <th></th>\n",
       "      <th>sub</th>\n",
       "      <th>mask_vox</th>\n",
       "      <th>value</th>\n",
       "      <th>mag_effect</th>\n",
       "    </tr>\n",
       "  </thead>\n",
       "  <tbody>\n",
       "    <tr>\n",
       "      <th>0</th>\n",
       "      <td>asu10</td>\n",
       "      <td>920.0</td>\n",
       "      <td>1.452723</td>\n",
       "      <td>NaN</td>\n",
       "    </tr>\n",
       "    <tr>\n",
       "      <th>1</th>\n",
       "      <td>asu11</td>\n",
       "      <td>626.0</td>\n",
       "      <td>-0.549734</td>\n",
       "      <td>NaN</td>\n",
       "    </tr>\n",
       "    <tr>\n",
       "      <th>2</th>\n",
       "      <td>asu12</td>\n",
       "      <td>782.0</td>\n",
       "      <td>3.039284</td>\n",
       "      <td>NaN</td>\n",
       "    </tr>\n",
       "    <tr>\n",
       "      <th>3</th>\n",
       "      <td>asu13</td>\n",
       "      <td>1038.0</td>\n",
       "      <td>0.858649</td>\n",
       "      <td>NaN</td>\n",
       "    </tr>\n",
       "    <tr>\n",
       "      <th>4</th>\n",
       "      <td>asu4</td>\n",
       "      <td>776.5</td>\n",
       "      <td>-2.351623</td>\n",
       "      <td>NaN</td>\n",
       "    </tr>\n",
       "    <tr>\n",
       "      <th>5</th>\n",
       "      <td>asu8</td>\n",
       "      <td>757.0</td>\n",
       "      <td>1.667026</td>\n",
       "      <td>NaN</td>\n",
       "    </tr>\n",
       "    <tr>\n",
       "      <th>6</th>\n",
       "      <td>subject03</td>\n",
       "      <td>358.5</td>\n",
       "      <td>3.035406</td>\n",
       "      <td>NaN</td>\n",
       "    </tr>\n",
       "    <tr>\n",
       "      <th>7</th>\n",
       "      <td>subject04</td>\n",
       "      <td>316.5</td>\n",
       "      <td>-1.428086</td>\n",
       "      <td>NaN</td>\n",
       "    </tr>\n",
       "    <tr>\n",
       "      <th>8</th>\n",
       "      <td>subject05</td>\n",
       "      <td>351.5</td>\n",
       "      <td>3.792463</td>\n",
       "      <td>NaN</td>\n",
       "    </tr>\n",
       "    <tr>\n",
       "      <th>9</th>\n",
       "      <td>subject06</td>\n",
       "      <td>423.5</td>\n",
       "      <td>1.710646</td>\n",
       "      <td>NaN</td>\n",
       "    </tr>\n",
       "    <tr>\n",
       "      <th>10</th>\n",
       "      <td>subject08</td>\n",
       "      <td>308.5</td>\n",
       "      <td>0.835750</td>\n",
       "      <td>NaN</td>\n",
       "    </tr>\n",
       "    <tr>\n",
       "      <th>11</th>\n",
       "      <td>subject09</td>\n",
       "      <td>381.5</td>\n",
       "      <td>-0.825817</td>\n",
       "      <td>NaN</td>\n",
       "    </tr>\n",
       "    <tr>\n",
       "      <th>12</th>\n",
       "      <td>subject10</td>\n",
       "      <td>343.0</td>\n",
       "      <td>-0.612834</td>\n",
       "      <td>NaN</td>\n",
       "    </tr>\n",
       "    <tr>\n",
       "      <th>13</th>\n",
       "      <td>subject11</td>\n",
       "      <td>321.0</td>\n",
       "      <td>-0.183598</td>\n",
       "      <td>NaN</td>\n",
       "    </tr>\n",
       "    <tr>\n",
       "      <th>14</th>\n",
       "      <td>subject12</td>\n",
       "      <td>307.0</td>\n",
       "      <td>1.103973</td>\n",
       "      <td>NaN</td>\n",
       "    </tr>\n",
       "    <tr>\n",
       "      <th>15</th>\n",
       "      <td>subject13</td>\n",
       "      <td>362.0</td>\n",
       "      <td>3.402649</td>\n",
       "      <td>NaN</td>\n",
       "    </tr>\n",
       "    <tr>\n",
       "      <th>16</th>\n",
       "      <td>subject14</td>\n",
       "      <td>286.5</td>\n",
       "      <td>0.718178</td>\n",
       "      <td>NaN</td>\n",
       "    </tr>\n",
       "    <tr>\n",
       "      <th>17</th>\n",
       "      <td>subject20</td>\n",
       "      <td>376.5</td>\n",
       "      <td>0.789701</td>\n",
       "      <td>NaN</td>\n",
       "    </tr>\n",
       "    <tr>\n",
       "      <th>18</th>\n",
       "      <td>subject21</td>\n",
       "      <td>355.5</td>\n",
       "      <td>1.745418</td>\n",
       "      <td>NaN</td>\n",
       "    </tr>\n",
       "  </tbody>\n",
       "</table>\n",
       "</div>"
      ],
      "text/plain": [
       "          sub  mask_vox     value  mag_effect\n",
       "0       asu10     920.0  1.452723         NaN\n",
       "1       asu11     626.0 -0.549734         NaN\n",
       "2       asu12     782.0  3.039284         NaN\n",
       "3       asu13    1038.0  0.858649         NaN\n",
       "4        asu4     776.5 -2.351623         NaN\n",
       "5        asu8     757.0  1.667026         NaN\n",
       "6   subject03     358.5  3.035406         NaN\n",
       "7   subject04     316.5 -1.428086         NaN\n",
       "8   subject05     351.5  3.792463         NaN\n",
       "9   subject06     423.5  1.710646         NaN\n",
       "10  subject08     308.5  0.835750         NaN\n",
       "11  subject09     381.5 -0.825817         NaN\n",
       "12  subject10     343.0 -0.612834         NaN\n",
       "13  subject11     321.0 -0.183598         NaN\n",
       "14  subject12     307.0  1.103973         NaN\n",
       "15  subject13     362.0  3.402649         NaN\n",
       "16  subject14     286.5  0.718178         NaN\n",
       "17  subject20     376.5  0.789701         NaN\n",
       "18  subject21     355.5  1.745418         NaN"
      ]
     },
     "execution_count": 947,
     "metadata": {},
     "output_type": "execute_result"
    }
   ],
   "source": [
    "ifs2"
   ]
  },
  {
   "cell_type": "code",
   "execution_count": null,
   "metadata": {
    "collapsed": true
   },
   "outputs": [],
   "source": []
  }
 ],
 "metadata": {
  "kernelspec": {
   "display_name": "Python 2",
   "language": "python",
   "name": "python2"
  },
  "language_info": {
   "codemirror_mode": {
    "name": "ipython",
    "version": 2
   },
   "file_extension": ".py",
   "mimetype": "text/x-python",
   "name": "python",
   "nbconvert_exporter": "python",
   "pygments_lexer": "ipython2",
   "version": "2.7.11"
  }
 },
 "nbformat": 4,
 "nbformat_minor": 0
}
