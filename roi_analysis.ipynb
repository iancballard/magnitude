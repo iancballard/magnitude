{
 "cells": [
  {
   "cell_type": "code",
   "execution_count": 1,
   "metadata": {
    "collapsed": true
   },
   "outputs": [],
   "source": [
    "import os\n",
    "import os.path as op\n",
    "import glob\n",
    "import numpy as np\n",
    "import pandas as pd\n",
    "from pandas import DataFrame\n",
    "import nibabel as nib\n",
    "import scipy\n",
    "import matplotlib\n",
    "import seaborn as sns\n",
    "import statsmodels\n",
    "import matplotlib.pyplot as plt\n",
    "import statsmodels.formula.api as smf\n",
    "from statsmodels.stats.multitest import multipletests\n",
    "%matplotlib inline"
   ]
  },
  {
   "cell_type": "code",
   "execution_count": 2,
   "metadata": {
    "collapsed": false
   },
   "outputs": [],
   "source": [
    "#preliminary housekeeping\n",
    "home_dir = '/data/home/iballard/mag/'\n",
    "subj_file = home_dir + 'subjects.txt'\n",
    "subs = list(np.loadtxt(subj_file,'string'))\n",
    "os.chdir(home_dir)\n",
    "runs = map(str,range(1,5))"
   ]
  },
  {
   "cell_type": "markdown",
   "metadata": {},
   "source": [
    "# Define experimental info and ROIs"
   ]
  },
  {
   "cell_type": "code",
   "execution_count": 3,
   "metadata": {
    "collapsed": true
   },
   "outputs": [],
   "source": [
    "smoothing = 'smoothed'\n",
    "regspace = 'epi'\n",
    "\n",
    "exp = 'mag-SVtotaldiff'\n",
    "\n",
    "rois = ['_amfg',\n",
    "        '_pmfg',\n",
    "        '_fpc',\n",
    "        '_ifg',\n",
    "        '_psfs',\n",
    "        '_ifs',\n",
    "       '_ains',\n",
    "       '.vmpfc_']"
   ]
  },
  {
   "cell_type": "markdown",
   "metadata": {},
   "source": [
    "# Main functions for extracting and analysing ROI data"
   ]
  },
  {
   "cell_type": "code",
   "execution_count": 4,
   "metadata": {
    "collapsed": false
   },
   "outputs": [],
   "source": [
    "def extract_copes(exp,regspace,smoothing,contrast):\n",
    "    df = pd.DataFrame(columns=('sub','contrast','mask_vox','hemi','label','value'))\n",
    "\n",
    "    for sub in subs:\n",
    "        cope = home_dir + '/analysis/' + exp + '/' + sub + '/ffx/' + regspace + \\\n",
    "            '/' + smoothing + '/' + contrast + '/cope1.nii.gz'\n",
    "        cope = nib.load(cope).get_data()\n",
    "\n",
    "        masks = glob.glob(home_dir + '/data/' + sub + '/masks/*.*nii.gz')\n",
    "        masks = [m for m in masks if any(substring in m for substring in rois)]\n",
    "\n",
    "        for m in masks:\n",
    "            if len(m.split('/')[-1].split('.'))==4:\n",
    "                hemi = m.split('/')[-1].split('.')[0]\n",
    "                label = m.split('/')[-1].split('.')[1]\n",
    "            else:\n",
    "                hemi = 'na'\n",
    "                label = m.split('/')[-1].split('.')[0]\n",
    "\n",
    "            m = nib.load(m).get_data().astype(bool)\n",
    "            num_voxels = m.sum()\n",
    "            func_masked = cope[m]\n",
    "            row = pd.DataFrame([dict(sub = sub, \n",
    "                                     contrast =contrast, \n",
    "                                     mask_vox = num_voxels, \n",
    "                                     hemi = hemi,\n",
    "                                     label = label, \n",
    "                                     value = np.mean(func_masked)), ])\n",
    "            df = df.append(row, ignore_index = True)\n",
    "    return df"
   ]
  },
  {
   "cell_type": "code",
   "execution_count": 5,
   "metadata": {
    "collapsed": true
   },
   "outputs": [],
   "source": [
    "def plot_fig(res,contrast):\n",
    "    plt.figure(figsize=(10, 6))\n",
    "\n",
    "    #relabel\n",
    "    res = res.copy()\n",
    "    res['ROI'] = [label_map[x] for x in res['label'].values]\n",
    "    \n",
    "    #sort dataframe\n",
    "    res['ROI'] = pd.Categorical(res['ROI'],roi_plotting_order)\n",
    "    res = res.sort('ROI')\n",
    "\n",
    "    #plot\n",
    "    sns.barplot(x='ROI',y='val',data = res,\n",
    "                **{'yerr':res['err'],\n",
    "                   'error_kw':dict(ecolor='grey', lw=2.5)}\n",
    "                )\n",
    "    sns.despine()\n",
    "    plt.ylabel('Beta (AU)')\n",
    "    plt.title(title_map[contrast])\n",
    "    plt.savefig('/home/iballard/Dropbox/mag_figs/' + contrast + '.svg')"
   ]
  },
  {
   "cell_type": "code",
   "execution_count": 6,
   "metadata": {
    "collapsed": true
   },
   "outputs": [],
   "source": [
    "def run_stats(df):\n",
    "    results_df =pd.DataFrame(columns=('contrast','label','nvox',\n",
    "                                      'std_vox','p_unc','val','err'))\n",
    "    for roi in set(df['label']):\n",
    "\n",
    "        new = df[df['label'] == roi]\n",
    "\n",
    "        #run mixed effects model\n",
    "        model_str = 'value ~ 1'\n",
    "        mixedfx = smf.mixedlm(model_str, new, groups = new['sub'])    \n",
    "        mixedfx = mixedfx.fit()\n",
    "        \n",
    "        #extract p value and errors\n",
    "        p = mixedfx.pvalues['Intercept']\n",
    "        val = mixedfx.params[0]\n",
    "#         err = mixedfx.bse_fe[0] #standard error\n",
    "        conf_int = mixedfx.conf_int()\n",
    "        err = (conf_int.loc['Intercept',1] - conf_int.loc['Intercept',0]) / 2.0 #plots 95% conf\n",
    "        \n",
    "        #update dataframe\n",
    "        row = pd.DataFrame([dict(contrast = contrast, \n",
    "                                 label = roi,\n",
    "                                 nvox = np.mean(new['mask_vox']),\n",
    "                                 val = val,\n",
    "                                 err = err,\n",
    "                                p_unc = p), ])\n",
    "        results_df = results_df.append(row, ignore_index = True)\n",
    "        \n",
    "    #correct for multiple comparisons\n",
    "    sig,pcorr,a1,a2 = multipletests(results_df['p_unc'],.05,method = 'fdr_tsbh')\n",
    "    results_df['p_corr'] = pcorr\n",
    "    results_df['sig'] = sig\n",
    "    return results_df\n"
   ]
  },
  {
   "cell_type": "code",
   "execution_count": 7,
   "metadata": {
    "collapsed": true
   },
   "outputs": [],
   "source": [
    "def run_contrast(exp,regspace,smoothing,contrast):\n",
    "    df = extract_copes(exp,regspace,smoothing,contrast)\n",
    "    df['ROI'] = [label_map[x] for x in df['label'].values]\n",
    "    \n",
    "    df.to_csv('/home/iballard/Dropbox/Magnitude_fMRI/roi_analysis/' + exp  + '_' + contrast + '.csv',\n",
    "              index = False)\n",
    "    \n",
    "    results = run_stats(df)\n",
    "    results['ROI'] = [label_map[x] for x in results['label'].values]\n",
    "\n",
    "    plot_fig(results,contrast)\n",
    "\n",
    "    return results"
   ]
  },
  {
   "cell_type": "markdown",
   "metadata": {},
   "source": [
    "# Set up figure aesthetics"
   ]
  },
  {
   "cell_type": "code",
   "execution_count": 8,
   "metadata": {
    "collapsed": false
   },
   "outputs": [],
   "source": [
    "label_map = {'yeo17_amfg':'aMFG','yeo17_pmfg':'pMFG','yeo17_ains':'aINS','yeo17_fpc':'FPC',\n",
    "            'yeo17_ifs':'IFS','yeo17_ifg':'IFG','yeo17_psfs':'FEF','vmpfc_bartre':'vmPFC'}\n",
    "roi_plotting_order = ['IFS','FPC','pMFG','FEF','aINS','IFG','aMFG','vmPFC']"
   ]
  },
  {
   "cell_type": "code",
   "execution_count": 9,
   "metadata": {
    "collapsed": false
   },
   "outputs": [
    {
     "data": {
      "image/png": "[encoded data removed]",
      "text/plain": [
       "<matplotlib.figure.Figure at 0x7fc3bdc41c50>"
      ]
     },
     "metadata": {},
     "output_type": "display_data"
    }
   ],
   "source": [
    "#get colors from ROI figure and match them\n",
    "ctab = '/home/iballard/mag/data/fsaverage/label/pfc.ctab'\n",
    "color = np.loadtxt(ctab,object)\n",
    "custom_palette = []\n",
    "for row in color:\n",
    "    rgb = (int(row[2]),int(row[3]),int(row[4]))\n",
    "    hex_rgb = '#%02x%02x%02x' % rgb\n",
    "    roi_id = label_map[row[1]]\n",
    "    custom_palette.append((hex_rgb, roi_id))\n",
    "\n",
    "custom_palette.sort(key=lambda x: roi_plotting_order.index(x[1]))\n",
    "custom_palette = [x[0] for x in custom_palette]\n",
    "\n",
    "sns.set_palette(custom_palette)\n",
    "sns.palplot(sns.color_palette())"
   ]
  },
  {
   "cell_type": "code",
   "execution_count": 10,
   "metadata": {
    "collapsed": false,
    "scrolled": true
   },
   "outputs": [],
   "source": [
    "sns.set_context('paper',font_scale = 2.5)\n",
    "sns.set(font=\"Times New Roman\")\n",
    "sns.set_style(\"white\")"
   ]
  },
  {
   "cell_type": "code",
   "execution_count": 11,
   "metadata": {
    "collapsed": true
   },
   "outputs": [],
   "source": [
    "#for figure plotting\n",
    "title_map = {'decision': 'Decision Period', \n",
    "             'SV_total': 'Subjective Value',\n",
    "             'neg_SV_diff': 'Difficulty',\n",
    "             'low_minus_high_SV_diff': 'Difficulty (High minus Low Magnitude)',\n",
    "             'high_minus_low_SV': 'Subjective Value (High minus Low Magnitude)',\n",
    "            'high_minus_low': 'High minus Low Magnitude'}\n",
    "contrasts = title_map.keys()"
   ]
  },
  {
   "cell_type": "markdown",
   "metadata": {},
   "source": [
    "# Run analysis"
   ]
  },
  {
   "cell_type": "code",
   "execution_count": 17,
   "metadata": {
    "collapsed": false
   },
   "outputs": [],
   "source": [
    "all_results = []\n",
    "\n",
    "for contrast in contrasts:\n",
    "    results = run_contrast(exp,regspace,smoothing,contrast)\n",
    "    all_results.append(results.copy())\n",
    "    \n",
    "all_results = pd.concat(all_results)\n",
    "all_results = all_results.set_index(['contrast'])"
   ]
  },
  {
   "cell_type": "code",
   "execution_count": 14,
   "metadata": {
    "collapsed": false
   },
   "outputs": [
    {
     "data": {
      "text/html": [
       "<div style=\"max-height:1000px;max-width:1500px;overflow:auto;\">\n",
       "<table border=\"1\" class=\"dataframe\">\n",
       "  <thead>\n",
       "    <tr style=\"text-align: right;\">\n",
       "      <th></th>\n",
       "      <th>ROI</th>\n",
       "      <th>p_unc</th>\n",
       "      <th>p_corr</th>\n",
       "      <th>sig</th>\n",
       "    </tr>\n",
       "    <tr>\n",
       "      <th>contrast</th>\n",
       "      <th></th>\n",
       "      <th></th>\n",
       "      <th></th>\n",
       "      <th></th>\n",
       "    </tr>\n",
       "  </thead>\n",
       "  <tbody>\n",
       "    <tr>\n",
       "      <th>SV_total</th>\n",
       "      <td>IFG</td>\n",
       "      <td>5.069563e-01</td>\n",
       "      <td>6.159608e-01</td>\n",
       "      <td>False</td>\n",
       "    </tr>\n",
       "    <tr>\n",
       "      <th>SV_total</th>\n",
       "      <td>FPC</td>\n",
       "      <td>8.434879e-01</td>\n",
       "      <td>7.380519e-01</td>\n",
       "      <td>False</td>\n",
       "    </tr>\n",
       "    <tr>\n",
       "      <th>SV_total</th>\n",
       "      <td>aMFG</td>\n",
       "      <td>4.175301e-01</td>\n",
       "      <td>6.159608e-01</td>\n",
       "      <td>False</td>\n",
       "    </tr>\n",
       "    <tr>\n",
       "      <th>SV_total</th>\n",
       "      <td>aINS</td>\n",
       "      <td>8.087778e-01</td>\n",
       "      <td>7.380519e-01</td>\n",
       "      <td>False</td>\n",
       "    </tr>\n",
       "    <tr>\n",
       "      <th>SV_total</th>\n",
       "      <td>IFS</td>\n",
       "      <td>3.896351e-02</td>\n",
       "      <td>1.363723e-01</td>\n",
       "      <td>False</td>\n",
       "    </tr>\n",
       "    <tr>\n",
       "      <th>SV_total</th>\n",
       "      <td>pMFG</td>\n",
       "      <td>2.687953e-01</td>\n",
       "      <td>6.159608e-01</td>\n",
       "      <td>False</td>\n",
       "    </tr>\n",
       "    <tr>\n",
       "      <th>SV_total</th>\n",
       "      <td>vmPFC</td>\n",
       "      <td>1.755664e-03</td>\n",
       "      <td>1.228965e-02</td>\n",
       "      <td>True</td>\n",
       "    </tr>\n",
       "    <tr>\n",
       "      <th>SV_total</th>\n",
       "      <td>FEF</td>\n",
       "      <td>5.279664e-01</td>\n",
       "      <td>6.159608e-01</td>\n",
       "      <td>False</td>\n",
       "    </tr>\n",
       "    <tr>\n",
       "      <th>decision</th>\n",
       "      <td>IFG</td>\n",
       "      <td>6.289789e-07</td>\n",
       "      <td>4.717342e-07</td>\n",
       "      <td>True</td>\n",
       "    </tr>\n",
       "    <tr>\n",
       "      <th>decision</th>\n",
       "      <td>FPC</td>\n",
       "      <td>1.322992e-02</td>\n",
       "      <td>7.937951e-03</td>\n",
       "      <td>True</td>\n",
       "    </tr>\n",
       "    <tr>\n",
       "      <th>decision</th>\n",
       "      <td>aMFG</td>\n",
       "      <td>5.383516e-02</td>\n",
       "      <td>2.691758e-02</td>\n",
       "      <td>True</td>\n",
       "    </tr>\n",
       "    <tr>\n",
       "      <th>decision</th>\n",
       "      <td>aINS</td>\n",
       "      <td>3.119109e-09</td>\n",
       "      <td>4.678664e-09</td>\n",
       "      <td>True</td>\n",
       "    </tr>\n",
       "    <tr>\n",
       "      <th>decision</th>\n",
       "      <td>IFS</td>\n",
       "      <td>6.722772e-08</td>\n",
       "      <td>6.722772e-08</td>\n",
       "      <td>True</td>\n",
       "    </tr>\n",
       "    <tr>\n",
       "      <th>decision</th>\n",
       "      <td>pMFG</td>\n",
       "      <td>3.775405e-01</td>\n",
       "      <td>1.415777e-01</td>\n",
       "      <td>False</td>\n",
       "    </tr>\n",
       "    <tr>\n",
       "      <th>decision</th>\n",
       "      <td>vmPFC</td>\n",
       "      <td>2.181896e-38</td>\n",
       "      <td>6.545687e-38</td>\n",
       "      <td>True</td>\n",
       "    </tr>\n",
       "    <tr>\n",
       "      <th>decision</th>\n",
       "      <td>FEF</td>\n",
       "      <td>3.078905e-01</td>\n",
       "      <td>1.319531e-01</td>\n",
       "      <td>False</td>\n",
       "    </tr>\n",
       "    <tr>\n",
       "      <th>neg_SV_diff</th>\n",
       "      <td>IFG</td>\n",
       "      <td>7.225626e-01</td>\n",
       "      <td>2.709610e-01</td>\n",
       "      <td>False</td>\n",
       "    </tr>\n",
       "    <tr>\n",
       "      <th>neg_SV_diff</th>\n",
       "      <td>FPC</td>\n",
       "      <td>7.134664e-03</td>\n",
       "      <td>4.824549e-03</td>\n",
       "      <td>True</td>\n",
       "    </tr>\n",
       "    <tr>\n",
       "      <th>neg_SV_diff</th>\n",
       "      <td>aMFG</td>\n",
       "      <td>9.562007e-02</td>\n",
       "      <td>4.781004e-02</td>\n",
       "      <td>True</td>\n",
       "    </tr>\n",
       "    <tr>\n",
       "      <th>neg_SV_diff</th>\n",
       "      <td>aINS</td>\n",
       "      <td>1.220667e-03</td>\n",
       "      <td>1.220667e-03</td>\n",
       "      <td>True</td>\n",
       "    </tr>\n",
       "    <tr>\n",
       "      <th>neg_SV_diff</th>\n",
       "      <td>IFS</td>\n",
       "      <td>3.505033e-07</td>\n",
       "      <td>1.051510e-06</td>\n",
       "      <td>True</td>\n",
       "    </tr>\n",
       "    <tr>\n",
       "      <th>neg_SV_diff</th>\n",
       "      <td>pMFG</td>\n",
       "      <td>1.018930e-03</td>\n",
       "      <td>1.220667e-03</td>\n",
       "      <td>True</td>\n",
       "    </tr>\n",
       "    <tr>\n",
       "      <th>neg_SV_diff</th>\n",
       "      <td>vmPFC</td>\n",
       "      <td>8.040915e-03</td>\n",
       "      <td>4.824549e-03</td>\n",
       "      <td>True</td>\n",
       "    </tr>\n",
       "    <tr>\n",
       "      <th>neg_SV_diff</th>\n",
       "      <td>FEF</td>\n",
       "      <td>5.315599e-01</td>\n",
       "      <td>2.278114e-01</td>\n",
       "      <td>False</td>\n",
       "    </tr>\n",
       "    <tr>\n",
       "      <th>high_minus_low</th>\n",
       "      <td>IFG</td>\n",
       "      <td>7.203916e-08</td>\n",
       "      <td>5.042741e-07</td>\n",
       "      <td>True</td>\n",
       "    </tr>\n",
       "    <tr>\n",
       "      <th>high_minus_low</th>\n",
       "      <td>FPC</td>\n",
       "      <td>7.994840e-01</td>\n",
       "      <td>6.995485e-01</td>\n",
       "      <td>False</td>\n",
       "    </tr>\n",
       "    <tr>\n",
       "      <th>high_minus_low</th>\n",
       "      <td>aMFG</td>\n",
       "      <td>3.015150e-01</td>\n",
       "      <td>5.276512e-01</td>\n",
       "      <td>False</td>\n",
       "    </tr>\n",
       "    <tr>\n",
       "      <th>high_minus_low</th>\n",
       "      <td>aINS</td>\n",
       "      <td>9.718815e-02</td>\n",
       "      <td>3.401585e-01</td>\n",
       "      <td>False</td>\n",
       "    </tr>\n",
       "    <tr>\n",
       "      <th>high_minus_low</th>\n",
       "      <td>IFS</td>\n",
       "      <td>7.651756e-01</td>\n",
       "      <td>6.995485e-01</td>\n",
       "      <td>False</td>\n",
       "    </tr>\n",
       "    <tr>\n",
       "      <th>high_minus_low</th>\n",
       "      <td>pMFG</td>\n",
       "      <td>2.121429e-01</td>\n",
       "      <td>4.950001e-01</td>\n",
       "      <td>False</td>\n",
       "    </tr>\n",
       "    <tr>\n",
       "      <th>high_minus_low</th>\n",
       "      <td>vmPFC</td>\n",
       "      <td>5.736757e-01</td>\n",
       "      <td>6.692883e-01</td>\n",
       "      <td>False</td>\n",
       "    </tr>\n",
       "    <tr>\n",
       "      <th>high_minus_low</th>\n",
       "      <td>FEF</td>\n",
       "      <td>4.205629e-01</td>\n",
       "      <td>5.887880e-01</td>\n",
       "      <td>False</td>\n",
       "    </tr>\n",
       "    <tr>\n",
       "      <th>low_minus_high_SV_diff</th>\n",
       "      <td>IFG</td>\n",
       "      <td>9.093070e-03</td>\n",
       "      <td>2.967381e-02</td>\n",
       "      <td>True</td>\n",
       "    </tr>\n",
       "    <tr>\n",
       "      <th>low_minus_high_SV_diff</th>\n",
       "      <td>FPC</td>\n",
       "      <td>5.535000e-01</td>\n",
       "      <td>4.607442e-01</td>\n",
       "      <td>False</td>\n",
       "    </tr>\n",
       "    <tr>\n",
       "      <th>low_minus_high_SV_diff</th>\n",
       "      <td>aMFG</td>\n",
       "      <td>6.143256e-01</td>\n",
       "      <td>4.607442e-01</td>\n",
       "      <td>False</td>\n",
       "    </tr>\n",
       "    <tr>\n",
       "      <th>low_minus_high_SV_diff</th>\n",
       "      <td>aINS</td>\n",
       "      <td>1.635576e-01</td>\n",
       "      <td>2.283522e-01</td>\n",
       "      <td>False</td>\n",
       "    </tr>\n",
       "    <tr>\n",
       "      <th>low_minus_high_SV_diff</th>\n",
       "      <td>IFS</td>\n",
       "      <td>9.891270e-03</td>\n",
       "      <td>2.967381e-02</td>\n",
       "      <td>True</td>\n",
       "    </tr>\n",
       "    <tr>\n",
       "      <th>low_minus_high_SV_diff</th>\n",
       "      <td>pMFG</td>\n",
       "      <td>2.929371e-02</td>\n",
       "      <td>5.858741e-02</td>\n",
       "      <td>False</td>\n",
       "    </tr>\n",
       "    <tr>\n",
       "      <th>low_minus_high_SV_diff</th>\n",
       "      <td>vmPFC</td>\n",
       "      <td>1.902935e-01</td>\n",
       "      <td>2.283522e-01</td>\n",
       "      <td>False</td>\n",
       "    </tr>\n",
       "    <tr>\n",
       "      <th>low_minus_high_SV_diff</th>\n",
       "      <td>FEF</td>\n",
       "      <td>2.836426e-01</td>\n",
       "      <td>2.836426e-01</td>\n",
       "      <td>False</td>\n",
       "    </tr>\n",
       "    <tr>\n",
       "      <th>high_minus_low_SV</th>\n",
       "      <td>IFG</td>\n",
       "      <td>4.150083e-01</td>\n",
       "      <td>6.527543e-01</td>\n",
       "      <td>False</td>\n",
       "    </tr>\n",
       "    <tr>\n",
       "      <th>high_minus_low_SV</th>\n",
       "      <td>FPC</td>\n",
       "      <td>5.849694e-01</td>\n",
       "      <td>6.527543e-01</td>\n",
       "      <td>False</td>\n",
       "    </tr>\n",
       "    <tr>\n",
       "      <th>high_minus_low_SV</th>\n",
       "      <td>aMFG</td>\n",
       "      <td>5.426458e-01</td>\n",
       "      <td>6.527543e-01</td>\n",
       "      <td>False</td>\n",
       "    </tr>\n",
       "    <tr>\n",
       "      <th>high_minus_low_SV</th>\n",
       "      <td>aINS</td>\n",
       "      <td>3.936905e-01</td>\n",
       "      <td>6.527543e-01</td>\n",
       "      <td>False</td>\n",
       "    </tr>\n",
       "    <tr>\n",
       "      <th>high_minus_low_SV</th>\n",
       "      <td>IFS</td>\n",
       "      <td>6.527543e-01</td>\n",
       "      <td>6.527543e-01</td>\n",
       "      <td>False</td>\n",
       "    </tr>\n",
       "    <tr>\n",
       "      <th>high_minus_low_SV</th>\n",
       "      <td>pMFG</td>\n",
       "      <td>4.138914e-01</td>\n",
       "      <td>6.527543e-01</td>\n",
       "      <td>False</td>\n",
       "    </tr>\n",
       "    <tr>\n",
       "      <th>high_minus_low_SV</th>\n",
       "      <td>vmPFC</td>\n",
       "      <td>9.580254e-01</td>\n",
       "      <td>8.382722e-01</td>\n",
       "      <td>False</td>\n",
       "    </tr>\n",
       "    <tr>\n",
       "      <th>high_minus_low_SV</th>\n",
       "      <td>FEF</td>\n",
       "      <td>4.802083e-03</td>\n",
       "      <td>3.361458e-02</td>\n",
       "      <td>True</td>\n",
       "    </tr>\n",
       "  </tbody>\n",
       "</table>\n",
       "</div>"
      ],
      "text/plain": [
       "                          ROI         p_unc        p_corr    sig\n",
       "contrast                                                        \n",
       "SV_total                  IFG  5.069563e-01  6.159608e-01  False\n",
       "SV_total                  FPC  8.434879e-01  7.380519e-01  False\n",
       "SV_total                 aMFG  4.175301e-01  6.159608e-01  False\n",
       "SV_total                 aINS  8.087778e-01  7.380519e-01  False\n",
       "SV_total                  IFS  3.896351e-02  1.363723e-01  False\n",
       "SV_total                 pMFG  2.687953e-01  6.159608e-01  False\n",
       "SV_total                vmPFC  1.755664e-03  1.228965e-02   True\n",
       "SV_total                  FEF  5.279664e-01  6.159608e-01  False\n",
       "decision                  IFG  6.289789e-07  4.717342e-07   True\n",
       "decision                  FPC  1.322992e-02  7.937951e-03   True\n",
       "decision                 aMFG  5.383516e-02  2.691758e-02   True\n",
       "decision                 aINS  3.119109e-09  4.678664e-09   True\n",
       "decision                  IFS  6.722772e-08  6.722772e-08   True\n",
       "decision                 pMFG  3.775405e-01  1.415777e-01  False\n",
       "decision                vmPFC  2.181896e-38  6.545687e-38   True\n",
       "decision                  FEF  3.078905e-01  1.319531e-01  False\n",
       "neg_SV_diff               IFG  7.225626e-01  2.709610e-01  False\n",
       "neg_SV_diff               FPC  7.134664e-03  4.824549e-03   True\n",
       "neg_SV_diff              aMFG  9.562007e-02  4.781004e-02   True\n",
       "neg_SV_diff              aINS  1.220667e-03  1.220667e-03   True\n",
       "neg_SV_diff               IFS  3.505033e-07  1.051510e-06   True\n",
       "neg_SV_diff              pMFG  1.018930e-03  1.220667e-03   True\n",
       "neg_SV_diff             vmPFC  8.040915e-03  4.824549e-03   True\n",
       "neg_SV_diff               FEF  5.315599e-01  2.278114e-01  False\n",
       "high_minus_low            IFG  7.203916e-08  5.042741e-07   True\n",
       "high_minus_low            FPC  7.994840e-01  6.995485e-01  False\n",
       "high_minus_low           aMFG  3.015150e-01  5.276512e-01  False\n",
       "high_minus_low           aINS  9.718815e-02  3.401585e-01  False\n",
       "high_minus_low            IFS  7.651756e-01  6.995485e-01  False\n",
       "high_minus_low           pMFG  2.121429e-01  4.950001e-01  False\n",
       "high_minus_low          vmPFC  5.736757e-01  6.692883e-01  False\n",
       "high_minus_low            FEF  4.205629e-01  5.887880e-01  False\n",
       "low_minus_high_SV_diff    IFG  9.093070e-03  2.967381e-02   True\n",
       "low_minus_high_SV_diff    FPC  5.535000e-01  4.607442e-01  False\n",
       "low_minus_high_SV_diff   aMFG  6.143256e-01  4.607442e-01  False\n",
       "low_minus_high_SV_diff   aINS  1.635576e-01  2.283522e-01  False\n",
       "low_minus_high_SV_diff    IFS  9.891270e-03  2.967381e-02   True\n",
       "low_minus_high_SV_diff   pMFG  2.929371e-02  5.858741e-02  False\n",
       "low_minus_high_SV_diff  vmPFC  1.902935e-01  2.283522e-01  False\n",
       "low_minus_high_SV_diff    FEF  2.836426e-01  2.836426e-01  False\n",
       "high_minus_low_SV         IFG  4.150083e-01  6.527543e-01  False\n",
       "high_minus_low_SV         FPC  5.849694e-01  6.527543e-01  False\n",
       "high_minus_low_SV        aMFG  5.426458e-01  6.527543e-01  False\n",
       "high_minus_low_SV        aINS  3.936905e-01  6.527543e-01  False\n",
       "high_minus_low_SV         IFS  6.527543e-01  6.527543e-01  False\n",
       "high_minus_low_SV        pMFG  4.138914e-01  6.527543e-01  False\n",
       "high_minus_low_SV       vmPFC  9.580254e-01  8.382722e-01  False\n",
       "high_minus_low_SV         FEF  4.802083e-03  3.361458e-02   True"
      ]
     },
     "execution_count": 14,
     "metadata": {},
     "output_type": "execute_result"
    }
   ],
   "source": [
    "all_results.to_csv('/home/iballard/Dropbox/mag_figs/roi_results.csv',index = False)\n",
    "all_results[['ROI','p_unc','p_corr','sig']]"
   ]
  },
  {
   "cell_type": "markdown",
   "metadata": {
    "collapsed": false
   },
   "source": [
    "# Run brain-behavior correlation"
   ]
  },
  {
   "cell_type": "code",
   "execution_count": 960,
   "metadata": {
    "collapsed": false
   },
   "outputs": [],
   "source": [
    "params = pd.read_csv('/home/iballard/Dropbox/Magnitude_fMRI/model_fits.csv')\n",
    "params['mag_effect'] = np.array(map(np.log,params['k_low'])) - np.array(map(np.log,params['k_high']))\n",
    "bad_subs = ['asu03','asu09','subject22']\n",
    "for s in bad_subs:\n",
    "    params = params[params['sub'] != s]\n",
    "params = params.reset_index()"
   ]
  },
  {
   "cell_type": "code",
   "execution_count": 961,
   "metadata": {
    "collapsed": false
   },
   "outputs": [
    {
     "name": "stderr",
     "output_type": "stream",
     "text": [
      "/home/iballard/anaconda/lib/python2.7/site-packages/ipykernel/__main__.py:3: SettingWithCopyWarning: \n",
      "A value is trying to be set on a copy of a slice from a DataFrame\n",
      "\n",
      "See the the caveats in the documentation: http://pandas.pydata.org/pandas-docs/stable/indexing.html#indexing-view-versus-copy\n",
      "  app.launch_new_instance()\n",
      "/home/iballard/anaconda/lib/python2.7/site-packages/ipykernel/__main__.py:5: SettingWithCopyWarning: \n",
      "A value is trying to be set on a copy of a slice from a DataFrame\n",
      "\n",
      "See the the caveats in the documentation: http://pandas.pydata.org/pandas-docs/stable/indexing.html#indexing-view-versus-copy\n"
     ]
    }
   ],
   "source": [
    "for n,s in enumerate(params['sub']):\n",
    "    if s == 'asu04':\n",
    "        params['sub'][n] = 'asu4'\n",
    "    if s == 'asu08':\n",
    "        params['sub'][n] = 'asu8'"
   ]
  },
  {
   "cell_type": "code",
   "execution_count": 972,
   "metadata": {
    "collapsed": false
   },
   "outputs": [
    {
     "data": {
      "text/plain": [
       "<seaborn.axisgrid.JointGrid at 0x7f55f6755d50>"
      ]
     },
     "execution_count": 972,
     "metadata": {},
     "output_type": "execute_result"
    },
    {
     "data": {
      "image/png": "[encoded data removed]",
      "text/plain": [
       "<matplotlib.figure.Figure at 0x7f55f76af1d0>"
      ]
     },
     "metadata": {},
     "output_type": "display_data"
    }
   ],
   "source": [
    "ifs2 = ifs.groupby('sub').mean().reset_index()\n",
    "ifs2 = pd.merge(ifs2,\n",
    "         params,\n",
    "        how = 'left',\n",
    "        on = 'sub')\n",
    "sns.jointplot(x = 'value',y= 'mag_effect', data = ifs2)"
   ]
  },
  {
   "cell_type": "code",
   "execution_count": 946,
   "metadata": {
    "collapsed": false
   },
   "outputs": [],
   "source": [
    "# ifs2.columns = ifs2.columns.get_level_values(0)\n",
    "# ifs2['mag_effect'] = params['mag_effect']"
   ]
  },
  {
   "cell_type": "code",
   "execution_count": null,
   "metadata": {
    "collapsed": true
   },
   "outputs": [],
   "source": []
  }
 ],
 "metadata": {
  "kernelspec": {
   "display_name": "Python 2",
   "language": "python",
   "name": "python2"
  },
  "language_info": {
   "codemirror_mode": {
    "name": "ipython",
    "version": 2
   },
   "file_extension": ".py",
   "mimetype": "text/x-python",
   "name": "python",
   "nbconvert_exporter": "python",
   "pygments_lexer": "ipython2",
   "version": "2.7.11"
  }
 },
 "nbformat": 4,
 "nbformat_minor": 0
}
