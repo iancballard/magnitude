{
 "cells": [
  {
   "cell_type": "code",
   "execution_count": 26,
   "metadata": {
    "collapsed": false
   },
   "outputs": [],
   "source": [
    "#os and i/o\n",
    "import os\n",
    "import numpy as np\n",
    "import glob\n",
    "from os.path import abspath\n",
    "import csv\n",
    "import shutil\n",
    "\n",
    "#scientific computing\n",
    "import matplotlib\n",
    "import matplotlib.pyplot as plt\n",
    "import pandas as pd\n",
    "from scipy import stats, optimize\n",
    "from pandas import DataFrame, Series\n",
    "import seaborn as sns\n",
    "import random as rd\n",
    "from statsmodels.formula.api import ols\n",
    "from statsmodels.stats.anova import anova_lm\n",
    "import scipy.stats\n",
    "\n",
    "#ipython add-ons\n",
    "from IPython.parallel import Client\n",
    "from IPython.display import Image\n",
    "import multiprocessing\n",
    "\n",
    "##nipype\n",
    "import nibabel as nib\n",
    "from nipype.pipeline.engine import Node, MapNode, Workflow\n",
    "from nipype.interfaces.io import DataGrabber, DataFinder, DataSink\n",
    "from nipype.interfaces import fsl\n",
    "from nipype.interfaces.fsl import BET\n",
    "from nipype.interfaces.freesurfer.preprocess import ReconAll\n",
    "from nipype.interfaces.freesurfer.utils import MakeAverageSubject\n",
    "from nipype.interfaces.fsl import ExtractROI\n",
    "from nipype.interfaces.fsl import Merge\n",
    "from nipype.interfaces.fsl import TOPUP\n",
    "from nipype.interfaces.fsl import ApplyTOPUP\n",
    "from nipype.workflows.fmri.fsl import create_susan_smooth\n",
    "\n",
    "from moss.mosaic import Mosaic\n",
    "\n",
    "%matplotlib inline"
   ]
  },
  {
   "cell_type": "code",
   "execution_count": 27,
   "metadata": {
    "collapsed": true
   },
   "outputs": [],
   "source": [
    "rc = Client()"
   ]
  },
  {
   "cell_type": "code",
   "execution_count": 28,
   "metadata": {
    "collapsed": true
   },
   "outputs": [],
   "source": [
    "#preliminary housekeeping\n",
    "home_dir = '/data/home/iballard/mag/'\n",
    "subj_file = home_dir + 'subjects.txt'\n",
    "sub_list = list(np.loadtxt(subj_file,'string'))\n",
    "fix_cmd = '/home/iballard/fix1.06/fix'\n",
    "os.chdir(home_dir)\n",
    "nruns = 6"
   ]
  },
  {
   "cell_type": "code",
   "execution_count": 29,
   "metadata": {
    "collapsed": false
   },
   "outputs": [],
   "source": [
    "in_tuples = []\n",
    "for sub in sub_list:\n",
    "    for exp in ['mag']:\n",
    "        for run in range(1,nruns+1):\n",
    "            in_tuples.append((sub,exp,str(run)))"
   ]
  },
  {
   "cell_type": "code",
   "execution_count": 30,
   "metadata": {
    "collapsed": false
   },
   "outputs": [],
   "source": [
    "#make symbolic links and directory structure that fix expects\n",
    "for sub in sub_list:\n",
    "    for exp in ['mag']:\n",
    "        for run in map(str,range(1,nruns+1)):\n",
    "\n",
    "            sub_dir = home_dir + 'analysis/' + exp + '/' + sub + '/preproc/run_' + run + '/'\n",
    "\n",
    "            if os.path.exists(sub_dir):\n",
    "                melodic_dir = sub_dir + 'melodic/'\n",
    "                ica_outputs_dir = melodic_dir + 'filtered_func_data.ica/'\n",
    "                reg_dir = melodic_dir + 'reg/'\n",
    "                motion_dir = melodic_dir + 'mc/'\n",
    "\n",
    "                if not os.path.exists(ica_outputs_dir):\n",
    "                    os.mkdir(ica_outputs_dir)         \n",
    "\n",
    "                    #move ica outputs from melodic dir to ica outputs dur\n",
    "                    cmd_str = 'mv ' + melodic_dir + '* ' + ica_outputs_dir\n",
    "                    os.system(cmd_str)\n",
    "\n",
    "                    if not os.path.exists(reg_dir):\n",
    "                        os.mkdir(reg_dir)\n",
    "                    if not os.path.exists(motion_dir):\n",
    "                        os.mkdir(motion_dir)\n",
    "\n",
    "                    old = sub_dir + 'smoothed_timeseries.nii.gz'\n",
    "                    new = melodic_dir + 'filtered_func_data.nii.gz'\n",
    "                    cmd_str = 'ln -s ' + old + ' ' + new\n",
    "                    if not os.path.exists(new):\n",
    "                        os.system(cmd_str)\n",
    "\n",
    "                    old = sub_dir + 'functional_mask.nii.gz'\n",
    "                    new = melodic_dir + 'mask.nii.gz'\n",
    "                    cmd_str = 'ln -s ' + old + ' ' + new\n",
    "                    if not os.path.exists(new):\n",
    "                        os.system(cmd_str)\n",
    "\n",
    "                    old = sub_dir + 'mean_func.nii.gz'\n",
    "                    new = melodic_dir + 'mean_func.nii.gz'\n",
    "                    cmd_str = 'ln -s ' + old + ' ' + new\n",
    "                    if not os.path.exists(new):\n",
    "                        os.system(cmd_str)\n",
    "\n",
    "                    old = sub_dir + 'example_func.nii.gz'\n",
    "                    new = reg_dir + 'example_func.nii.gz'\n",
    "                    cmd_str = 'ln -s ' + old + ' ' + new\n",
    "                    if not os.path.exists(new):\n",
    "                        os.system(cmd_str)\n",
    "\n",
    "                    old = sub_dir + 'func2anat_flirt.mat'\n",
    "                    new = reg_dir + 'highres2example_func.mat'\n",
    "                    cmd_str = 'convert_xfm -omat ' + new + ' -inverse ' + old\n",
    "                    if not os.path.exists(new):\n",
    "                        os.system(cmd_str)\n",
    "\n",
    "                    old = home_dir + 'analysis/workingdir/antswarp/_subject_id_' + sub + '/convertbrain/brain_out.nii.gz'\n",
    "                    new = reg_dir + 'highres.nii.gz'\n",
    "                    cmd_str = 'ln -s ' + old + ' ' + new\n",
    "                    if not os.path.exists(new):\n",
    "                        os.system(cmd_str)\n",
    "\n",
    "                    ##deal with motion data\n",
    "                    data = pd.DataFrame.from_csv(sub_dir + 'realignment_params.csv')\n",
    "                    data.to_csv(motion_dir + 'prefiltered_func_data_mcf.par',' ',\n",
    "                                columns = ['rot_x','rot_y','rot_z','trans_x','trans_y','trans_z'],\n",
    "                               header = False, index = False)\n",
    "                else:\n",
    "                    print exp + ' ' + sub + ' ' + run\n"
   ]
  },
  {
   "cell_type": "code",
   "execution_count": 43,
   "metadata": {
    "collapsed": false
   },
   "outputs": [],
   "source": [
    "def classify_features(thresh_tuple):\n",
    "    sub, exp, run, thresh = thresh_tuple\n",
    "    sub_path = home_dir + 'analysis/' + exp + '/' + sub + '/preproc/run_' + run + '/melodic'\n",
    "    training_file = '/home/iballard/fix1.06/training_files/Standard.RData'\n",
    "    thresh_file = sub_path + '/fix4melview_Standard_thr' + thresh + '.txt'\n",
    "    \n",
    "    if not os.path.exists(thresh_file):\n",
    "        cmd_str = fix_cmd + ' -c ' + sub_path + ' ' + training_file + ' ' + thresh\n",
    "        os.system(cmd_str)"
   ]
  },
  {
   "cell_type": "code",
   "execution_count": 46,
   "metadata": {
    "collapsed": false
   },
   "outputs": [],
   "source": [
    "thresholds = ['5','10','15','20','25','30']\n",
    "thresh_tuple = []\n",
    "for sub in sub_list:\n",
    "    for exp in ['mag']:\n",
    "        for run in range(1,5):\n",
    "            for thresh in thresholds:\n",
    "                thresh_tuple.append((sub,exp,str(run),thresh))\n",
    "\n",
    "for tup in thresh_tuple:\n",
    "    classify_features(tup)"
   ]
  },
  {
   "cell_type": "code",
   "execution_count": 47,
   "metadata": {
    "collapsed": false
   },
   "outputs": [
    {
     "name": "stdout",
     "output_type": "stream",
     "text": [
      "importing os on engine(s)\n",
      "importing numpy on engine(s)\n",
      "importing MELODIC from nipype.interfaces.fsl on engine(s)\n"
     ]
    }
   ],
   "source": [
    "dview = rc[0:40]\n",
    "dview.block = True\n",
    "\n",
    "dview.push(dict(home_dir = home_dir,\n",
    "                fix_cmd = fix_cmd))\n",
    "dview.execute(\"import numpy as np\")\n",
    "with dview.sync_imports():\n",
    "    import os\n",
    "    import numpy\n",
    "    from nipype.interfaces.fsl import MELODIC\n",
    "\n",
    "# dview.map_sync(classify_features,thresh_tuple)"
   ]
  },
  {
   "cell_type": "code",
   "execution_count": 48,
   "metadata": {
    "collapsed": false
   },
   "outputs": [],
   "source": [
    "#exame what Fix wants to remove for different thresholds\n",
    "thresholds = ['5','10','15','20','25','30']\n",
    "bad_pcs = {} #percentage of bad pcs\n",
    "pcs_list = {} #actual bad PC list\n",
    "total_pcs = {} #total # of pcs\n",
    "conds = ['mag']\n",
    "for thresh in thresholds:\n",
    "    for cond in conds:\n",
    "        bad_pcs[(cond,thresh)] = []  \n",
    "\n",
    "for sub in sub_list:\n",
    "    for exp in conds:\n",
    "        for run in map(str,range(1,5)):\n",
    "                        \n",
    "            sub_dir = home_dir + 'analysis/' + exp + '/' + sub + '/preproc/run_' + run + '/'\n",
    "\n",
    "            if os.path.exists(sub_dir):\n",
    "                for thresh in thresholds:\n",
    "                    id_tuple = (exp,sub,run,thresh)\n",
    "\n",
    "                    thresh_file = sub_dir + 'melodic/fix4melview_Standard_thr' + thresh + '.txt'\n",
    "                    if os.path.exists(thresh_file):\n",
    "                        with open(thresh_file) as f:\n",
    "                            lines = f.readlines()\n",
    "                            pcs = lines[-1]\n",
    "                            if pcs.strip('\\n') == '[]':\n",
    "                                pcs_list[id_tuple] = []\n",
    "                            else:\n",
    "                                pcs = pcs.strip('[')[:-1].strip(']').strip('\\n').split(',')\n",
    "                                pcs_list[id_tuple] = map(int,pcs)\n",
    "\n",
    "                            total_pcs[id_tuple] = float(lines[-2].split(',')[0])\n",
    "\n",
    "                            perc_bad_pcs = [len(pcs_list[id_tuple])/total_pcs[id_tuple]]\n",
    "                            bad_pcs[(exp,thresh)] = np.hstack([bad_pcs[(exp,thresh)]\n",
    "                                                      ,perc_bad_pcs])\n",
    "                    else:\n",
    "                        print thresh_file\n",
    "                                  \n",
    "            else:\n",
    "                perc_bad_pcs = np.nan\n",
    "                for thresh in thresholds:\n",
    "                    bad_pcs[(exp,thresh)] = np.hstack([bad_pcs[(exp,thresh)]\n",
    "                                              ,perc_bad_pcs])\n"
   ]
  },
  {
   "cell_type": "code",
   "execution_count": 49,
   "metadata": {
    "collapsed": false
   },
   "outputs": [
    {
     "name": "stderr",
     "output_type": "stream",
     "text": [
      "/home/iballard/anaconda/lib/python2.7/site-packages/seaborn/categorical.py:2125: UserWarning: The boxplot API has been changed. Attempting to adjust your arguments for the new API (which might not work). Please update your code. See the version 0.6 release notes for more info.\n",
      "  warnings.warn(msg, UserWarning)\n"
     ]
    },
    {
     "data": {
      "text/plain": [
       "<matplotlib.axes._subplots.AxesSubplot at 0x7f93dd8ffc50>"
      ]
     },
     "execution_count": 49,
     "metadata": {},
     "output_type": "execute_result"
    },
    {
     "data": {
      "image/png": "[encoded data removed]",
      "text/plain": [
       "<matplotlib.figure.Figure at 0x7f93dd93e8d0>"
      ]
     },
     "metadata": {},
     "output_type": "display_data"
    }
   ],
   "source": [
    "bad_pcs = pd.DataFrame(bad_pcs)\n",
    "plt.figure(figsize=(8,6))\n",
    "sns.boxplot(bad_pcs)"
   ]
  },
  {
   "cell_type": "code",
   "execution_count": 51,
   "metadata": {
    "collapsed": false
   },
   "outputs": [],
   "source": [
    "##compute percentage of total variance\n",
    "#initialize bad pc dictionary\n",
    "bad_pc_total_variance = {}\n",
    "for thresh in thresholds:\n",
    "    for cond in conds:\n",
    "        bad_pc_total_variance[(cond,thresh)] = []  \n",
    "\n",
    "run_id = []\n",
    "\n",
    "# good_subs = [s for s in sub_list if s not in ['fd_126','fd_140']]\n",
    "for sub in sub_list:\n",
    "    for run in ['1','2','3']:\n",
    "        for exp in ['mag']:\n",
    "            sub_dir = home_dir + 'analysis/' + exp + '/' + sub + '/preproc/run_' + run + '/'\n",
    "\n",
    "            if os.path.exists(sub_dir):\n",
    "                id_tuple = (exp,sub,run,thresh)\n",
    "                #get list of how much variance is explained by each ic from the report file\n",
    "                ic_variance = []\n",
    "                for ic in range(1,int(total_pcs[id_tuple]) + 1):\n",
    "                    ic_file = sub_dir + 'melodic/filtered_func_data.ica/report/IC_' + str(ic) + '.html'\n",
    "                    if os.path.exists(ic_file):\n",
    "                        with open(ic_file) as f:\n",
    "                            html_str = f.readlines()\n",
    "                            html_str = ','.join(html_str)\n",
    "                            index = html_str.find('% of total variance') #can also look at explained variance\n",
    "                            ic_variance.append(float(html_str[index - 5:index-1]))\n",
    "                    else:\n",
    "                        print ic_file\n",
    "\n",
    "                #compute total variance explained by bad ics for each threshold level\n",
    "                for thresh in thresholds:\n",
    "                    id_tuple = (exp,sub,run,thresh)\n",
    "\n",
    "                    indices = [i - 1 for i in pcs_list[id_tuple]] #convert to indices (indexing starts at 1 here)\n",
    "                    bad_ic_variance = [ic_variance[i] for i in indices]\n",
    "                    bad_ic_variance = np.sum(bad_ic_variance) \n",
    "                    bad_pc_total_variance[(exp,thresh)] = np.hstack([bad_pc_total_variance[(exp,thresh)]\n",
    "                                                                     ,bad_ic_variance])\n",
    "            else:\n",
    "                bad_ic_variance = np.nan\n",
    "                for thresh in thresholds:\n",
    "                    bad_pc_total_variance[(exp,thresh)] = np.hstack([bad_pc_total_variance[(exp,thresh)]\n",
    "                                                                     ,bad_ic_variance])\n",
    "        run_id.append((sub,run))   \n"
   ]
  },
  {
   "cell_type": "code",
   "execution_count": 52,
   "metadata": {
    "collapsed": false,
    "scrolled": true
   },
   "outputs": [
    {
     "name": "stderr",
     "output_type": "stream",
     "text": [
      "/home/iballard/anaconda/lib/python2.7/site-packages/seaborn/categorical.py:2125: UserWarning: The boxplot API has been changed. Attempting to adjust your arguments for the new API (which might not work). Please update your code. See the version 0.6 release notes for more info.\n",
      "  warnings.warn(msg, UserWarning)\n"
     ]
    },
    {
     "data": {
      "text/plain": [
       "<matplotlib.axes._subplots.AxesSubplot at 0x7f9380270650>"
      ]
     },
     "execution_count": 52,
     "metadata": {},
     "output_type": "execute_result"
    },
    {
     "data": {
      "image/png": "[encoded data removed]",
      "text/plain": [
       "<matplotlib.figure.Figure at 0x7f93dd834d50>"
      ]
     },
     "metadata": {},
     "output_type": "display_data"
    }
   ],
   "source": [
    "bad_pc_total_variance = pd.DataFrame(bad_pc_total_variance)\n",
    "sns.boxplot(bad_pc_total_variance)"
   ]
  },
  {
   "cell_type": "code",
   "execution_count": 60,
   "metadata": {
    "collapsed": false
   },
   "outputs": [
    {
     "name": "stdout",
     "output_type": "stream",
     "text": [
      "mag[('asu8', '1')]\n"
     ]
    }
   ],
   "source": [
    "outlier_thresh = bad_pc_total_variance.mean() + 2.5* bad_pc_total_variance.std()\n",
    "for exp in ['mag']:\n",
    "    for thresh in thresholds:\n",
    "        if thresh == '25':\n",
    "            data = bad_pc_total_variance[exp][thresh].values\n",
    "            thresh = outlier_thresh[exp][thresh]\n",
    "            suspect_indices = data > thresh \n",
    "            bad_runs = [x for n,x in enumerate(run_id) if suspect_indices[n]]\n",
    "            print exp + str(bad_runs)"
   ]
  },
  {
   "cell_type": "code",
   "execution_count": 59,
   "metadata": {
    "collapsed": false,
    "scrolled": true
   },
   "outputs": [
    {
     "data": {
      "text/plain": [
       "mag  10     0.00\n",
       "     15     4.62\n",
       "     20    18.84\n",
       "     25    21.18\n",
       "     30    22.28\n",
       "     5      0.00\n",
       "dtype: float64"
      ]
     },
     "execution_count": 59,
     "metadata": {},
     "output_type": "execute_result"
    }
   ],
   "source": [
    "bad_pc_total_variance.max()"
   ]
  },
  {
   "cell_type": "code",
   "execution_count": 65,
   "metadata": {
    "collapsed": false,
    "scrolled": false
   },
   "outputs": [],
   "source": [
    "##project out the bad components\n",
    "def clean_data(in_tuple):\n",
    "    threshold = '25'\n",
    "    sub, exp, run = in_tuple\n",
    "\n",
    "    sub_path = home_dir + 'analysis/' + exp + '/' + sub + '/preproc/run_' + run + '/'\n",
    "\n",
    "    mel_path = sub_path + '/melodic'\n",
    "\n",
    "    thresh_file = mel_path +'/fix4melview_Standard_thr' + threshold + '.txt'\n",
    "    cmd_str = fix_cmd + ' -a ' + thresh_file \n",
    "    new_file = mel_path + '/filtered_func_data_clean.nii.gz'\n",
    "    if os.path.exists(sub_path) and not os.path.exists(new_file):\n",
    "        os.system(cmd_str)\n",
    "#         print cmd_str\n",
    "# clean_data(in_tuples[0])"
   ]
  },
  {
   "cell_type": "code",
   "execution_count": 67,
   "metadata": {
    "collapsed": false,
    "scrolled": true
   },
   "outputs": [
    {
     "name": "stdout",
     "output_type": "stream",
     "text": [
      "importing os on engine(s)\n",
      "importing numpy on engine(s)\n",
      "importing MELODIC from nipype.interfaces.fsl on engine(s)\n"
     ]
    }
   ],
   "source": [
    "dview = rc[0:32]\n",
    "dview.block = True\n",
    "\n",
    "dview.push(dict(home_dir = home_dir,\n",
    "                fix_cmd = fix_cmd))\n",
    "dview.execute(\"import numpy as np\")\n",
    "with dview.sync_imports():\n",
    "    import os\n",
    "    import numpy\n",
    "    from nipype.interfaces.fsl import MELODIC\n",
    "\n",
    "# dview.map_sync(clean_data,in_tuples)"
   ]
  },
  {
   "cell_type": "code",
   "execution_count": 1,
   "metadata": {
    "collapsed": false
   },
   "outputs": [],
   "source": [
    "#rearrange directory structure to trick lyman into thinking cleaned data is its own\n",
    "for in_tuple in in_tuples:\n",
    "    sub, exp, run = in_tuple\n",
    "    \n",
    "    if sub not in ['subject03']:\n",
    "\n",
    "        sub_path = home_dir + 'analysis/' + exp + '/' + sub + '/preproc/run_' + run\n",
    "        if os.path.exists(sub_path):\n",
    "\n",
    "            new_dir = sub_path + '/uncleaned_data'\n",
    "            if not os.path.exists(new_dir):\n",
    "                os.mkdir(new_dir)\n",
    "\n",
    "            #move old lyman files inside new_dir if they arent there already\n",
    "            old_smooth = sub_path + '/smoothed_timeseries.nii.gz'\n",
    "            if not os.path.exists(new_dir + '/smoothed_timeseries.nii.gz'):\n",
    "                shutil.move(old_smooth,new_dir)\n",
    "\n",
    "            #create a symbolic link to cleaned and smoothed data\n",
    "            if not os.path.exists(old_smooth):\n",
    "                cmd_str = 'ln -s ' + sub_path + '/melodic/filtered_func_data_clean.nii.gz ' + old_smooth\n",
    "                os.system(cmd_str)\n",
    "        else:\n",
    "            print sub_path"
   ]
  }
 ],
 "metadata": {
  "kernelspec": {
   "display_name": "Python 2",
   "language": "python",
   "name": "python2"
  },
  "language_info": {
   "codemirror_mode": {
    "name": "ipython",
    "version": 2
   },
   "file_extension": ".py",
   "mimetype": "text/x-python",
   "name": "python",
   "nbconvert_exporter": "python",
   "pygments_lexer": "ipython2",
   "version": "2.7.11"
  }
 },
 "nbformat": 4,
 "nbformat_minor": 0
}
