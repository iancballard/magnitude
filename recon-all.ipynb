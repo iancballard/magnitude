{
 "cells": [
  {
   "cell_type": "markdown",
   "metadata": {},
   "source": [
    "# Run Freesurfer Recon-All using nipype"
   ]
  },
  {
   "cell_type": "code",
   "execution_count": 1,
   "metadata": {
    "collapsed": false
   },
   "outputs": [],
   "source": [
    "#os and i/o\n",
    "import os\n",
    "import numpy as np\n",
    "import glob\n",
    "from os.path import abspath\n",
    "import csv\n",
    "\n",
    "#scientific computing\n",
    "import matplotlib\n",
    "import matplotlib.pyplot as plt\n",
    "import pandas as pd\n",
    "import moss\n",
    "from scipy import stats, optimize\n",
    "from pandas import DataFrame, Series\n",
    "import seaborn as sns\n",
    "import random as rd\n",
    "from statsmodels.formula.api import ols\n",
    "from statsmodels.stats.anova import anova_lm\n",
    "import scipy.stats\n",
    "\n",
    "#ipython add-ons\n",
    "from IPython.display import Image\n",
    "\n",
    "##nipype\n",
    "import nibabel as nib\n",
    "from nipype.pipeline.engine import Node, MapNode, Workflow\n",
    "from nipype.interfaces.io import DataGrabber, DataFinder, DataSink\n",
    "from nipype.interfaces import fsl\n",
    "from nipype.interfaces.fsl import BET\n",
    "from nipype.interfaces.freesurfer.preprocess import ReconAll\n",
    "from nipype.interfaces.freesurfer.utils import MakeAverageSubject\n",
    "%matplotlib inline"
   ]
  },
  {
   "cell_type": "code",
   "execution_count": 3,
   "metadata": {
    "collapsed": false
   },
   "outputs": [
    {
     "data": {
      "text/plain": [
       "['asu11', 'asu12']"
      ]
     },
     "execution_count": 3,
     "metadata": {},
     "output_type": "execute_result"
    }
   ],
   "source": [
    "home_dir = '/data/home/iballard/mag/'\n",
    "subj_file = home_dir + 'new_subs.txt'\n",
    "subjects = np.loadtxt(subj_file,'string')\n",
    "subjects_dir = home_dir + 'data/freesurfer/'\n",
    "subjects = [str(subjects)]\n",
    "subjects = ['asu11','asu12']\n",
    "subjects"
   ]
  },
  {
   "cell_type": "code",
   "execution_count": 3,
   "metadata": {
    "collapsed": true
   },
   "outputs": [],
   "source": [
    "#initialize workflow\n",
    "wf = Workflow('freesurfer_recon')\n",
    "wf.base_dir = abspath(home_dir)"
   ]
  },
  {
   "cell_type": "code",
   "execution_count": 4,
   "metadata": {
    "collapsed": false
   },
   "outputs": [
    {
     "name": "stdout",
     "output_type": "stream",
     "text": [
      "\n",
      "anat = ['/data/home/iballard/mag/data/asu11/anat/st1_0000.nii.gz', '/data/home/iballard/mag/data/asu12/anat/st1_0000.nii.gz']\n",
      "\n"
     ]
    }
   ],
   "source": [
    "#get data using datagrabber\n",
    "##set up data grabber\n",
    "ds = Node(DataGrabber(infields=['subject_id','task_id','run_id'],outfields =['func','anat']),\n",
    "         name = 'datasource')\n",
    "ds.inputs.base_directory = abspath(home_dir + '/data/')\n",
    "ds.inputs.template = '*'\n",
    "ds.inputs.template_args = {'anat':[['subject_id']]}\n",
    "ds.inputs.field_template = {'anat': '%s/anat/st1_0000.nii.gz'}\n",
    "ds.inputs.sort_filelist = True\n",
    "\n",
    "ds.inputs.subject_id = subjects\n",
    "ds.inputs.task_id = '*'\n",
    "ds.inputs.run_id = '*'\n",
    "print ds.run().outputs"
   ]
  },
  {
   "cell_type": "code",
   "execution_count": 5,
   "metadata": {
    "collapsed": false,
    "scrolled": true
   },
   "outputs": [
    {
     "name": "stdout",
     "output_type": "stream",
     "text": [
      "\n",
      "T1_files = <undefined>\n",
      "T2_file = <undefined>\n",
      "args = <undefined>\n",
      "directive = all\n",
      "environ = {}\n",
      "flags = <undefined>\n",
      "hemi = <undefined>\n",
      "ignore_exception = False\n",
      "openmp = <undefined>\n",
      "subject_id = ['asu11', 'asu12']\n",
      "subjects_dir = /data/home/iballard/mag/data/freesurfer/\n",
      "terminal_output = stream\n",
      "\n"
     ]
    }
   ],
   "source": [
    "#set up recon node\n",
    "recon_all = MapNode(interface = ReconAll(), name = 'recon_all',iterfield = ['subject_id','T1_files'])\n",
    "recon_all.inputs.subject_id  = subjects\n",
    "recon_all.inputs.subjects_dir = subjects_dir\n",
    "# recon_all.inputs.directive  = 'autorecon3'\n",
    "# recon_all.inputs.args = '-noskullstrip'\n",
    "wf.connect(ds,'anat',recon_all,'T1_files')\n",
    "print recon_all.inputs"
   ]
  },
  {
   "cell_type": "code",
   "execution_count": 6,
   "metadata": {
    "collapsed": false
   },
   "outputs": [
    {
     "name": "stderr",
     "output_type": "stream",
     "text": [
      "/home/iballard/anaconda/lib/python2.7/site-packages/IPython/kernel/__init__.py:13: ShimWarning: The `IPython.kernel` package has been deprecated. You should import from ipykernel or jupyter_client instead.\n",
      "  \"You should import from ipykernel or jupyter_client instead.\", ShimWarning)\n",
      "/home/iballard/anaconda/lib/python2.7/site-packages/IPython/parallel.py:13: ShimWarning: The `IPython.parallel` package has been deprecated. You should import from ipyparallel instead.\n",
      "  \"You should import from ipyparallel instead.\", ShimWarning)\n"
     ]
    },
    {
     "data": {
      "text/plain": [
       "<networkx.classes.digraph.DiGraph at 0x7f5b595fec50>"
      ]
     },
     "execution_count": 6,
     "metadata": {},
     "output_type": "execute_result"
    }
   ],
   "source": [
    "wf.run(plugin = 'MultiProc')"
   ]
  },
  {
   "cell_type": "code",
   "execution_count": 42,
   "metadata": {
    "collapsed": false
   },
   "outputs": [],
   "source": []
  },
  {
   "cell_type": "code",
   "execution_count": 4,
   "metadata": {
    "collapsed": false
   },
   "outputs": [
    {
     "name": "stdout",
     "output_type": "stream",
     "text": [
      "asu11\n",
      "mv /data/home/iballard/mag//data/freesurfer/asu11/* /data/home/iballard/mag//data/asu11/\n",
      "asu12\n",
      "mv /data/home/iballard/mag//data/freesurfer/asu12/* /data/home/iballard/mag//data/asu12/\n"
     ]
    }
   ],
   "source": [
    "##fix directory structure. For some reason ipython insists on making a new directory for freesurfer outputs,\n",
    "#but lyman wants them in the subject folder\n",
    "for n,sub in enumerate(subjects):\n",
    "    print sub\n",
    "    if True:\n",
    "        freesurfer_dir = home_dir + '/data/freesurfer/' + sub\n",
    "        if os.path.exists(freesurfer_dir):\n",
    "            sub_dir = home_dir + '/data/' + sub +'/'\n",
    "            cmd = 'mv ' + freesurfer_dir + '/* ' + sub_dir\n",
    "            print cmd\n",
    "            os.system(cmd)\n",
    "            os.rmdir(freesurfer_dir)\n"
   ]
  }
 ],
 "metadata": {
  "kernelspec": {
   "display_name": "Python 2",
   "language": "python",
   "name": "python2"
  },
  "language_info": {
   "codemirror_mode": {
    "name": "ipython",
    "version": 2
   },
   "file_extension": ".py",
   "mimetype": "text/x-python",
   "name": "python",
   "nbconvert_exporter": "python",
   "pygments_lexer": "ipython2",
   "version": "2.7.11"
  }
 },
 "nbformat": 4,
 "nbformat_minor": 0
}
