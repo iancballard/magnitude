{
 "cells": [
  {
   "cell_type": "code",
   "execution_count": 62,
   "metadata": {
    "collapsed": true
   },
   "outputs": [],
   "source": [
    "import os\n",
    "import os.path as op\n",
    "import glob\n",
    "import numpy as np\n",
    "import multiprocessing\n",
    "from nipype.interfaces import fsl"
   ]
  },
  {
   "cell_type": "code",
   "execution_count": 29,
   "metadata": {
    "collapsed": false
   },
   "outputs": [],
   "source": [
    "#preliminary housekeeping\n",
    "home_dir = '/data/home/iballard/mag/'\n",
    "subj_file = home_dir + 'subjects.txt'\n",
    "subs = list(np.loadtxt(subj_file,'string'))\n",
    "os.chdir(home_dir)\n",
    "exps = ['mag-SC']\n",
    "runs = map(str,range(1,5))"
   ]
  },
  {
   "cell_type": "code",
   "execution_count": 52,
   "metadata": {
    "collapsed": false
   },
   "outputs": [
    {
     "data": {
      "text/plain": [
       "['rh.vmpfc_bartre.label']"
      ]
     },
     "execution_count": 52,
     "metadata": {},
     "output_type": "execute_result"
    }
   ],
   "source": [
    "#get cortical areas from Yeo atlas\n",
    "path = home_dir + '/data/fsaverage/label/'\n",
    "# cortical_areas =  glob.glob(path + '*.7Net*')\n",
    "# cortical_areas = [x.split('/')[-1] for x in cortical_areas]\n",
    "\n",
    "#get cortical areas from Michael's parcellation\n",
    "# cortical_areas =  glob.glob(path + '*yeo*')\n",
    "# cortical_areas = [x.split('/')[-1] for x in cortical_areas]\n",
    "# print cortical_areas\n",
    "\n",
    "#get vmpfc roi\n",
    "cortical_areas =  glob.glob(path + '*vmpfc*')\n",
    "cortical_areas = [x.split('/')[-1] for x in cortical_areas]\n",
    "cortical_areas = [cortical_areas[0]]\n",
    "cortical_areas"
   ]
  },
  {
   "cell_type": "code",
   "execution_count": 53,
   "metadata": {
    "collapsed": false
   },
   "outputs": [],
   "source": [
    "def make_mask(in_tuple):\n",
    "    sub,roi = in_tuple\n",
    "    roi_id = roi.split('.')[1]\n",
    "    hemi = roi.split('.')[0]\n",
    "    \n",
    "    cmd = ['make_masks.py',\n",
    "           '-s',\n",
    "           sub,\n",
    "           '-roi',\n",
    "           hemi + '.' + roi_id,\n",
    "            '-label',\n",
    "           roi_id,\n",
    "           '-sample cortex',\n",
    "#            '-proj frac 0 1 .1',\n",
    "           '-hemi',\n",
    "           hemi,\n",
    "           '-debug',\n",
    "           '-serial']\n",
    "    cmd = ' '.join(cmd)\n",
    "    os.system(cmd)"
   ]
  },
  {
   "cell_type": "code",
   "execution_count": 56,
   "metadata": {
    "collapsed": true
   },
   "outputs": [],
   "source": [
    "def make_mask_no_hemi(in_tuple):\n",
    "    sub,roi = in_tuple\n",
    "    roi_id = roi.split('.')[1]\n",
    "    hemi = roi.split('.')[0]\n",
    "    \n",
    "    cmd = ['make_masks.py',\n",
    "           '-s',\n",
    "           sub,\n",
    "           '-roi',\n",
    "           roi_id,\n",
    "            '-label',\n",
    "           roi_id,\n",
    "           '-sample cortex',\n",
    "           '-debug',\n",
    "           '-serial']\n",
    "    cmd = ' '.join(cmd)\n",
    "    os.system(cmd)"
   ]
  },
  {
   "cell_type": "code",
   "execution_count": 57,
   "metadata": {
    "collapsed": false
   },
   "outputs": [],
   "source": [
    "in_tuples = []\n",
    "for sub in subs:\n",
    "    for roi in cortical_areas:\n",
    "        in_tuples.append((sub,roi))"
   ]
  },
  {
   "cell_type": "code",
   "execution_count": 58,
   "metadata": {
    "collapsed": false
   },
   "outputs": [],
   "source": [
    "pool = multiprocessing.Pool(50)\n",
    "pool.map(make_mask_no_hemi,in_tuples)\n",
    "pool.terminate()\n",
    "pool.join()"
   ]
  },
  {
   "cell_type": "markdown",
   "metadata": {},
   "source": [
    "# Map MNI ROI back into EPI space"
   ]
  },
  {
   "cell_type": "code",
   "execution_count": 80,
   "metadata": {
    "collapsed": false
   },
   "outputs": [],
   "source": [
    "rois = ['figure3D_vmpfc_bartre']\n",
    "exp = 'mag'\n",
    "#warp group statistical image back into subject space\n",
    "for sub in subs: \n",
    "    if sub != 'subject03':\n",
    "        #set paths\n",
    "        mask_path = home_dir + '/data/' + sub\n",
    "        out_dir = mask_path + '/masks/'\n",
    "\n",
    "        #copy warpfile to make ANTs happy\n",
    "        warp = mask_path + '/normalization/inverse_warpfield.nii.gz'\n",
    "        warpfield = mask_path + '/normalization/InverseWarp.nii.gz'\n",
    "        cmd = ['ln','-s',warp, warpfield]\n",
    "        os.system(' '.join(cmd))\n",
    "\n",
    "        for roi in rois:\n",
    "            im =  home_dir + '/rois/' + roi + '.nii.gz'\n",
    "\n",
    "            #warp to subject space\n",
    "            out_warp = out_dir + roi + '_anat_space.nii.gz'\n",
    "            ref_file = fsl.Info.standard_image(\"avg152T1_brain.nii.gz\")\n",
    "            affine = home_dir + '/data/' + sub + '/normalization/affine.txt'\n",
    "            anat = home_dir + '/data/' + sub + '/anat/brain_out.nii.gz'\n",
    "            if os.path.exists(out_warp):\n",
    "                os.remove(out_warp)\n",
    "            cmd_str = ['WarpImageMultiTransform','3',im,out_warp,'-i',affine,warpfield,\n",
    "                       '-R',anat]\n",
    "            cmd_str = ' '.join(cmd_str)\n",
    "            os.system(cmd_str)\n",
    "\n",
    "            #register to functional space\n",
    "            sub_path = home_dir + 'analysis/' + exp + '/' + sub\n",
    "\n",
    "            #register to func\n",
    "            transform = sub_path + '/preproc/run_1/func2anat_tkreg.dat'\n",
    "            mean_func = sub_path + '/preproc/run_1/mean_func.nii.gz'\n",
    "            out_rigid = out_dir + exp + '_' + roi + '_func_space.nii.gz'\n",
    "            if os.path.exists(out_rigid):\n",
    "                os.remove(out_rigid)\n",
    "            cmd_line = ['mri_vol2vol','--mov',mean_func,'--targ',out_warp,'--reg',transform,'--o',out_rigid,\n",
    "                        '--no-save-reg','--inv']\n",
    "            os.system(' '.join(cmd_line))\n",
    "\n",
    "            #binarize\n",
    "            out_mask = out_dir + exp + '_' + roi + '_mask.nii.gz'\n",
    "            if os.path.exists(out_mask):\n",
    "                os.remove(out_mask)\n",
    "            cmd = ['fslmaths',out_rigid,'-thr','.1','-bin',out_mask]\n",
    "            os.system(' '.join(cmd))\n"
   ]
  },
  {
   "cell_type": "code",
   "execution_count": 76,
   "metadata": {
    "collapsed": false
   },
   "outputs": [],
   "source": [
    "for sub in subs:\n",
    "    anat = '/home/iballard/mag/analysis/workingdir/antswarp/_subject_id_' + sub + '/convertbrain/brain_out.nii.gz'\n",
    "    new = '/home/iballard/mag/data/' + sub + '/anat/brain_out.nii.gz'\n",
    "    \n",
    "    os.rename(anat,new)"
   ]
  },
  {
   "cell_type": "code",
   "execution_count": 82,
   "metadata": {
    "collapsed": false
   },
   "outputs": [],
   "source": [
    "for sub in subs:\n",
    "    roi_path = '/home/iballard/mag/data/' + sub + '/masks/'\n",
    "    \n",
    "    cmd = ['fslmaths',roi_path + 'lh.vmpfc_bartre','-add',\n",
    "           roi_path + 'rh.vmpfc_bartre', roi_path + 'temp']\n",
    "    os.system(' '.join(cmd))\n",
    "    \n",
    "    cmd = ['fslmaths',roi_path + 'temp','-bin',\n",
    "           roi_path + 'vmpfc_freesurfer']\n",
    "    os.system(' '.join(cmd))\n",
    "    "
   ]
  },
  {
   "cell_type": "code",
   "execution_count": null,
   "metadata": {
    "collapsed": true
   },
   "outputs": [],
   "source": []
  }
 ],
 "metadata": {
  "kernelspec": {
   "display_name": "Python 2",
   "language": "python",
   "name": "python2"
  },
  "language_info": {
   "codemirror_mode": {
    "name": "ipython",
    "version": 2
   },
   "file_extension": ".py",
   "mimetype": "text/x-python",
   "name": "python",
   "nbconvert_exporter": "python",
   "pygments_lexer": "ipython2",
   "version": "2.7.11"
  }
 },
 "nbformat": 4,
 "nbformat_minor": 0
}
