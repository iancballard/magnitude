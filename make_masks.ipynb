{
 "cells": [
  {
   "cell_type": "code",
   "execution_count": 1,
   "metadata": {
    "collapsed": true
   },
   "outputs": [],
   "source": [
    "import os\n",
    "import os.path as op\n",
    "import glob\n",
    "import numpy as np\n",
    "import multiprocessing\n",
    "from nipype.interfaces import fsl"
   ]
  },
  {
   "cell_type": "code",
   "execution_count": 52,
   "metadata": {
    "collapsed": false
   },
   "outputs": [],
   "source": [
    "#preliminary housekeeping\n",
    "home_dir = '/data/home/iballard/mag/'\n",
    "subj_file = home_dir + 'subjects.txt'\n",
    "subs = list(np.loadtxt(subj_file,'string'))\n",
    "os.chdir(home_dir)\n",
    "exps = ['mag']\n",
    "runs = map(str,range(1,5))"
   ]
  },
  {
   "cell_type": "code",
   "execution_count": 62,
   "metadata": {
    "collapsed": false
   },
   "outputs": [
    {
     "name": "stdout",
     "output_type": "stream",
     "text": [
      "19\n"
     ]
    }
   ],
   "source": [
    "print len(subs)"
   ]
  },
  {
   "cell_type": "code",
   "execution_count": 63,
   "metadata": {
    "collapsed": false
   },
   "outputs": [],
   "source": [
    "#get cortical areas from Yeo atlas\n",
    "path = home_dir + '/data/fsaverage/label/'\n",
    "\n",
    "#get cortical areas from Michael's parcellation\n",
    "cortical_areas =  glob.glob(path + '*yeo*')\n",
    "cortical_areas = [x.split('/')[-1] for x in cortical_areas]\n",
    "\n",
    "#get vmpfc roi\n",
    "# cortical_areas =  glob.glob(path + '*vmpfc_bartre.label')\n",
    "# cortical_areas = [x.split('/')[-1] for x in cortical_areas]\n",
    "# cortical_areas"
   ]
  },
  {
   "cell_type": "code",
   "execution_count": 58,
   "metadata": {
    "collapsed": false
   },
   "outputs": [],
   "source": [
    "def make_mask(in_tuple):\n",
    "    sub,roi = in_tuple\n",
    "    roi_id = roi.split('.')[1]\n",
    "    hemi = roi.split('.')[0]\n",
    "    \n",
    "    cmd = ['make_masks.py',\n",
    "           '-s',\n",
    "           sub,\n",
    "           '-roi',\n",
    "           hemi + '.' + roi_id,\n",
    "            '-label',\n",
    "           roi_id,\n",
    "           '-sample graymid',\n",
    "           '-hemi',\n",
    "           hemi,\n",
    "           '-debug',\n",
    "           '-serial']\n",
    "    cmd = ' '.join(cmd)\n",
    "    os.system(cmd)"
   ]
  },
  {
   "cell_type": "code",
   "execution_count": 59,
   "metadata": {
    "collapsed": false
   },
   "outputs": [],
   "source": [
    "in_tuples = []\n",
    "for sub in subs:\n",
    "    for roi in cortical_areas:\n",
    "        in_tuples.append((sub,roi))"
   ]
  },
  {
   "cell_type": "code",
   "execution_count": 64,
   "metadata": {
    "collapsed": false
   },
   "outputs": [],
   "source": [
    "pool = multiprocessing.Pool(50)\n",
    "pool.map(make_mask,in_tuples)\n",
    "pool.terminate()\n",
    "pool.join()"
   ]
  },
  {
   "cell_type": "code",
   "execution_count": null,
   "metadata": {
    "collapsed": true
   },
   "outputs": [],
   "source": [
    "##bash commands for warping MNI brain vmPFC roi to freesurfer space\n",
    "# mri_vol2surf --mov vmpfc_bartre_5way.nii.gz --reg MNI_to_fsaverage.dat --projdist-max 0 1 .1 --interp nearest  --hemi lh --out lh.vmpfc_bartre.mgh --reshape --trgsubject fsaverage --cortex\n",
    "\n",
    "# mri_vol2surf --mov vmpfc_bartre_5way.nii.gz --reg MNI_to_fsaverage.dat --projdist-max 0 1 .1 --interp nearest  --hemi rh --out rh.vmpfc_bartre.mgh --reshape --trgsubject fsaverage --cortex\n",
    "\n",
    "# mri_binarize --i rh.vmpfc_bartre.mgh --min .1 --o rh.vmpfc_bin.mgh\n",
    "# mri_binarize --i lh.vmpfc_bartre.mgh --min .1 --o lh.vmpfc_bin.mgh\n",
    "\n",
    "# mri_cor2label --i lh.vmpfc_bin.mgh --l label/lh.vmpfc_bartre.label --surf fsaverage lh --id 1\n",
    "# mri_cor2label --i rh.vmpfc_bin.mgh --l label/rh.vmpfc_bartre.label --surf fsaverage lh --id 1"
   ]
  }
 ],
 "metadata": {
  "kernelspec": {
   "display_name": "Python 2",
   "language": "python",
   "name": "python2"
  },
  "language_info": {
   "codemirror_mode": {
    "name": "ipython",
    "version": 2
   },
   "file_extension": ".py",
   "mimetype": "text/x-python",
   "name": "python",
   "nbconvert_exporter": "python",
   "pygments_lexer": "ipython2",
   "version": "2.7.11"
  }
 },
 "nbformat": 4,
 "nbformat_minor": 0
}
