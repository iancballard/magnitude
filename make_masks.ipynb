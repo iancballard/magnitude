{
 "cells": [
  {
   "cell_type": "code",
   "execution_count": 2,
   "metadata": {
    "collapsed": true
   },
   "outputs": [],
   "source": [
    "import os\n",
    "import os.path as op\n",
    "import glob\n",
    "import numpy as np\n",
    "import multiprocessing\n",
    "from nipype.interfaces import fsl"
   ]
  },
  {
   "cell_type": "code",
   "execution_count": 3,
   "metadata": {
    "collapsed": false
   },
   "outputs": [],
   "source": [
    "#preliminary housekeeping\n",
    "home_dir = '/data/home/iballard/mag/'\n",
    "subj_file = home_dir + 'subjects.txt'\n",
    "subs = list(np.loadtxt(subj_file,'string'))\n",
    "os.chdir(home_dir)\n",
    "exps = ['mag']\n",
    "runs = map(str,range(1,5))"
   ]
  },
  {
   "cell_type": "code",
   "execution_count": 4,
   "metadata": {
    "collapsed": false
   },
   "outputs": [
    {
     "data": {
      "text/plain": [
       "['lh.vmpfc_bartre_smooth.label']"
      ]
     },
     "execution_count": 4,
     "metadata": {},
     "output_type": "execute_result"
    }
   ],
   "source": [
    "#get cortical areas from Yeo atlas\n",
    "path = home_dir + '/data/fsaverage/label/'\n",
    "\n",
    "#get cortical areas from Michael's parcellation\n",
    "cortical_areas =  glob.glob(path + '*yeo*')\n",
    "cortical_areas = [x.split('/')[-1] for x in cortical_areas]\n",
    "print cortical_areas\n",
    "\n",
    "#get vmpfc roi\n",
    "cortical_areas =  glob.glob(path + '*vmpfc**')\n",
    "cortical_areas = [x.split('/')[-1] for x in cortical_areas]\n",
    "cortical_areas = [cortical_areas[0]]\n",
    "cortical_areas"
   ]
  },
  {
   "cell_type": "code",
   "execution_count": 9,
   "metadata": {
    "collapsed": false
   },
   "outputs": [],
   "source": [
    "def make_mask(in_tuple):\n",
    "    sub,roi = in_tuple\n",
    "    roi_id = roi.split('.')[1]\n",
    "    hemi = roi.split('.')[0]\n",
    "    \n",
    "    cmd = ['make_masks.py',\n",
    "           '-s',\n",
    "           sub,\n",
    "           '-roi',\n",
    "           hemi + '.' + roi_id,\n",
    "            '-label',\n",
    "           roi_id,\n",
    "           '-sample cortex',\n",
    "           '-hemi',\n",
    "           hemi,\n",
    "           '-debug',\n",
    "           '-serial']\n",
    "    cmd = ' '.join(cmd)\n",
    "    os.system(cmd)"
   ]
  },
  {
   "cell_type": "code",
   "execution_count": 11,
   "metadata": {
    "collapsed": false
   },
   "outputs": [],
   "source": [
    "in_tuples = []\n",
    "for sub in subs:\n",
    "    for roi in cortical_areas:\n",
    "        in_tuples.append((sub,roi))"
   ]
  },
  {
   "cell_type": "code",
   "execution_count": 12,
   "metadata": {
    "collapsed": false
   },
   "outputs": [],
   "source": [
    "pool = multiprocessing.Pool(50)\n",
    "pool.map(make_mask,in_tuples)\n",
    "pool.terminate()\n",
    "pool.join()"
   ]
  }
 ],
 "metadata": {
  "kernelspec": {
   "display_name": "Python 2",
   "language": "python",
   "name": "python2"
  },
  "language_info": {
   "codemirror_mode": {
    "name": "ipython",
    "version": 2
   },
   "file_extension": ".py",
   "mimetype": "text/x-python",
   "name": "python",
   "nbconvert_exporter": "python",
   "pygments_lexer": "ipython2",
   "version": "2.7.11"
  }
 },
 "nbformat": 4,
 "nbformat_minor": 0
}
