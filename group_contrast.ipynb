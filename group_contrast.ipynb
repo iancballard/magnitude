{
 "cells": [
  {
   "cell_type": "markdown",
   "metadata": {},
   "source": [
    "#Run cross-group analyses that lyman doesn't suppport"
   ]
  },
  {
   "cell_type": "code",
   "execution_count": 7,
   "metadata": {
    "collapsed": false
   },
   "outputs": [],
   "source": [
    "#os and i/o\n",
    "import os\n",
    "import numpy as np\n",
    "import glob\n",
    "from os.path import abspath\n",
    "\n",
    "#scientific computing\n",
    "import matplotlib\n",
    "# import matplotlib.pyplot as plt\n",
    "import pandas as pd\n",
    "from scipy import stats, optimize\n",
    "from pandas import DataFrame, Series\n",
    "import seaborn as sns\n",
    "import random as rd\n",
    "import scipy.stats\n",
    "import multiprocessing\n",
    "##nipype\n",
    "import nibabel as nib\n",
    "\n",
    "%matplotlib inline"
   ]
  },
  {
   "cell_type": "code",
   "execution_count": 22,
   "metadata": {
    "collapsed": false
   },
   "outputs": [
    {
     "name": "stdout",
     "output_type": "stream",
     "text": [
      "['asu4', 'asu8', 'asu10', 'asu11', 'asu12', 'asu13', 'subject03', 'subject04', 'subject05', 'subject06', 'subject08', 'subject09', 'subject10', 'subject11', 'subject12', 'subject13', 'subject14', 'subject20', 'subject21']\n"
     ]
    }
   ],
   "source": [
    "#preliminary housekeeping\n",
    "home_dir = '/data/home/iballard/mag/'\n",
    "subj_file = home_dir + 'subjects.txt'\n",
    "sub_list = list(np.loadtxt(subj_file,'string'))\n",
    "print sub_list\n",
    "os.chdir(home_dir)\n",
    "exps = ['mag-maxSV']\n",
    "runs = map(str,range(1,5))"
   ]
  },
  {
   "cell_type": "code",
   "execution_count": 23,
   "metadata": {
    "collapsed": false
   },
   "outputs": [],
   "source": [
    "group_dir = home_dir + 'analysis/mag-maxSV/randomise/'\n",
    "if not os.path.exists(group_dir):\n",
    "    os.mkdir(group_dir)"
   ]
  },
  {
   "cell_type": "markdown",
   "metadata": {},
   "source": [
    "# Merge files"
   ]
  },
  {
   "cell_type": "code",
   "execution_count": 42,
   "metadata": {
    "collapsed": false
   },
   "outputs": [],
   "source": [
    "#merge the 3d files from ffx analysis into concatenated 4d files\n",
    "images = ['cope']\n",
    "ims_to_files = {'cope':'cope1.nii.gz'}\n",
    "contrasts = glob.glob(home_dir + 'analysis/mag-maxSV/group/mni/*')\n",
    "contrasts = [x.split('/')[-1] for x in contrasts]\n",
    "for contrast in contrasts:\n",
    "    for f in images:\n",
    "        out_dir = group_dir + contrast\n",
    "        if not os.path.exists(out_dir):\n",
    "            os.mkdir(out_dir)\n",
    "\n",
    "        #add files to merge command\n",
    "        out_f = out_dir + '/' + f + '_merged.nii.gz'\n",
    "        if os.path.exists(out_f):\n",
    "            os.remove(out_f)\n",
    "            \n",
    "        cmd_str = ['fslmerge','-t',out_f]\n",
    "\n",
    "        for exp in exps: #order matters now\n",
    "            for sub in sub_list:\n",
    "                sub_dir = home_dir + '/analysis/' + exp + '/' + sub \n",
    "                sub_f = sub_dir + '/ffx/mni/smoothed/' + contrast + '/' + ims_to_files[f]\n",
    "                cmd_str.append(sub_f)\n",
    "        cmd_str = ' '.join(cmd_str)\n",
    "        os.system(cmd_str)"
   ]
  },
  {
   "cell_type": "markdown",
   "metadata": {
    "collapsed": false
   },
   "source": [
    "# Do fitting with randomise"
   ]
  },
  {
   "cell_type": "code",
   "execution_count": 44,
   "metadata": {
    "collapsed": false,
    "scrolled": false
   },
   "outputs": [],
   "source": [
    "#do fitting with randomise\n",
    "#input image files\n",
    "def randomise(contrast):\n",
    "    im_dir = group_dir + contrast + '/'\n",
    "        \n",
    "    stat_file = im_dir + 'cope_merged.nii.gz'\n",
    "    mask_file = home_dir + '/analysis/' + exp + '/group/mni/' + contrast + '/mask.nii.gz'\n",
    "    cmd = ['randomise','-i',stat_file,'-o',im_dir,'-m', mask_file,\n",
    "           '-T','-1','-n','1000','--uncorrp']\n",
    "    cmd = ' '.join(cmd)\n",
    "    os.system(cmd)\n",
    "    \n",
    "    cmd = ['randomise','-i',stat_file,'-o',im_dir,'-m', mask_file,\n",
    "           '-C','1.7','-1','-n','1000']\n",
    "    cmd = ' '.join(cmd)\n",
    "#     os.system(cmd)"
   ]
  },
  {
   "cell_type": "code",
   "execution_count": 46,
   "metadata": {
    "collapsed": false
   },
   "outputs": [],
   "source": [
    "#do fitting with randomise\n",
    "#input image files\n",
    "def fdr(contrast):\n",
    "    im_dir = group_dir + contrast + '/'\n",
    "        \n",
    "    stat_file = im_dir + 'cope_merged.nii.gz'\n",
    "    mask_file = home_dir + '/analysis/' + exp + '/group/mni/' + contrast + '/mask.nii.gz'\n",
    "    \n",
    "    cmd = ['fdr','-i',im_dir + '_tfce_p_tstat1','--oneminusp','-m',\n",
    "           mask_file,'-q', '0.05', '--othresh=' + im_dir + 'fdr_tstat1']\n",
    "    cmd = ' '.join(cmd)\n",
    "    os.system(cmd)\n"
   ]
  },
  {
   "cell_type": "code",
   "execution_count": 47,
   "metadata": {
    "collapsed": false
   },
   "outputs": [],
   "source": [
    "# pool = multiprocessing.Pool(processes = len(contrasts))\n",
    "# pool.map(randomise,contrasts)\n",
    "# pool.terminate()\n",
    "# pool.join()"
   ]
  },
  {
   "cell_type": "code",
   "execution_count": 48,
   "metadata": {
    "collapsed": false
   },
   "outputs": [],
   "source": [
    "pool = multiprocessing.Pool(processes = len(contrasts))\n",
    "pool.map(fdr,contrasts)\n",
    "pool.terminate()\n",
    "pool.join()"
   ]
  },
  {
   "cell_type": "code",
   "execution_count": null,
   "metadata": {
    "collapsed": true
   },
   "outputs": [],
   "source": []
  }
 ],
 "metadata": {
  "kernelspec": {
   "display_name": "Python 2",
   "language": "python",
   "name": "python2"
  },
  "language_info": {
   "codemirror_mode": {
    "name": "ipython",
    "version": 2
   },
   "file_extension": ".py",
   "mimetype": "text/x-python",
   "name": "python",
   "nbconvert_exporter": "python",
   "pygments_lexer": "ipython2",
   "version": "2.7.11"
  }
 },
 "nbformat": 4,
 "nbformat_minor": 0
}
