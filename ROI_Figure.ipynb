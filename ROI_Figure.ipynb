{
 "cells": [
  {
   "cell_type": "markdown",
   "metadata": {},
   "source": [
    "# ROI Figure Notebook"
   ]
  },
  {
   "cell_type": "markdown",
   "metadata": {},
   "source": [
    "This notebook is used to create the figure displaying the parcellation used in these analyses."
   ]
  },
  {
   "cell_type": "code",
   "execution_count": 1,
   "metadata": {
    "collapsed": false
   },
   "outputs": [],
   "source": [
    "import os\n",
    "import os.path as op\n",
    "from surfer import Brain\n",
    "import matplotlib as plt\n",
    "from nipy.labs import viz\n",
    "import nibabel as nib\n",
    "from IPython.display import display, Image\n",
    "from matplotlib import *\n",
    "import matplotlib.pyplot as plt\n",
    "import sys\n",
    "import pylab as pl\n",
    "from scipy.ndimage import binary_erosion\n",
    "import lyman\n",
    "import numpy as np\n",
    "import seaborn as sns\n",
    "from mayavi import mlab\n",
    "sns.set(context=\"paper\", style=\"white\")\n",
    "%matplotlib inline"
   ]
  },
  {
   "cell_type": "code",
   "execution_count": 4,
   "metadata": {
    "collapsed": true
   },
   "outputs": [],
   "source": [
    "home_dir = '/home/iballard/mag/'"
   ]
  },
  {
   "cell_type": "code",
   "execution_count": 5,
   "metadata": {
    "collapsed": false
   },
   "outputs": [],
   "source": [
    "views = dict(pfc=dict(lh=[135, 80, 290, [20, 15, -5]],\n",
    "                      rh=[45, 80, 290, [-20, 15, -5]]),\n",
    "            vmpfc=dict(lh=[0, 90, 320, [0, 0, 0]],\n",
    "                      rh=[0, -90, 320, [0, 0, 0]]))\n"
   ]
  },
  {
   "cell_type": "code",
   "execution_count": 6,
   "metadata": {
    "collapsed": false
   },
   "outputs": [],
   "source": [
    "opts = dict(width=1000, height=1000, background=\"white\")\n",
    "ctab = '/home/iballard/mag/data/fsaverage/label/pfc.ctab'"
   ]
  },
  {
   "cell_type": "code",
   "execution_count": 17,
   "metadata": {
    "collapsed": false
   },
   "outputs": [
    {
     "name": "stdout",
     "output_type": "stream",
     "text": [
      "mris_label2annot --s fsaverage --ctab /home/iballard/mag/data/fsaverage/label/pfc.ctab --h lh --a pfc_rois --nhits nhits.mgh --l lh.yeo17_amfg.label --l lh.yeo17_pmfg.label --l lh.yeo17_fpc.label --l lh.yeo17_ifg.label --l lh.yeo17_psfs.label --l lh.yeo17_ifs.label --l lh.yeo17_ains.label --l lh.vmpfc_bartre_smooth.label\n",
      "mris_label2annot --s fsaverage --ctab /home/iballard/mag/data/fsaverage/label/pfc.ctab --h rh --a pfc_rois --nhits nhits.mgh --l rh.yeo17_amfg.label --l rh.yeo17_pmfg.label --l rh.yeo17_fpc.label --l rh.yeo17_ifg.label --l rh.yeo17_psfs.label --l rh.yeo17_ifs.label --l rh.yeo17_ains.label --l rh.vmpfc_bartre_smooth.label\n"
     ]
    }
   ],
   "source": [
    "os.chdir('/home/iballard/mag/data/fsaverage/label')\n",
    "rois = ['_amfg',\n",
    "        '_pmfg',\n",
    "        '_fpc',\n",
    "        '_ifg',\n",
    "        '_psfs',\n",
    "        '_ifs',\n",
    "       '_ains']\n",
    "for hemi in ['lh','rh']:\n",
    "    annot = hemi + '.pfc_rois.annot'\n",
    "    if os.path.exists(annot):\n",
    "        os.remove(annot)\n",
    "        \n",
    "    cmd = ['mris_label2annot','--s','fsaverage',\n",
    "           '--ctab', ctab,\n",
    "          '--h',hemi,'--a','pfc_rois','--nhits', 'nhits.mgh']\n",
    "    for r in rois:\n",
    "        cmd += ['--l',hemi + '.yeo17' + r + '.label']\n",
    "        \n",
    "    cmd += ['--l',hemi + '.vmpfc_bartre_smooth.label']\n",
    "    \n",
    "    print ' '.join(cmd)\n",
    "    os.system(' '.join(cmd))\n"
   ]
  },
  {
   "cell_type": "markdown",
   "metadata": {},
   "source": [
    "Use PySurfer to draw the surfaces with the full annotation"
   ]
  },
  {
   "cell_type": "code",
   "execution_count": 19,
   "metadata": {
    "collapsed": false
   },
   "outputs": [],
   "source": [
    "annot_shots = dict(pfc=dict(), vmpfc=dict())\n",
    "for hemi in [\"lh\", \"rh\"]:\n",
    "    b = Brain(\"fsaverage\", hemi, \"semi7\", config_opts=opts)\n",
    "    b.add_annotation(\"pfc_rois\", alpha=.8, borders=False)\n",
    "    for view in views:\n",
    "        mlab.view(*views[view][hemi])\n",
    "        annot_shots[view][hemi] = mlab.screenshot()\n",
    "        mlab.savefig('/home/iballard/Dropbox/mag_figs/' + view + '_' + hemi + '_rois.png')\n",
    "    b.close()"
   ]
  },
  {
   "cell_type": "code",
   "execution_count": null,
   "metadata": {
    "collapsed": true
   },
   "outputs": [],
   "source": []
  }
 ],
 "metadata": {
  "kernelspec": {
   "display_name": "Python 2",
   "language": "python",
   "name": "python2"
  },
  "language_info": {
   "codemirror_mode": {
    "name": "ipython",
    "version": 2
   },
   "file_extension": ".py",
   "mimetype": "text/x-python",
   "name": "python",
   "nbconvert_exporter": "python",
   "pygments_lexer": "ipython2",
   "version": "2.7.11"
  }
 },
 "nbformat": 4,
 "nbformat_minor": 0
}
