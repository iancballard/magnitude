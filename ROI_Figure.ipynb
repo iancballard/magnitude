{
 "cells": [
  {
   "cell_type": "markdown",
   "metadata": {},
   "source": [
    "# ROI Figure Notebook"
   ]
  },
  {
   "cell_type": "markdown",
   "metadata": {},
   "source": [
    "This notebook is used to create the figure displaying the parcellation used in these analyses."
   ]
  },
  {
   "cell_type": "code",
   "execution_count": 1,
   "metadata": {
    "collapsed": false
   },
   "outputs": [],
   "source": [
    "import os\n",
    "import os.path as op\n",
    "from surfer import Brain\n",
    "import matplotlib as plt\n",
    "from nipy.labs import viz\n",
    "import nibabel as nib\n",
    "from IPython.display import display, Image\n",
    "from matplotlib import *\n",
    "import matplotlib.pyplot as plt\n",
    "import sys\n",
    "import pylab as pl\n",
    "from scipy.ndimage import binary_erosion\n",
    "import lyman\n",
    "import moss\n",
    "import numpy as np\n",
    "import seaborn as sns\n",
    "from mayavi import mlab\n",
    "sns.set(context=\"paper\", style=\"white\")\n",
    "%matplotlib inline"
   ]
  },
  {
   "cell_type": "code",
   "execution_count": 1,
   "metadata": {
    "collapsed": true
   },
   "outputs": [],
   "source": [
    "home_dir = '/home/iballard/mag/'"
   ]
  },
  {
   "cell_type": "code",
   "execution_count": 3,
   "metadata": {
    "collapsed": false
   },
   "outputs": [],
   "source": [
    "# views = dict(pfc=dict(lh=[135, 80, 290, [20, 15, -5]],\n",
    "#                       rh=[45, 80, 290, [-20, 15, -5]]),\n",
    "#              net=dict(lh=[230, 65, 335, [40, 15, -20]],\n",
    "#                       rh=[-105, 105, 290, [0, -15, 0]]))\n",
    "views = dict(pfc=dict(lh=[0, 90, 290, [40, 15, 20]],\n",
    "                      rh=[0, 90, 290, [40, 15, 20]]))"
   ]
  },
  {
   "cell_type": "code",
   "execution_count": 4,
   "metadata": {
    "collapsed": false
   },
   "outputs": [],
   "source": [
    "opts = dict(width=800, height=800, background=\"white\")\n",
    "ctab = '/home/iballard/mag/data/fsaverage/label/pfc.ctab'"
   ]
  },
  {
   "cell_type": "code",
   "execution_count": 39,
   "metadata": {
    "collapsed": false
   },
   "outputs": [
    {
     "name": "stdout",
     "output_type": "stream",
     "text": [
      "mris_label2annot --s fsaverage --ctab /home/iballard/mag/data/fsaverage/label/pfc.ctab --h lh --a pfc_rois --nhits nhits.mgh --l lh.yeo17_amfg.label --l lh.yeo17_pmfg.label --l lh.yeo17_fpc.label --l lh.yeo17_ifg.label --l lh.yeo17_psfs.label --l lh.yeo17_ifs.label --l lh.yeo17_ains.label --l lh.vmpfc_bartre.label\n",
      "mris_label2annot --s fsaverage --ctab /home/iballard/mag/data/fsaverage/label/pfc.ctab --h rh --a pfc_rois --nhits nhits.mgh --l rh.yeo17_amfg.label --l rh.yeo17_pmfg.label --l rh.yeo17_fpc.label --l rh.yeo17_ifg.label --l rh.yeo17_psfs.label --l rh.yeo17_ifs.label --l rh.yeo17_ains.label --l rh.vmpfc_bartre.label\n"
     ]
    }
   ],
   "source": [
    "os.chdir('/home/iballard/mag/data/fsaverage/label')\n",
    "rois = ['_amfg',\n",
    "        '_pmfg',\n",
    "        '_fpc',\n",
    "        '_ifg',\n",
    "        '_psfs',\n",
    "        '_ifs',\n",
    "       '_ains']\n",
    "for hemi in ['lh','rh']:\n",
    "    annot = hemi + '.pfc_rois.annot'\n",
    "    if os.path.exists(annot):\n",
    "        os.remove(annot)\n",
    "        \n",
    "    cmd = ['mris_label2annot','--s','fsaverage',\n",
    "           '--ctab', ctab,\n",
    "          '--h',hemi,'--a','pfc_rois','--nhits', 'nhits.mgh']\n",
    "    for r in rois:\n",
    "        cmd += ['--l',hemi + '.yeo17' + r + '.label']\n",
    "        \n",
    "    cmd += ['--l',hemi + '.vmpfc_bartre.label']\n",
    "    \n",
    "    print ' '.join(cmd)\n",
    "    os.system(' '.join(cmd))\n"
   ]
  },
  {
   "cell_type": "markdown",
   "metadata": {},
   "source": [
    "Use PySurfer to draw the surfaces with the full annotation"
   ]
  },
  {
   "cell_type": "code",
   "execution_count": 29,
   "metadata": {
    "collapsed": false
   },
   "outputs": [],
   "source": [
    "annot_shots = dict(pfc=dict(), net=dict())\n",
    "for hemi in [\"lh\", \"rh\"]:\n",
    "    b = Brain(\"fsaverage\", hemi, \"semi7\", config_opts=opts)\n",
    "    b.add_annotation(\"pfc_rois\", alpha=.8, borders=False)\n",
    "    for view in [\"pfc\"]:\n",
    "        mlab.view(*views[view][hemi])\n",
    "        annot_shots[view][hemi] = mlab.screenshot()\n",
    "        mlab.savefig(home_dir + '/figs/' + view + '_' + hemi + '_rois.png')\n",
    "    b.close()"
   ]
  },
  {
   "cell_type": "code",
   "execution_count": 3,
   "metadata": {
    "collapsed": false,
    "scrolled": true
   },
   "outputs": [],
   "source": [
    "%gui qt\n",
    "hemi = \"lh\"\n",
    "surf = \"semi7\"\n",
    "brain = Brain(\"fsaverage\", hemi, surf)\n",
    "\n",
    "\n",
    "brain.add_label(\"vmpfc_bartre\")\n"
   ]
  },
  {
   "cell_type": "code",
   "execution_count": 2,
   "metadata": {
    "collapsed": false
   },
   "outputs": [
    {
     "name": "stdout",
     "output_type": "stream",
     "text": [
      "mri_vol2surf --mov /home/iballard/mag//rois/vmpfc_bartre_5way.nii.gz --hemi lh --surf white --reg /software/freesurfer/v5.3.0/average/mni152.register.dat --projfrac-avg 0 1 0.1 --surf-fwhm 3 --o /tmp/pysurfer-v2sVsY8iJ.mgz\n",
      "mri_vol2surf --mov /home/iballard/mag//rois/vmpfc_bartre_5way.nii.gz --hemi lh --surf white --regheader fsaverage --projfrac-avg 0 1 0.1 --surf-fwhm 0.5 --o /tmp/pysurfer-v2sWHpNsM.mgz\n"
     ]
    },
    {
     "name": "stderr",
     "output_type": "stream",
     "text": [
      "/home/iballard/anaconda/lib/python2.7/site-packages/mayavi/tools/camera.py:288: FutureWarning: elementwise comparison failed; returning scalar instead, but in the future will perform elementwise comparison\n",
      "  if focalpoint is not None and not focalpoint == 'auto':\n"
     ]
    },
    {
     "data": {
      "text/plain": [
       "((0.0, 90.0, 432.11123657226562, array([ 0.,  0.,  0.])), -90.0)"
      ]
     },
     "execution_count": 2,
     "metadata": {},
     "output_type": "execute_result"
    }
   ],
   "source": [
    "import os\n",
    "from surfer import Brain, project_volume_data\n",
    "%gui qt\n",
    "\n",
    "brain = Brain(\"fsaverage\", \"lh\", \"inflated\")\n",
    "\n",
    "\"\"\"\n",
    "Get a path to the volume file.\n",
    "\"\"\"\n",
    "volume_file = home_dir + \"/rois/vmpfc_bartre_5way.nii.gz\"\n",
    "\n",
    "\"\"\"\n",
    "There are two options for specifying the registration between the volume and\n",
    "the surface you want to plot on. The first is to give a path to a\n",
    "Freesurfer-style linear transformation matrix that will align the statistical\n",
    "volume with the Freesurfer anatomy.\n",
    "\n",
    "Most of the time you will be plotting data that are in MNI152 space on the\n",
    "fsaverage brain. For this case, Freesurfer actually ships a registration matrix\n",
    "file to align your data with the surface.\n",
    "\"\"\"\n",
    "reg_file = os.path.join(os.environ[\"FREESURFER_HOME\"],\n",
    "                        \"average/mni152.register.dat\")\n",
    "zstat = project_volume_data(volume_file, \"lh\", reg_file)\n",
    "\n",
    "\"\"\"\n",
    "Note that the contours of the fsaverage surface don't perfectly match the\n",
    "MNI brain, so this will only approximate the location of your activation\n",
    "(although it generally does a pretty good job). A more accurate way to\n",
    "visualize data would be to run the MNI152 brain through the recon-all pipeline.\n",
    "\n",
    "Alternatively, if your data are already in register with the Freesurfer\n",
    "anatomy, you can provide project_volume_data with the subject ID, avoiding the\n",
    "need to specify a registration file.\n",
    "\n",
    "By default, 3mm of smoothing is applied on the surface to clean up the overlay\n",
    "a bit, although the extent of smoothing can be controlled.\n",
    "\"\"\"\n",
    "zstat = project_volume_data(volume_file, \"lh\",\n",
    "                            subject_id=\"fsaverage\", smooth_fwhm=0.5)\n",
    "\n",
    "\"\"\"\n",
    "Once you have the statistical data loaded into Python, you can simply pass it\n",
    "to the `add_overlay` method of the Brain object.\n",
    "\"\"\"\n",
    "brain.add_overlay(zstat, min=.1, max=2)\n",
    "\n",
    "\n",
    "brain.show_view(\"medial\")"
   ]
  },
  {
   "cell_type": "code",
   "execution_count": null,
   "metadata": {
    "collapsed": true
   },
   "outputs": [],
   "source": []
  }
 ],
 "metadata": {
  "kernelspec": {
   "display_name": "Python 2",
   "language": "python",
   "name": "python2"
  },
  "language_info": {
   "codemirror_mode": {
    "name": "ipython",
    "version": 2
   },
   "file_extension": ".py",
   "mimetype": "text/x-python",
   "name": "python",
   "nbconvert_exporter": "python",
   "pygments_lexer": "ipython2",
   "version": "2.7.11"
  }
 },
 "nbformat": 4,
 "nbformat_minor": 0
}
