{
 "cells": [
  {
   "cell_type": "code",
   "execution_count": 1,
   "metadata": {
    "collapsed": true
   },
   "outputs": [],
   "source": [
    "from moss.mosaic import Mosaic\n",
    "import nibabel as nib\n",
    "import multiprocessing\n",
    "#os and i/o\n",
    "import os\n",
    "import numpy as np\n",
    "import glob\n",
    "from os.path import abspath\n",
    "import csv\n",
    "import shutil\n",
    "import gc"
   ]
  },
  {
   "cell_type": "code",
   "execution_count": 2,
   "metadata": {
    "collapsed": true
   },
   "outputs": [],
   "source": [
    "#preliminary housekeeping\n",
    "home_dir = '/data/home/iballard/mag/'\n",
    "subj_file = home_dir + 'subjects.txt'\n",
    "subs = list(np.loadtxt(subj_file,'string'))\n",
    "os.chdir(home_dir)\n",
    "subs = ['asu11','asu12']"
   ]
  },
  {
   "cell_type": "code",
   "execution_count": 3,
   "metadata": {
    "collapsed": false
   },
   "outputs": [],
   "source": [
    "#get cal scans\n",
    "for sub in subs:\n",
    "    for run in range(1,5):\n",
    "        cal_dir = home_dir + '/data/' + sub +'/cal/'\n",
    "        pe1s = glob.glob(cal_dir + 'cal*')\n",
    "\n",
    "        #pe1 from cal\n",
    "        if run < 3:\n",
    "            pe1 = pe1s[0] #take the first one\n",
    "        else:\n",
    "            pe1 = pe1s[1]\n",
    "            \n",
    "        out_pe1 = cal_dir + 'pe1_slice_' + str(run)\n",
    "        cmd = ['fslroi',pe1,out_pe1,'4','1'] #last slice of pe\n",
    "        os.system(' '.join(cmd))\n",
    "\n",
    "        #pe0 from main scans\n",
    "        out_pe0 = cal_dir + 'pe0_slice_' + str(run)\n",
    "        in_f =  home_dir + '/data/' + sub +'/func/run' + str(run) + '.nii.gz'\n",
    "        data = nib.load(in_f)\n",
    "        idx = data.shape[-1]//2 #middle volume\n",
    "        cmd = ['fslroi',in_f,out_pe0,str(idx),'1']\n",
    "        os.system(' '.join(cmd))\n",
    "\n",
    "        #merge\n",
    "        out_f = cal_dir + 'merged_' + str(run)\n",
    "        cmd = ['fslmerge','-t',out_f,out_pe0,out_pe1]\n",
    "        os.system(' '.join(cmd))\n",
    "\n",
    "        #mccflirt\n",
    "        cmd = ['mcflirt','-in',out_f,'-refvol','0'] #register to functional run\n",
    "        os.system(' '.join(cmd))\n"
   ]
  },
  {
   "cell_type": "code",
   "execution_count": null,
   "metadata": {
    "collapsed": true
   },
   "outputs": [],
   "source": []
  }
 ],
 "metadata": {
  "kernelspec": {
   "display_name": "Python 2",
   "language": "python",
   "name": "python2"
  },
  "language_info": {
   "codemirror_mode": {
    "name": "ipython",
    "version": 2
   },
   "file_extension": ".py",
   "mimetype": "text/x-python",
   "name": "python",
   "nbconvert_exporter": "python",
   "pygments_lexer": "ipython2",
   "version": "2.7.11"
  }
 },
 "nbformat": 4,
 "nbformat_minor": 0
}
